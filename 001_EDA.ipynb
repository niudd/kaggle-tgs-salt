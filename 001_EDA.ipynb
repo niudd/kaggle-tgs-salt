{
 "cells": [
  {
   "cell_type": "code",
   "execution_count": 1,
   "metadata": {},
   "outputs": [
    {
     "name": "stderr",
     "output_type": "stream",
     "text": [
      "/home/endi/anaconda3/lib/python3.6/site-packages/h5py/__init__.py:36: FutureWarning: Conversion of the second argument of issubdtype from `float` to `np.floating` is deprecated. In future, it will be treated as `np.float64 == np.dtype(float).type`.\n",
      "  from ._conv import register_converters as _register_converters\n",
      "Using TensorFlow backend.\n"
     ]
    }
   ],
   "source": [
    "from __future__ import print_function, division\n",
    "\n",
    "import numpy as np\n",
    "import pandas as pd\n",
    "from matplotlib import pyplot as plt\n",
    "from PIL import Image\n",
    "from keras.preprocessing.image import load_img\n",
    "\n",
    "from glob import glob\n",
    "\n",
    "%matplotlib inline"
   ]
  },
  {
   "cell_type": "markdown",
   "metadata": {},
   "source": [
    "The images are 101 x 101 pixels and each pixel is classified as either salt or sediment.\n",
    "\n",
    "$$\n",
    "\\begin{bmatrix}\n",
    "1 & 102 & ...\\\\\n",
    "2 & 103 & ...\\\\\n",
    "3 & 104 & ...\\\\\n",
    "... & ...\\\\\n",
    "101 & 202 & 10201\\\\\n",
    "\\end{bmatrix}_{101x101}\n",
    "$$"
   ]
  },
  {
   "cell_type": "code",
   "execution_count": 2,
   "metadata": {},
   "outputs": [
    {
     "name": "stdout",
     "output_type": "stream",
     "text": [
      "4000 18000\n",
      "4000 0\n"
     ]
    }
   ],
   "source": [
    "train_images_f = glob('data/raw/train_images/images/*')\n",
    "test_images_f = glob('data/raw/test_images/images/*')\n",
    "\n",
    "# The goal of the competition is to segment regions that contain salt.\n",
    "train_masks_f = glob('data/raw/train_images/masks/*')\n",
    "test_masks_f = glob('data/raw/test_images/masks/*')\n",
    "\n",
    "print(len(train_images_f), len(test_images_f))\n",
    "print(len(train_masks_f), len(test_masks_f))"
   ]
  },
  {
   "cell_type": "code",
   "execution_count": null,
   "metadata": {},
   "outputs": [],
   "source": []
  },
  {
   "cell_type": "code",
   "execution_count": 3,
   "metadata": {},
   "outputs": [],
   "source": [
    "# In addition to the seismic images, the depth of the imaged location is provided for each image. \n",
    "depths = pd.read_csv('data/raw/depths.csv')"
   ]
  },
  {
   "cell_type": "code",
   "execution_count": 4,
   "metadata": {
    "scrolled": true
   },
   "outputs": [
    {
     "data": {
      "text/html": [
       "<div>\n",
       "<style scoped>\n",
       "    .dataframe tbody tr th:only-of-type {\n",
       "        vertical-align: middle;\n",
       "    }\n",
       "\n",
       "    .dataframe tbody tr th {\n",
       "        vertical-align: top;\n",
       "    }\n",
       "\n",
       "    .dataframe thead th {\n",
       "        text-align: right;\n",
       "    }\n",
       "</style>\n",
       "<table border=\"1\" class=\"dataframe\">\n",
       "  <thead>\n",
       "    <tr style=\"text-align: right;\">\n",
       "      <th></th>\n",
       "      <th>id</th>\n",
       "      <th>z</th>\n",
       "    </tr>\n",
       "  </thead>\n",
       "  <tbody>\n",
       "    <tr>\n",
       "      <th>0</th>\n",
       "      <td>4ac19fb269</td>\n",
       "      <td>306</td>\n",
       "    </tr>\n",
       "    <tr>\n",
       "      <th>1</th>\n",
       "      <td>1825fadf99</td>\n",
       "      <td>157</td>\n",
       "    </tr>\n",
       "    <tr>\n",
       "      <th>2</th>\n",
       "      <td>f59821d067</td>\n",
       "      <td>305</td>\n",
       "    </tr>\n",
       "    <tr>\n",
       "      <th>3</th>\n",
       "      <td>5b435fad9d</td>\n",
       "      <td>503</td>\n",
       "    </tr>\n",
       "    <tr>\n",
       "      <th>4</th>\n",
       "      <td>e340e7bfca</td>\n",
       "      <td>783</td>\n",
       "    </tr>\n",
       "  </tbody>\n",
       "</table>\n",
       "</div>"
      ],
      "text/plain": [
       "           id    z\n",
       "0  4ac19fb269  306\n",
       "1  1825fadf99  157\n",
       "2  f59821d067  305\n",
       "3  5b435fad9d  503\n",
       "4  e340e7bfca  783"
      ]
     },
     "execution_count": 4,
     "metadata": {},
     "output_type": "execute_result"
    }
   ],
   "source": [
    "depths.head(5)"
   ]
  },
  {
   "cell_type": "code",
   "execution_count": 5,
   "metadata": {},
   "outputs": [
    {
     "data": {
      "text/html": [
       "<div>\n",
       "<style scoped>\n",
       "    .dataframe tbody tr th:only-of-type {\n",
       "        vertical-align: middle;\n",
       "    }\n",
       "\n",
       "    .dataframe tbody tr th {\n",
       "        vertical-align: top;\n",
       "    }\n",
       "\n",
       "    .dataframe thead th {\n",
       "        text-align: right;\n",
       "    }\n",
       "</style>\n",
       "<table border=\"1\" class=\"dataframe\">\n",
       "  <thead>\n",
       "    <tr style=\"text-align: right;\">\n",
       "      <th></th>\n",
       "      <th>id</th>\n",
       "      <th>rle_mask</th>\n",
       "    </tr>\n",
       "  </thead>\n",
       "  <tbody>\n",
       "    <tr>\n",
       "      <th>0</th>\n",
       "      <td>575d24d81d</td>\n",
       "      <td>NaN</td>\n",
       "    </tr>\n",
       "    <tr>\n",
       "      <th>1</th>\n",
       "      <td>a266a2a9df</td>\n",
       "      <td>5051 5151</td>\n",
       "    </tr>\n",
       "    <tr>\n",
       "      <th>2</th>\n",
       "      <td>75efad62c1</td>\n",
       "      <td>9 93 109 94 210 94 310 95 411 95 511 96 612 96...</td>\n",
       "    </tr>\n",
       "    <tr>\n",
       "      <th>3</th>\n",
       "      <td>34e51dba6a</td>\n",
       "      <td>48 54 149 54 251 53 353 52 455 51 557 50 659 4...</td>\n",
       "    </tr>\n",
       "    <tr>\n",
       "      <th>4</th>\n",
       "      <td>4875705fb0</td>\n",
       "      <td>1111 1 1212 1 1313 1 1414 1 1514 2 1615 2 1716...</td>\n",
       "    </tr>\n",
       "  </tbody>\n",
       "</table>\n",
       "</div>"
      ],
      "text/plain": [
       "           id                                           rle_mask\n",
       "0  575d24d81d                                                NaN\n",
       "1  a266a2a9df                                          5051 5151\n",
       "2  75efad62c1  9 93 109 94 210 94 310 95 411 95 511 96 612 96...\n",
       "3  34e51dba6a  48 54 149 54 251 53 353 52 455 51 557 50 659 4...\n",
       "4  4875705fb0  1111 1 1212 1 1313 1 1414 1 1514 2 1615 2 1716..."
      ]
     },
     "execution_count": 5,
     "metadata": {},
     "output_type": "execute_result"
    }
   ],
   "source": [
    "train = pd.read_csv('data/raw/train.csv')\n",
    "train.head(5)"
   ]
  },
  {
   "cell_type": "code",
   "execution_count": 6,
   "metadata": {
    "scrolled": true
   },
   "outputs": [
    {
     "data": {
      "text/html": [
       "<div>\n",
       "<style scoped>\n",
       "    .dataframe tbody tr th:only-of-type {\n",
       "        vertical-align: middle;\n",
       "    }\n",
       "\n",
       "    .dataframe tbody tr th {\n",
       "        vertical-align: top;\n",
       "    }\n",
       "\n",
       "    .dataframe thead th {\n",
       "        text-align: right;\n",
       "    }\n",
       "</style>\n",
       "<table border=\"1\" class=\"dataframe\">\n",
       "  <thead>\n",
       "    <tr style=\"text-align: right;\">\n",
       "      <th></th>\n",
       "      <th>id</th>\n",
       "      <th>rle_mask</th>\n",
       "    </tr>\n",
       "  </thead>\n",
       "  <tbody>\n",
       "    <tr>\n",
       "      <th>1</th>\n",
       "      <td>a266a2a9df</td>\n",
       "      <td>5051 5151</td>\n",
       "    </tr>\n",
       "    <tr>\n",
       "      <th>2</th>\n",
       "      <td>75efad62c1</td>\n",
       "      <td>9 93 109 94 210 94 310 95 411 95 511 96 612 96...</td>\n",
       "    </tr>\n",
       "    <tr>\n",
       "      <th>3</th>\n",
       "      <td>34e51dba6a</td>\n",
       "      <td>48 54 149 54 251 53 353 52 455 51 557 50 659 4...</td>\n",
       "    </tr>\n",
       "    <tr>\n",
       "      <th>4</th>\n",
       "      <td>4875705fb0</td>\n",
       "      <td>1111 1 1212 1 1313 1 1414 1 1514 2 1615 2 1716...</td>\n",
       "    </tr>\n",
       "    <tr>\n",
       "      <th>5</th>\n",
       "      <td>782ae9b7e7</td>\n",
       "      <td>1 1815 1819 90 1920 81 2021 73 2122 64 2223 55...</td>\n",
       "    </tr>\n",
       "    <tr>\n",
       "      <th>7</th>\n",
       "      <td>aa94cfb806</td>\n",
       "      <td>1 28 102 28 203 29 304 30 405 32 506 33 607 34...</td>\n",
       "    </tr>\n",
       "    <tr>\n",
       "      <th>8</th>\n",
       "      <td>50d3073821</td>\n",
       "      <td>1 2121 9293 909</td>\n",
       "    </tr>\n",
       "    <tr>\n",
       "      <th>10</th>\n",
       "      <td>b5e1371b3b</td>\n",
       "      <td>75 27 175 28 275 29 374 31 474 32 574 33 674 3...</td>\n",
       "    </tr>\n",
       "    <tr>\n",
       "      <th>12</th>\n",
       "      <td>b45ad3932e</td>\n",
       "      <td>49 11 149 11 249 11 351 10 452 9 553 9 654 8 7...</td>\n",
       "    </tr>\n",
       "    <tr>\n",
       "      <th>14</th>\n",
       "      <td>d4d34af4f7</td>\n",
       "      <td>8788 1414</td>\n",
       "    </tr>\n",
       "    <tr>\n",
       "      <th>15</th>\n",
       "      <td>302ea1ac81</td>\n",
       "      <td>6 96 108 95 210 94 311 94 413 93 515 92 615 93...</td>\n",
       "    </tr>\n",
       "    <tr>\n",
       "      <th>16</th>\n",
       "      <td>40dcff68b3</td>\n",
       "      <td>3536 4 3637 20 3738 36 3839 53 3940 70 4041 86...</td>\n",
       "    </tr>\n",
       "    <tr>\n",
       "      <th>17</th>\n",
       "      <td>7845115d01</td>\n",
       "      <td>7677 2525</td>\n",
       "    </tr>\n",
       "    <tr>\n",
       "      <th>18</th>\n",
       "      <td>3da729cae9</td>\n",
       "      <td>1 54 102 54 203 53 304 53 405 53 506 53 607 53...</td>\n",
       "    </tr>\n",
       "    <tr>\n",
       "      <th>20</th>\n",
       "      <td>b3396387a6</td>\n",
       "      <td>42 60 141 62 241 63 341 64 441 65 542 65 642 6...</td>\n",
       "    </tr>\n",
       "    <tr>\n",
       "      <th>21</th>\n",
       "      <td>a5471f53d8</td>\n",
       "      <td>9797 1 9891 8 9986 14 10081 20 10176 26</td>\n",
       "    </tr>\n",
       "    <tr>\n",
       "      <th>22</th>\n",
       "      <td>d27831fef2</td>\n",
       "      <td>93 9 195 8 296 8 397 8 498 8 599 8 701 7 802 7...</td>\n",
       "    </tr>\n",
       "    <tr>\n",
       "      <th>23</th>\n",
       "      <td>7faea04242</td>\n",
       "      <td>1 6865 6869 92 6970 86 7071 81 7172 76 7273 71...</td>\n",
       "    </tr>\n",
       "    <tr>\n",
       "      <th>25</th>\n",
       "      <td>b9614348f4</td>\n",
       "      <td>1 3434 3439 97 3544 93 3647 91 3749 90 3853 87...</td>\n",
       "    </tr>\n",
       "    <tr>\n",
       "      <th>26</th>\n",
       "      <td>4696bb53e6</td>\n",
       "      <td>23 79 127 76 228 76 335 70 439 67 543 64 650 5...</td>\n",
       "    </tr>\n",
       "    <tr>\n",
       "      <th>27</th>\n",
       "      <td>fc250f574c</td>\n",
       "      <td>3435 1 3536 1 3637 2 3738 2 3839 3 3940 3 4041...</td>\n",
       "    </tr>\n",
       "    <tr>\n",
       "      <th>29</th>\n",
       "      <td>02117a400e</td>\n",
       "      <td>4041 1 4142 4 4243 7 4344 10 4445 13 4546 15 4...</td>\n",
       "    </tr>\n",
       "    <tr>\n",
       "      <th>31</th>\n",
       "      <td>1ee0d5b4d0</td>\n",
       "      <td>1412 3 1511 5 1605 12 1704 14 1804 15 1904 16 ...</td>\n",
       "    </tr>\n",
       "    <tr>\n",
       "      <th>32</th>\n",
       "      <td>fdc28cafdc</td>\n",
       "      <td>6869 1 7172 1 7273 2 7374 5 7475 6 7576 7 7677...</td>\n",
       "    </tr>\n",
       "    <tr>\n",
       "      <th>33</th>\n",
       "      <td>2bc8a3db3c</td>\n",
       "      <td>68 34 168 35 268 36 369 36 470 36 570 37 671 3...</td>\n",
       "    </tr>\n",
       "    <tr>\n",
       "      <th>34</th>\n",
       "      <td>35fd991255</td>\n",
       "      <td>1 505 511 96 613 95 718 91 820 90 923 88 1026 ...</td>\n",
       "    </tr>\n",
       "    <tr>\n",
       "      <th>35</th>\n",
       "      <td>68a2df3195</td>\n",
       "      <td>1 1919 1921 100 2023 99 2126 97 2228 96 2330 9...</td>\n",
       "    </tr>\n",
       "    <tr>\n",
       "      <th>38</th>\n",
       "      <td>9bf982cf65</td>\n",
       "      <td>1 85 102 86 203 87 304 88 405 89 506 90 607 91...</td>\n",
       "    </tr>\n",
       "    <tr>\n",
       "      <th>39</th>\n",
       "      <td>36aa21019e</td>\n",
       "      <td>173 8 271 21 369 36 466 40 562 45 657 51 751 5...</td>\n",
       "    </tr>\n",
       "    <tr>\n",
       "      <th>44</th>\n",
       "      <td>0b176124c4</td>\n",
       "      <td>8788 3 8889 6 8990 10 9091 14 9192 18 9293 22 ...</td>\n",
       "    </tr>\n",
       "    <tr>\n",
       "      <th>...</th>\n",
       "      <td>...</td>\n",
       "      <td>...</td>\n",
       "    </tr>\n",
       "    <tr>\n",
       "      <th>3946</th>\n",
       "      <td>03a9a9f615</td>\n",
       "      <td>1 806 809 95 910 91 1011 86 1112 82 1213 78 13...</td>\n",
       "    </tr>\n",
       "    <tr>\n",
       "      <th>3951</th>\n",
       "      <td>1751290ca2</td>\n",
       "      <td>2010 11 2090 32 2173 50 2262 62 2348 77 2437 8...</td>\n",
       "    </tr>\n",
       "    <tr>\n",
       "      <th>3954</th>\n",
       "      <td>af171a3570</td>\n",
       "      <td>6454 11 6509 57 6601 66 6697 71 6798 71 6900 7...</td>\n",
       "    </tr>\n",
       "    <tr>\n",
       "      <th>3956</th>\n",
       "      <td>a562619124</td>\n",
       "      <td>42 60 143 60 244 60 345 60 446 60 547 60 648 6...</td>\n",
       "    </tr>\n",
       "    <tr>\n",
       "      <th>3957</th>\n",
       "      <td>d0eb51a04f</td>\n",
       "      <td>707 1 804 5 901 9 998 13 1096 16 1193 20 1288 ...</td>\n",
       "    </tr>\n",
       "    <tr>\n",
       "      <th>3960</th>\n",
       "      <td>fbc98aedc0</td>\n",
       "      <td>6060 1 6160 2 6260 3 6360 4 6460 5 6560 6 6660...</td>\n",
       "    </tr>\n",
       "    <tr>\n",
       "      <th>3962</th>\n",
       "      <td>9511856b03</td>\n",
       "      <td>74 28 175 28 275 29 376 29 476 30 576 31 676 3...</td>\n",
       "    </tr>\n",
       "    <tr>\n",
       "      <th>3963</th>\n",
       "      <td>0108518d1e</td>\n",
       "      <td>1 1717 1719 100 1820 100 1921 100 2022 100 212...</td>\n",
       "    </tr>\n",
       "    <tr>\n",
       "      <th>3964</th>\n",
       "      <td>c78996aa02</td>\n",
       "      <td>1616 1 1715 3 1815 4 1913 7 2012 9 2111 11 221...</td>\n",
       "    </tr>\n",
       "    <tr>\n",
       "      <th>3965</th>\n",
       "      <td>f7e8060b57</td>\n",
       "      <td>303 1 397 8 491 15 585 22 680 28 776 33 873 37...</td>\n",
       "    </tr>\n",
       "    <tr>\n",
       "      <th>3967</th>\n",
       "      <td>fb47e8e74e</td>\n",
       "      <td>6364 3838</td>\n",
       "    </tr>\n",
       "    <tr>\n",
       "      <th>3968</th>\n",
       "      <td>4c43d99f68</td>\n",
       "      <td>7878 1 7979 1 8080 1 8181 1 8281 2 8382 2 8483...</td>\n",
       "    </tr>\n",
       "    <tr>\n",
       "      <th>3969</th>\n",
       "      <td>93196366e1</td>\n",
       "      <td>8987 3 9085 6 9184 8 9284 9 9384 10 9484 11 95...</td>\n",
       "    </tr>\n",
       "    <tr>\n",
       "      <th>3970</th>\n",
       "      <td>16207869ba</td>\n",
       "      <td>3447 41 3528 71 3618 6584</td>\n",
       "    </tr>\n",
       "    <tr>\n",
       "      <th>3971</th>\n",
       "      <td>44d745a704</td>\n",
       "      <td>91 11 191 12 291 13 392 13 492 14 592 15 693 1...</td>\n",
       "    </tr>\n",
       "    <tr>\n",
       "      <th>3973</th>\n",
       "      <td>84e23dba29</td>\n",
       "      <td>304 1 405 2 506 3 607 4 708 5 809 6 910 7 1011...</td>\n",
       "    </tr>\n",
       "    <tr>\n",
       "      <th>3975</th>\n",
       "      <td>8329ec9395</td>\n",
       "      <td>1 4039 4041 99 4142 98 4243 96 4344 95 4445 94...</td>\n",
       "    </tr>\n",
       "    <tr>\n",
       "      <th>3976</th>\n",
       "      <td>7e7276d088</td>\n",
       "      <td>405 1 506 3 607 5 708 8 809 10 910 12 1011 14 ...</td>\n",
       "    </tr>\n",
       "    <tr>\n",
       "      <th>3977</th>\n",
       "      <td>0e63d9a8b4</td>\n",
       "      <td>7573 3 7674 3 7775 3 7876 3 7977 3 8078 3 8179...</td>\n",
       "    </tr>\n",
       "    <tr>\n",
       "      <th>3979</th>\n",
       "      <td>919bc0e2ba</td>\n",
       "      <td>1 5959</td>\n",
       "    </tr>\n",
       "    <tr>\n",
       "      <th>3981</th>\n",
       "      <td>0530b67189</td>\n",
       "      <td>3938 2 4032 9 4127 15 4221 22 4310 34 4398 47 ...</td>\n",
       "    </tr>\n",
       "    <tr>\n",
       "      <th>3984</th>\n",
       "      <td>c7f54785b8</td>\n",
       "      <td>92 10 195 8 298 6 402 3 505 1</td>\n",
       "    </tr>\n",
       "    <tr>\n",
       "      <th>3985</th>\n",
       "      <td>158765ed16</td>\n",
       "      <td>1 8585 8587 100 8690 98 8793 96 8896 94 8998 9...</td>\n",
       "    </tr>\n",
       "    <tr>\n",
       "      <th>3987</th>\n",
       "      <td>e8d8b35601</td>\n",
       "      <td>79 11 177 13 276 14 375 15 474 16 573 18 672 1...</td>\n",
       "    </tr>\n",
       "    <tr>\n",
       "      <th>3988</th>\n",
       "      <td>a7cfa30d35</td>\n",
       "      <td>1 84 102 83 203 81 304 79 405 77 506 75 607 73...</td>\n",
       "    </tr>\n",
       "    <tr>\n",
       "      <th>3991</th>\n",
       "      <td>30082e87d9</td>\n",
       "      <td>59 43 163 40 267 37 371 34 472 34 573 34 674 3...</td>\n",
       "    </tr>\n",
       "    <tr>\n",
       "      <th>3993</th>\n",
       "      <td>ac931ace49</td>\n",
       "      <td>6464 1 6565 1 6666 1 6767 1 6868 1</td>\n",
       "    </tr>\n",
       "    <tr>\n",
       "      <th>3994</th>\n",
       "      <td>cb36193e2f</td>\n",
       "      <td>74 28 173 30 270 34 367 38 467 39 567 40 668 4...</td>\n",
       "    </tr>\n",
       "    <tr>\n",
       "      <th>3996</th>\n",
       "      <td>caa039b231</td>\n",
       "      <td>2398 7 2499 11 2600 16 2700 22 2801 26 2901 29...</td>\n",
       "    </tr>\n",
       "    <tr>\n",
       "      <th>3998</th>\n",
       "      <td>48d81e93d9</td>\n",
       "      <td>2828 1 2927 3 3026 5 3126 6 3225 8 3324 10 342...</td>\n",
       "    </tr>\n",
       "  </tbody>\n",
       "</table>\n",
       "<p>2438 rows × 2 columns</p>\n",
       "</div>"
      ],
      "text/plain": [
       "              id                                           rle_mask\n",
       "1     a266a2a9df                                          5051 5151\n",
       "2     75efad62c1  9 93 109 94 210 94 310 95 411 95 511 96 612 96...\n",
       "3     34e51dba6a  48 54 149 54 251 53 353 52 455 51 557 50 659 4...\n",
       "4     4875705fb0  1111 1 1212 1 1313 1 1414 1 1514 2 1615 2 1716...\n",
       "5     782ae9b7e7  1 1815 1819 90 1920 81 2021 73 2122 64 2223 55...\n",
       "7     aa94cfb806  1 28 102 28 203 29 304 30 405 32 506 33 607 34...\n",
       "8     50d3073821                                    1 2121 9293 909\n",
       "10    b5e1371b3b  75 27 175 28 275 29 374 31 474 32 574 33 674 3...\n",
       "12    b45ad3932e  49 11 149 11 249 11 351 10 452 9 553 9 654 8 7...\n",
       "14    d4d34af4f7                                          8788 1414\n",
       "15    302ea1ac81  6 96 108 95 210 94 311 94 413 93 515 92 615 93...\n",
       "16    40dcff68b3  3536 4 3637 20 3738 36 3839 53 3940 70 4041 86...\n",
       "17    7845115d01                                          7677 2525\n",
       "18    3da729cae9  1 54 102 54 203 53 304 53 405 53 506 53 607 53...\n",
       "20    b3396387a6  42 60 141 62 241 63 341 64 441 65 542 65 642 6...\n",
       "21    a5471f53d8            9797 1 9891 8 9986 14 10081 20 10176 26\n",
       "22    d27831fef2  93 9 195 8 296 8 397 8 498 8 599 8 701 7 802 7...\n",
       "23    7faea04242  1 6865 6869 92 6970 86 7071 81 7172 76 7273 71...\n",
       "25    b9614348f4  1 3434 3439 97 3544 93 3647 91 3749 90 3853 87...\n",
       "26    4696bb53e6  23 79 127 76 228 76 335 70 439 67 543 64 650 5...\n",
       "27    fc250f574c  3435 1 3536 1 3637 2 3738 2 3839 3 3940 3 4041...\n",
       "29    02117a400e  4041 1 4142 4 4243 7 4344 10 4445 13 4546 15 4...\n",
       "31    1ee0d5b4d0  1412 3 1511 5 1605 12 1704 14 1804 15 1904 16 ...\n",
       "32    fdc28cafdc  6869 1 7172 1 7273 2 7374 5 7475 6 7576 7 7677...\n",
       "33    2bc8a3db3c  68 34 168 35 268 36 369 36 470 36 570 37 671 3...\n",
       "34    35fd991255  1 505 511 96 613 95 718 91 820 90 923 88 1026 ...\n",
       "35    68a2df3195  1 1919 1921 100 2023 99 2126 97 2228 96 2330 9...\n",
       "38    9bf982cf65  1 85 102 86 203 87 304 88 405 89 506 90 607 91...\n",
       "39    36aa21019e  173 8 271 21 369 36 466 40 562 45 657 51 751 5...\n",
       "44    0b176124c4  8788 3 8889 6 8990 10 9091 14 9192 18 9293 22 ...\n",
       "...          ...                                                ...\n",
       "3946  03a9a9f615  1 806 809 95 910 91 1011 86 1112 82 1213 78 13...\n",
       "3951  1751290ca2  2010 11 2090 32 2173 50 2262 62 2348 77 2437 8...\n",
       "3954  af171a3570  6454 11 6509 57 6601 66 6697 71 6798 71 6900 7...\n",
       "3956  a562619124  42 60 143 60 244 60 345 60 446 60 547 60 648 6...\n",
       "3957  d0eb51a04f  707 1 804 5 901 9 998 13 1096 16 1193 20 1288 ...\n",
       "3960  fbc98aedc0  6060 1 6160 2 6260 3 6360 4 6460 5 6560 6 6660...\n",
       "3962  9511856b03  74 28 175 28 275 29 376 29 476 30 576 31 676 3...\n",
       "3963  0108518d1e  1 1717 1719 100 1820 100 1921 100 2022 100 212...\n",
       "3964  c78996aa02  1616 1 1715 3 1815 4 1913 7 2012 9 2111 11 221...\n",
       "3965  f7e8060b57  303 1 397 8 491 15 585 22 680 28 776 33 873 37...\n",
       "3967  fb47e8e74e                                          6364 3838\n",
       "3968  4c43d99f68  7878 1 7979 1 8080 1 8181 1 8281 2 8382 2 8483...\n",
       "3969  93196366e1  8987 3 9085 6 9184 8 9284 9 9384 10 9484 11 95...\n",
       "3970  16207869ba                          3447 41 3528 71 3618 6584\n",
       "3971  44d745a704  91 11 191 12 291 13 392 13 492 14 592 15 693 1...\n",
       "3973  84e23dba29  304 1 405 2 506 3 607 4 708 5 809 6 910 7 1011...\n",
       "3975  8329ec9395  1 4039 4041 99 4142 98 4243 96 4344 95 4445 94...\n",
       "3976  7e7276d088  405 1 506 3 607 5 708 8 809 10 910 12 1011 14 ...\n",
       "3977  0e63d9a8b4  7573 3 7674 3 7775 3 7876 3 7977 3 8078 3 8179...\n",
       "3979  919bc0e2ba                                             1 5959\n",
       "3981  0530b67189  3938 2 4032 9 4127 15 4221 22 4310 34 4398 47 ...\n",
       "3984  c7f54785b8                      92 10 195 8 298 6 402 3 505 1\n",
       "3985  158765ed16  1 8585 8587 100 8690 98 8793 96 8896 94 8998 9...\n",
       "3987  e8d8b35601  79 11 177 13 276 14 375 15 474 16 573 18 672 1...\n",
       "3988  a7cfa30d35  1 84 102 83 203 81 304 79 405 77 506 75 607 73...\n",
       "3991  30082e87d9  59 43 163 40 267 37 371 34 472 34 573 34 674 3...\n",
       "3993  ac931ace49                 6464 1 6565 1 6666 1 6767 1 6868 1\n",
       "3994  cb36193e2f  74 28 173 30 270 34 367 38 467 39 567 40 668 4...\n",
       "3996  caa039b231  2398 7 2499 11 2600 16 2700 22 2801 26 2901 29...\n",
       "3998  48d81e93d9  2828 1 2927 3 3026 5 3126 6 3225 8 3324 10 342...\n",
       "\n",
       "[2438 rows x 2 columns]"
      ]
     },
     "execution_count": 6,
     "metadata": {},
     "output_type": "execute_result"
    }
   ],
   "source": [
    "#train.loc[train.rle_mask.isna(), ]\n",
    "train.loc[train.rle_mask.notna(), ]"
   ]
  },
  {
   "cell_type": "code",
   "execution_count": 7,
   "metadata": {},
   "outputs": [
    {
     "data": {
      "text/plain": [
       "nan"
      ]
     },
     "execution_count": 7,
     "metadata": {},
     "output_type": "execute_result"
    }
   ],
   "source": [
    "img_id = 'f950879320'\n",
    "\n",
    "train.loc[train.id==img_id, 'rle_mask'].values[0]"
   ]
  },
  {
   "cell_type": "code",
   "execution_count": 8,
   "metadata": {
    "scrolled": true
   },
   "outputs": [
    {
     "data": {
      "text/plain": [
       "<matplotlib.image.AxesImage at 0x7efbd9b19a58>"
      ]
     },
     "execution_count": 8,
     "metadata": {},
     "output_type": "execute_result"
    },
    {
     "data": {
      "image/png": "[encoded data removed]",
      "text/plain": [
       "<Figure size 432x288 with 1 Axes>"
      ]
     },
     "metadata": {},
     "output_type": "display_data"
    }
   ],
   "source": [
    "img_fname = 'data/raw/train_images/images/' + img_id + '.png'\n",
    "mask_fname = 'data/raw/train_images/masks/' + img_id + '.png'\n",
    "\n",
    "#img_arr = plt.imread(fname)\n",
    "plt.imshow(np.array(load_img(img_fname, color_mode = \"grayscale\")) / 255)"
   ]
  },
  {
   "cell_type": "code",
   "execution_count": 9,
   "metadata": {},
   "outputs": [
    {
     "data": {
      "text/plain": [
       "<matplotlib.image.AxesImage at 0x7efbd9aaa198>"
      ]
     },
     "execution_count": 9,
     "metadata": {},
     "output_type": "execute_result"
    },
    {
     "data": {
      "image/png": "[encoded data removed]",
      "text/plain": [
       "<Figure size 432x288 with 1 Axes>"
      ]
     },
     "metadata": {},
     "output_type": "display_data"
    }
   ],
   "source": [
    "plt.imshow(np.array(load_img(mask_fname, color_mode = \"grayscale\")) / 255)"
   ]
  },
  {
   "cell_type": "code",
   "execution_count": 45,
   "metadata": {},
   "outputs": [
    {
     "data": {
      "text/plain": [
       "<matplotlib.image.AxesImage at 0x7fed5c37e978>"
      ]
     },
     "execution_count": 45,
     "metadata": {},
     "output_type": "execute_result"
    },
    {
     "data": {
      "image/png": "[encoded data removed]",
      "text/plain": [
       "<Figure size 432x288 with 1 Axes>"
      ]
     },
     "metadata": {},
     "output_type": "display_data"
    }
   ],
   "source": [
    "fname = 'data/raw/train_images/masks/' + img_id + '.png'\n",
    "mask_arr = np.asarray(Image.open(img_fname).convert(\"L\"))\n",
    "plt.imshow(mask_arr, cmap='gray')"
   ]
  },
  {
   "cell_type": "code",
   "execution_count": 46,
   "metadata": {},
   "outputs": [
    {
     "data": {
      "text/plain": [
       "<matplotlib.image.AxesImage at 0x7fed5c2d8898>"
      ]
     },
     "execution_count": 46,
     "metadata": {},
     "output_type": "execute_result"
    },
    {
     "data": {
      "image/png": "[encoded data removed]",
      "text/plain": [
       "<Figure size 432x288 with 1 Axes>"
      ]
     },
     "metadata": {},
     "output_type": "display_data"
    }
   ],
   "source": [
    "fname = 'data/raw/test_images/images/353e010b7b.png'\n",
    "mask_arr = np.asarray(Image.open(mask_fname).convert(\"L\"))\n",
    "plt.imshow(mask_arr, cmap='gray')"
   ]
  },
  {
   "cell_type": "code",
   "execution_count": null,
   "metadata": {},
   "outputs": [],
   "source": []
  },
  {
   "cell_type": "code",
   "execution_count": null,
   "metadata": {},
   "outputs": [],
   "source": []
  },
  {
   "cell_type": "code",
   "execution_count": null,
   "metadata": {},
   "outputs": [],
   "source": []
  },
  {
   "cell_type": "code",
   "execution_count": null,
   "metadata": {},
   "outputs": [],
   "source": []
  },
  {
   "cell_type": "code",
   "execution_count": null,
   "metadata": {},
   "outputs": [],
   "source": []
  }
 ],
 "metadata": {
  "kernelspec": {
   "display_name": "Python 3",
   "language": "python",
   "name": "python3"
  },
  "language_info": {
   "codemirror_mode": {
    "name": "ipython",
    "version": 3
   },
   "file_extension": ".py",
   "mimetype": "text/x-python",
   "name": "python",
   "nbconvert_exporter": "python",
   "pygments_lexer": "ipython3",
   "version": "3.6.5"
  }
 },
 "nbformat": 4,
 "nbformat_minor": 2
}
