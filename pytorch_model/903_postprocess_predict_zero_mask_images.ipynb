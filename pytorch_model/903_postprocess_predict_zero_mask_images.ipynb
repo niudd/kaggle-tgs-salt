{
 "cells": [
  {
   "cell_type": "code",
   "execution_count": 1,
   "metadata": {
    "scrolled": true
   },
   "outputs": [
    {
     "name": "stderr",
     "output_type": "stream",
     "text": [
      "/home/endi/anaconda3/lib/python3.6/site-packages/h5py/__init__.py:36: FutureWarning: Conversion of the second argument of issubdtype from `float` to `np.floating` is deprecated. In future, it will be treated as `np.float64 == np.dtype(float).type`.\n",
      "  from ._conv import register_converters as _register_converters\n",
      "Using TensorFlow backend.\n"
     ]
    }
   ],
   "source": [
    "import pandas as pd\n",
    "import numpy as np\n",
    "from tqdm import tqdm_notebook\n",
    "import pickle\n",
    "from glob import glob\n",
    "import os\n",
    "import gc\n",
    "from keras.preprocessing.image import load_img"
   ]
  },
  {
   "cell_type": "code",
   "execution_count": 2,
   "metadata": {},
   "outputs": [],
   "source": [
    "import torch\n",
    "from torch.utils.data import DataLoader, Dataset\n",
    "\n",
    "from model import UNetResNet34, predict_proba\n",
    "#from model_classify_zero_mask import ZeroMaskClassifier, predict_proba\n",
    "\n",
    "from utils import load_checkpoint\n",
    "from dataset import pad_reflect, unpad_reflect, unpad_reflect256, TgsDataSet\n",
    "from postprocess import rle_encode\n",
    "\n",
    "from importlib import reload\n",
    "import metrics\n",
    "reload(metrics)\n",
    "from metrics import *\n",
    "\n",
    "from augmentation_huang import do_center_pad_to_factor\n",
    "\n",
    "from sklearn.metrics import roc_auc_score"
   ]
  },
  {
   "cell_type": "code",
   "execution_count": 3,
   "metadata": {},
   "outputs": [],
   "source": [
    "from matplotlib import pyplot as plt\n",
    "\n",
    "%matplotlib inline"
   ]
  },
  {
   "cell_type": "markdown",
   "metadata": {},
   "source": [
    "## post-process"
   ]
  },
  {
   "cell_type": "code",
   "execution_count": 4,
   "metadata": {},
   "outputs": [],
   "source": [
    "os.environ[\"CUDA_DEVICE_ORDER\"] = \"PCI_BUS_ID\"\n",
    "os.environ[\"CUDA_VISIBLE_DEVICES\"] = \"0, 1\"\n",
    "device = torch.device(\"cuda:1\" if torch.cuda.is_available() else \"cpu\")\n",
    "\n",
    "#device = torch.device(\"cpu\")\n",
    "#torch.set_num_threads(20)\n",
    "\n",
    "img_size_target = 101#128,256\n",
    "\n",
    "SEED = 6789#5678#4567#3456#2345#1234"
   ]
  },
  {
   "cell_type": "code",
   "execution_count": 5,
   "metadata": {},
   "outputs": [],
   "source": [
    "# choose best threshold using validset\n",
    "with open('../data/processed/dataset_%d.pkl'%SEED, 'rb') as f:\n",
    "    ids_train, ids_valid, x_train, x_valid, y_train, y_valid, cov_train, cov_test, depth_train, depth_test = pickle.load(f)"
   ]
  },
  {
   "cell_type": "markdown",
   "metadata": {},
   "source": [
    "## select best_threshold for iou using valid dataset"
   ]
  },
  {
   "cell_type": "code",
   "execution_count": 6,
   "metadata": {},
   "outputs": [],
   "source": [
    "# valid data & its flipped version\n",
    "val_ds = TgsDataSet(x_valid, y_valid, transform=False)\n",
    "val_dl = DataLoader(\n",
    "    val_ds,\n",
    "    batch_size=32,\n",
    "    shuffle=False,\n",
    "    #sampler=StratifiedSampler(),\n",
    "    num_workers=20,\n",
    ")\n",
    "\n",
    "## x.shape = [1, 128, 128]\n",
    "val_ds_flip = TgsDataSet(np.array([x[:,:,::-1] for x in x_valid]), y_valid, transform=False)\n",
    "val_dl_flip = DataLoader(\n",
    "    val_ds_flip,\n",
    "    batch_size=32,\n",
    "    shuffle=False,\n",
    "    #sampler=StratifiedSampler(),\n",
    "    num_workers=20,\n",
    ")"
   ]
  },
  {
   "cell_type": "code",
   "execution_count": 7,
   "metadata": {},
   "outputs": [],
   "source": [
    "# load the trained model\n",
    "net = UNetResNet34(pretrained=True).cuda(device=device)\n",
    "checkpoint_path = 'checkpoint/1010_all_mask_v1_seed%d/best.pth.tar'%SEED\n",
    "net, _ = load_checkpoint(checkpoint_path, net)"
   ]
  },
  {
   "cell_type": "code",
   "execution_count": 8,
   "metadata": {
    "scrolled": true
   },
   "outputs": [],
   "source": [
    "net.set_mode('valid')\n",
    "#preds_valid = (predict_proba(net, val_dl, device) + predict_proba(net, val_dl_flip, device)) / 2\n",
    "preds_valid = (predict_proba(net, val_dl, device) + \\\n",
    "              np.array([x[:,::-1] for x in predict_proba(net, val_dl_flip, device)])) / 2"
   ]
  },
  {
   "cell_type": "code",
   "execution_count": 9,
   "metadata": {
    "scrolled": true
   },
   "outputs": [
    {
     "data": {
      "text/plain": [
       "((400, 1, 101, 101), (400, 256, 256))"
      ]
     },
     "execution_count": 9,
     "metadata": {},
     "output_type": "execute_result"
    }
   ],
   "source": [
    "y_valid.shape, preds_valid.shape"
   ]
  },
  {
   "cell_type": "code",
   "execution_count": 10,
   "metadata": {
    "scrolled": true
   },
   "outputs": [],
   "source": [
    "y_valid = y_valid.reshape(-1, 101*101).sum(axis=1, keepdims=True)==0\n",
    "preds_valid = np.array([unpad_reflect256(image) for image in preds_valid])"
   ]
  },
  {
   "cell_type": "code",
   "execution_count": null,
   "metadata": {
    "scrolled": true
   },
   "outputs": [],
   "source": []
  },
  {
   "cell_type": "code",
   "execution_count": 11,
   "metadata": {},
   "outputs": [
    {
     "name": "stderr",
     "output_type": "stream",
     "text": [
      "/home/endi/anaconda3/lib/python3.6/site-packages/ipykernel_launcher.py:3: RuntimeWarning: divide by zero encountered in true_divide\n",
      "  This is separate from the ipykernel package so we can avoid doing imports until\n",
      "/home/endi/anaconda3/lib/python3.6/site-packages/ipykernel_launcher.py:3: RuntimeWarning: invalid value encountered in log\n",
      "  This is separate from the ipykernel package so we can avoid doing imports until\n"
     ]
    },
    {
     "data": {
      "application/vnd.jupyter.widget-view+json": {
       "model_id": "6a5468f3a97b44aeb1761eaefcf18d0a",
       "version_major": 2,
       "version_minor": 0
      },
      "text/plain": [
       "HBox(children=(IntProgress(value=0), HTML(value='')))"
      ]
     },
     "metadata": {},
     "output_type": "display_data"
    },
    {
     "name": "stderr",
     "output_type": "stream",
     "text": [
      "/home/endi/anaconda3/lib/python3.6/site-packages/ipykernel_launcher.py:8: RuntimeWarning: invalid value encountered in greater\n",
      "  \n"
     ]
    },
    {
     "name": "stdout",
     "output_type": "stream",
     "text": [
      "\n",
      "[0.5        0.5        0.5        0.5        0.5        0.5\n",
      " 0.5        0.5        0.5        0.5        0.5        0.5\n",
      " 0.5        0.5        0.5        0.5        0.5        0.5\n",
      " 0.5        0.5        0.5        0.5        0.5        0.5\n",
      " 0.5        0.5        0.5        0.5        0.5        0.5\n",
      " 0.5        0.5        0.5        0.5        0.5        0.5\n",
      " 0.5        0.5        0.5        0.5        0.5        0.5\n",
      " 0.5        0.5        0.5        0.5        0.5        0.5\n",
      " 0.5        0.5        0.5        0.9220786  0.93284994 0.93836696\n",
      " 0.93631778 0.93747373 0.94067886 0.94388398 0.94388398 0.9418348\n",
      " 0.94299075 0.94299075 0.94299075 0.94299075 0.94299075 0.94299075\n",
      " 0.94094157 0.94094157 0.93684321 0.93479403 0.93594998 0.93594998\n",
      " 0.93594998 0.93594998 0.93915511 0.93915511 0.93710593 0.93710593\n",
      " 0.93710593 0.93505675 0.93505675 0.93300757 0.93300757 0.93300757\n",
      " 0.93300757 0.93300757 0.93300757 0.93300757 0.93095839 0.93095839\n",
      " 0.92890921 0.92890921 0.92890921 0.92686003 0.92686003 0.92481084\n",
      " 0.9186633  0.9186633  0.91046658 0.5       ]\n"
     ]
    },
    {
     "data": {
      "text/plain": [
       "<matplotlib.legend.Legend at 0x7f8472bd7e48>"
      ]
     },
     "execution_count": 11,
     "metadata": {},
     "output_type": "execute_result"
    },
    {
     "data": {
      "image/png": "[encoded data removed]",
      "text/plain": [
       "<Figure size 432x288 with 1 Axes>"
      ]
     },
     "metadata": {},
     "output_type": "display_data"
    }
   ],
   "source": [
    "thresholds_ori = np.linspace(-1.0, 1.0, 100)\n",
    "# Reverse sigmoid function: Use code below because the  sigmoid activation was removed\n",
    "thresholds = np.log(thresholds_ori/(1-thresholds_ori))\n",
    "\n",
    "# ious = np.array([get_iou_vector(y_valid, preds_valid > threshold) for threshold in tqdm_notebook(thresholds)])\n",
    "# print(ious)\n",
    "\n",
    "aucs = np.array([roc_auc_score(y_valid, (preds_valid > threshold).reshape(-1, 101*101).sum(axis=1, keepdims=True)==0) \\\n",
    "                 for threshold in tqdm_notebook(thresholds)])\n",
    "print(aucs)\n",
    "\n",
    "# instead of using default 0 as threshold, use validation data to find the best threshold.\n",
    "threshold_best_index = np.argmax(aucs) \n",
    "auc_best = aucs[threshold_best_index]\n",
    "threshold_best = thresholds[threshold_best_index]\n",
    "\n",
    "plt.plot(thresholds, aucs)\n",
    "plt.plot(threshold_best, auc_best, \"xr\", label=\"Best threshold\")\n",
    "plt.xlabel(\"Threshold\")\n",
    "plt.ylabel(\"ROC_AUC_SCORE\")\n",
    "plt.title(\"Threshold vs IoU ({}, {})\".format(threshold_best, auc_best))\n",
    "plt.legend()"
   ]
  },
  {
   "cell_type": "code",
   "execution_count": 12,
   "metadata": {
    "scrolled": true
   },
   "outputs": [
    {
     "data": {
      "text/plain": [
       "(-1.7227665977411029, 0.9438839848675915)"
      ]
     },
     "execution_count": 12,
     "metadata": {},
     "output_type": "execute_result"
    }
   ],
   "source": [
    "threshold_best, auc_best"
   ]
  },
  {
   "cell_type": "markdown",
   "metadata": {},
   "source": [
    "## using best threshold to predict"
   ]
  },
  {
   "cell_type": "code",
   "execution_count": 13,
   "metadata": {},
   "outputs": [
    {
     "data": {
      "application/vnd.jupyter.widget-view+json": {
       "model_id": "fbcdb522ac3b4b8895ac7ca23c79414f",
       "version_major": 2,
       "version_minor": 0
      },
      "text/plain": [
       "HBox(children=(IntProgress(value=0, max=18000), HTML(value='')))"
      ]
     },
     "metadata": {},
     "output_type": "display_data"
    },
    {
     "name": "stdout",
     "output_type": "stream",
     "text": [
      "\n"
     ]
    }
   ],
   "source": [
    "## create testset\n",
    "img_ids = [f.split('/')[-1].split('.')[0] for f in glob('../data/raw/test_images/images/*.png')]\n",
    "\n",
    "x_test = [(np.array(load_img(\"../data/raw/test_images/images/{}.png\".format(idx), \\\n",
    "                                      color_mode = \"grayscale\"))) / 255 for idx in tqdm_notebook(img_ids)]"
   ]
  },
  {
   "cell_type": "code",
   "execution_count": 81,
   "metadata": {},
   "outputs": [],
   "source": [
    "# with open('../data/processed/testset%d.pkl'%SEED, 'wb') as f:\n",
    "#     pickle.dump([img_ids, x_test], f)"
   ]
  },
  {
   "cell_type": "code",
   "execution_count": 14,
   "metadata": {},
   "outputs": [],
   "source": [
    "# for testset, also predict raw & flipped version, then average\n",
    "#x_test_arr = np.array(list(map(pad_reflect, x_test)))\n",
    "x_test_arr = np.array(x_test).reshape(18000, 1, 101, 101) #if use Huang's augmentation, otherwise comment this line\n",
    "y_test = np.zeros(shape=(18000, 1, 101, 101))\n",
    "\n",
    "test_ds = TgsDataSet(x_test_arr, y_test, transform=False)\n",
    "test_dl = DataLoader(\n",
    "    test_ds,\n",
    "    batch_size=32,\n",
    "    shuffle=False,\n",
    "    #sampler=StratifiedSampler(),\n",
    "    num_workers=20,\n",
    ")\n",
    "\n",
    "test_ds_flip = TgsDataSet(np.array([x[:,:,::-1] for x in x_test_arr]), y_test, transform=False)\n",
    "test_dl_flip = DataLoader(\n",
    "    test_ds_flip,\n",
    "    batch_size=32,\n",
    "    shuffle=False,\n",
    "    #sampler=StratifiedSampler(),\n",
    "    num_workers=20,\n",
    ")"
   ]
  },
  {
   "cell_type": "code",
   "execution_count": null,
   "metadata": {},
   "outputs": [],
   "source": []
  },
  {
   "cell_type": "code",
   "execution_count": 15,
   "metadata": {
    "scrolled": true
   },
   "outputs": [
    {
     "name": "stdout",
     "output_type": "stream",
     "text": [
      "CPU times: user 2h 4min, sys: 58min 54s, total: 3h 2min 54s\n",
      "Wall time: 12min 39s\n"
     ]
    }
   ],
   "source": [
    "%%time\n",
    "\n",
    "#preds_test = predict_proba(net, test_dl, device)\n",
    "\n",
    "net.set_mode('test')\n",
    "#preds_test = (predict_proba(net, test_dl, device) + predict_proba(net, test_dl_flip, device)) / 2\n",
    "preds_test = (predict_proba(net, test_dl, device) + \\\n",
    "              np.array([x[:,::-1] for x in predict_proba(net, test_dl_flip, device)])) / 2"
   ]
  },
  {
   "cell_type": "code",
   "execution_count": 16,
   "metadata": {},
   "outputs": [],
   "source": [
    "# saving\n",
    "with open('prediction/1010_all_mask_v1_seed%d.pkl'%SEED, 'wb') as f:\n",
    "    pickle.dump([preds_test, threshold_best], f, protocol=4)"
   ]
  },
  {
   "cell_type": "code",
   "execution_count": 16,
   "metadata": {
    "scrolled": true
   },
   "outputs": [],
   "source": [
    "# \n",
    "#is_zero_mask = (preds_test > threshold_best).astype(int).reshape(-1,)\n",
    "\n",
    "_preds_test = np.array([unpad_reflect256(image) for image in preds_test])\n",
    "is_zero_mask = (_preds_test > threshold_best).reshape(-1, 101*101).sum(axis=1, keepdims=True)==0\n",
    "\n",
    "sub = pd.DataFrame({'id': img_ids, 'is_zero_mask': is_zero_mask.reshape(-1)})"
   ]
  },
  {
   "cell_type": "code",
   "execution_count": 17,
   "metadata": {
    "scrolled": true
   },
   "outputs": [
    {
     "data": {
      "text/plain": [
       "7015"
      ]
     },
     "execution_count": 17,
     "metadata": {},
     "output_type": "execute_result"
    }
   ],
   "source": [
    "sub.is_zero_mask.sum()"
   ]
  },
  {
   "cell_type": "code",
   "execution_count": 18,
   "metadata": {},
   "outputs": [],
   "source": [
    "sub.to_csv('../submissions/1010_849model_all_mask_predict_zero_mask_seed3456.csv.gz', index=False, compression='gzip')"
   ]
  },
  {
   "cell_type": "code",
   "execution_count": null,
   "metadata": {},
   "outputs": [],
   "source": []
  },
  {
   "cell_type": "markdown",
   "metadata": {},
   "source": [
    "## blend zero-mask models (train with all images)"
   ]
  },
  {
   "cell_type": "code",
   "execution_count": 4,
   "metadata": {},
   "outputs": [
    {
     "data": {
      "application/vnd.jupyter.widget-view+json": {
       "model_id": "f8320e0c459548a582793ed4f37a05de",
       "version_major": 2,
       "version_minor": 0
      },
      "text/plain": [
       "HBox(children=(IntProgress(value=0, max=18000), HTML(value='')))"
      ]
     },
     "metadata": {},
     "output_type": "display_data"
    },
    {
     "name": "stdout",
     "output_type": "stream",
     "text": [
      "\n"
     ]
    }
   ],
   "source": [
    "## create testset\n",
    "img_ids = [f.split('/')[-1].split('.')[0] for f in glob('../data/raw/test_images/images/*.png')]\n",
    "\n",
    "x_test = [(np.array(load_img(\"../data/raw/test_images/images/{}.png\".format(idx), \\\n",
    "                                      color_mode = \"grayscale\"))) / 255 for idx in tqdm_notebook(img_ids)]"
   ]
  },
  {
   "cell_type": "code",
   "execution_count": 5,
   "metadata": {},
   "outputs": [],
   "source": [
    "def check_pred_is_zero_mask(preds_test):\n",
    "    preds_test = np.array([unpad_reflect256(_preds_test) for _preds_test in tqdm_notebook(preds_test)])\n",
    "    is_zero_mask = (preds_test > threshold_best).reshape(-1, 101*101).sum(axis=1, keepdims=True)==0\n",
    "    return is_zero_mask.reshape(-1).astype(np.int)"
   ]
  },
  {
   "cell_type": "code",
   "execution_count": 6,
   "metadata": {},
   "outputs": [
    {
     "data": {
      "application/vnd.jupyter.widget-view+json": {
       "model_id": "747f8db1bdbf4dffae23c2fbf3d3b95c",
       "version_major": 2,
       "version_minor": 0
      },
      "text/plain": [
       "HBox(children=(IntProgress(value=0, max=18000), HTML(value='')))"
      ]
     },
     "metadata": {},
     "output_type": "display_data"
    },
    {
     "name": "stdout",
     "output_type": "stream",
     "text": [
      "\n"
     ]
    },
    {
     "data": {
      "application/vnd.jupyter.widget-view+json": {
       "model_id": "f1a862a218394c24af4dd5d806ee4b37",
       "version_major": 2,
       "version_minor": 0
      },
      "text/plain": [
       "HBox(children=(IntProgress(value=0, max=18000), HTML(value='')))"
      ]
     },
     "metadata": {},
     "output_type": "display_data"
    },
    {
     "name": "stdout",
     "output_type": "stream",
     "text": [
      "\n"
     ]
    },
    {
     "data": {
      "application/vnd.jupyter.widget-view+json": {
       "model_id": "033939f5edc44db1813532906b39e94c",
       "version_major": 2,
       "version_minor": 0
      },
      "text/plain": [
       "HBox(children=(IntProgress(value=0, max=18000), HTML(value='')))"
      ]
     },
     "metadata": {},
     "output_type": "display_data"
    },
    {
     "name": "stdout",
     "output_type": "stream",
     "text": [
      "\n"
     ]
    },
    {
     "data": {
      "application/vnd.jupyter.widget-view+json": {
       "model_id": "20a30d546d104cf4abfa71ed1651e55a",
       "version_major": 2,
       "version_minor": 0
      },
      "text/plain": [
       "HBox(children=(IntProgress(value=0, max=18000), HTML(value='')))"
      ]
     },
     "metadata": {},
     "output_type": "display_data"
    },
    {
     "name": "stdout",
     "output_type": "stream",
     "text": [
      "\n"
     ]
    },
    {
     "data": {
      "application/vnd.jupyter.widget-view+json": {
       "model_id": "b30c9ea3962b49fa831def9c31b74161",
       "version_major": 2,
       "version_minor": 0
      },
      "text/plain": [
       "HBox(children=(IntProgress(value=0, max=18000), HTML(value='')))"
      ]
     },
     "metadata": {},
     "output_type": "display_data"
    },
    {
     "name": "stdout",
     "output_type": "stream",
     "text": [
      "\n"
     ]
    },
    {
     "data": {
      "application/vnd.jupyter.widget-view+json": {
       "model_id": "9d909320328b466ab17af333da85fc71",
       "version_major": 2,
       "version_minor": 0
      },
      "text/plain": [
       "HBox(children=(IntProgress(value=0, max=18000), HTML(value='')))"
      ]
     },
     "metadata": {},
     "output_type": "display_data"
    },
    {
     "name": "stdout",
     "output_type": "stream",
     "text": [
      "\n"
     ]
    }
   ],
   "source": [
    "# 合并N个fold的预测（0-1），用户voting方式blending\n",
    "is_zero_mask_blend = None\n",
    "\n",
    "for seed in [1234, 2345, 3456, 4567, 5678]:\n",
    "    with open('prediction/1010_all_mask_v1_seed%d.pkl'%seed, 'rb') as f:\n",
    "        preds_test, threshold_best = pickle.load(f)\n",
    "    is_zero_mask = check_pred_is_zero_mask(preds_test)\n",
    "    if is_zero_mask_blend is None:\n",
    "        is_zero_mask_blend = is_zero_mask\n",
    "    else:\n",
    "        is_zero_mask_blend += is_zero_mask\n",
    "    del preds_test\n",
    "    gc.collect()"
   ]
  },
  {
   "cell_type": "code",
   "execution_count": 8,
   "metadata": {},
   "outputs": [
    {
     "data": {
      "text/plain": [
       "7279"
      ]
     },
     "execution_count": 8,
     "metadata": {},
     "output_type": "execute_result"
    }
   ],
   "source": [
    "N = 2\n",
    "\n",
    "sub = pd.DataFrame({'id': img_ids, 'is_zero_mask': is_zero_mask_blend > N})\n",
    "\n",
    "sub.is_zero_mask.sum()"
   ]
  },
  {
   "cell_type": "code",
   "execution_count": 21,
   "metadata": {},
   "outputs": [],
   "source": [
    "sub.to_csv('../submissions/1010_849model_all_mask_predict_zero_mask_seed1234_2345_3456_4567_5678_blend.csv.gz', index=False, compression='gzip')"
   ]
  },
  {
   "cell_type": "code",
   "execution_count": null,
   "metadata": {
    "scrolled": true
   },
   "outputs": [],
   "source": []
  },
  {
   "cell_type": "code",
   "execution_count": null,
   "metadata": {},
   "outputs": [],
   "source": []
  },
  {
   "cell_type": "code",
   "execution_count": null,
   "metadata": {},
   "outputs": [],
   "source": []
  },
  {
   "cell_type": "code",
   "execution_count": null,
   "metadata": {
    "scrolled": true
   },
   "outputs": [],
   "source": []
  },
  {
   "cell_type": "code",
   "execution_count": 40,
   "metadata": {
    "scrolled": true
   },
   "outputs": [],
   "source": [
    "model0_preds = sub.loc[sub.is_zero_mask.values.astype(bool), 'id'].tolist()\n",
    "mode11_preds = zero_mask_ids"
   ]
  },
  {
   "cell_type": "code",
   "execution_count": 43,
   "metadata": {},
   "outputs": [
    {
     "data": {
      "text/plain": [
       "7400"
      ]
     },
     "execution_count": 43,
     "metadata": {},
     "output_type": "execute_result"
    }
   ],
   "source": [
    "len(np.intersect1d(model0_preds, mode11_preds))"
   ]
  },
  {
   "cell_type": "code",
   "execution_count": 45,
   "metadata": {},
   "outputs": [],
   "source": [
    "final_zero_ids = np.intersect1d(model0_preds, mode11_preds)"
   ]
  },
  {
   "cell_type": "code",
   "execution_count": 48,
   "metadata": {
    "scrolled": true
   },
   "outputs": [],
   "source": [
    "with open('../submissions/pred_zero_mask_img_ids.pkl', 'wb') as f:\n",
    "    pickle.dump(final_zero_ids, f, protocol=4)"
   ]
  },
  {
   "cell_type": "code",
   "execution_count": null,
   "metadata": {
    "scrolled": true
   },
   "outputs": [],
   "source": []
  },
  {
   "cell_type": "code",
   "execution_count": null,
   "metadata": {
    "scrolled": true
   },
   "outputs": [],
   "source": []
  },
  {
   "cell_type": "code",
   "execution_count": null,
   "metadata": {
    "scrolled": true
   },
   "outputs": [],
   "source": []
  },
  {
   "cell_type": "code",
   "execution_count": null,
   "metadata": {},
   "outputs": [],
   "source": []
  },
  {
   "cell_type": "code",
   "execution_count": null,
   "metadata": {},
   "outputs": [],
   "source": []
  },
  {
   "cell_type": "code",
   "execution_count": null,
   "metadata": {},
   "outputs": [],
   "source": []
  }
 ],
 "metadata": {
  "kernelspec": {
   "display_name": "Python 3",
   "language": "python",
   "name": "python3"
  },
  "language_info": {
   "codemirror_mode": {
    "name": "ipython",
    "version": 3
   },
   "file_extension": ".py",
   "mimetype": "text/x-python",
   "name": "python",
   "nbconvert_exporter": "python",
   "pygments_lexer": "ipython3",
   "version": "3.6.5"
  }
 },
 "nbformat": 4,
 "nbformat_minor": 2
}
