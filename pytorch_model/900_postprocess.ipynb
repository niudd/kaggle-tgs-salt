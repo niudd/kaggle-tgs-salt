{
 "cells": [
  {
   "cell_type": "code",
   "execution_count": 1,
   "metadata": {
    "scrolled": true
   },
   "outputs": [
    {
     "name": "stderr",
     "output_type": "stream",
     "text": [
      "/home/endi/anaconda3/lib/python3.6/site-packages/h5py/__init__.py:36: FutureWarning: Conversion of the second argument of issubdtype from `float` to `np.floating` is deprecated. In future, it will be treated as `np.float64 == np.dtype(float).type`.\n",
      "  from ._conv import register_converters as _register_converters\n",
      "Using TensorFlow backend.\n"
     ]
    }
   ],
   "source": [
    "import pandas as pd\n",
    "import numpy as np\n",
    "from tqdm import tqdm_notebook\n",
    "import pickle\n",
    "from glob import glob\n",
    "import os\n",
    "from keras.preprocessing.image import load_img"
   ]
  },
  {
   "cell_type": "code",
   "execution_count": 4,
   "metadata": {},
   "outputs": [],
   "source": [
    "import torch\n",
    "from torch.utils.data import DataLoader, Dataset\n",
    "\n",
    "from model import UNetResNet34, predict_proba\n",
    "from utils import load_checkpoint\n",
    "from dataset import pad_reflect, unpad_reflect, TgsDataSet\n",
    "from postprocess import rle_encode\n",
    "\n",
    "from importlib import reload\n",
    "import metrics\n",
    "reload(metrics)\n",
    "from metrics import *\n",
    "\n",
    "from augmentation_huang import do_center_pad_to_factor"
   ]
  },
  {
   "cell_type": "code",
   "execution_count": 5,
   "metadata": {},
   "outputs": [],
   "source": [
    "from matplotlib import pyplot as plt\n",
    "\n",
    "%matplotlib inline"
   ]
  },
  {
   "cell_type": "markdown",
   "metadata": {},
   "source": [
    "## post-process"
   ]
  },
  {
   "cell_type": "code",
   "execution_count": 6,
   "metadata": {},
   "outputs": [],
   "source": [
    "os.environ[\"CUDA_DEVICE_ORDER\"] = \"PCI_BUS_ID\"\n",
    "os.environ[\"CUDA_VISIBLE_DEVICES\"] = \"0, 1\"\n",
    "device = torch.device(\"cuda:1\" if torch.cuda.is_available() else \"cpu\")\n",
    "\n",
    "#device = torch.device(\"cpu\")\n",
    "#torch.set_num_threads(20)\n",
    "\n",
    "img_size_target = 128\n",
    "\n",
    "SEED = 1234"
   ]
  },
  {
   "cell_type": "code",
   "execution_count": 7,
   "metadata": {},
   "outputs": [],
   "source": [
    "# choose best threshold using validset\n",
    "with open('../data/processed/dataset_%d.pkl'%SEED, 'rb') as f:\n",
    "    ids_train, ids_valid, x_train, x_valid, y_train, y_valid, cov_train, cov_test, depth_train, depth_test = pickle.load(f)"
   ]
  },
  {
   "cell_type": "markdown",
   "metadata": {},
   "source": [
    "## select best_threshold for iou using valid dataset"
   ]
  },
  {
   "cell_type": "code",
   "execution_count": 8,
   "metadata": {},
   "outputs": [],
   "source": [
    "# valid data & its flipped version\n",
    "val_ds = TgsDataSet(x_valid, y_valid, transform=False)\n",
    "val_dl = DataLoader(\n",
    "    val_ds,\n",
    "    batch_size=32,\n",
    "    shuffle=False,\n",
    "    #sampler=StratifiedSampler(),\n",
    "    num_workers=20,\n",
    ")\n",
    "\n",
    "## x.shape = [1, 128, 128]\n",
    "val_ds_flip = TgsDataSet(np.array([x[:,:,::-1] for x in x_valid]), y_valid, transform=False)\n",
    "val_dl_flip = DataLoader(\n",
    "    val_ds_flip,\n",
    "    batch_size=32,\n",
    "    shuffle=False,\n",
    "    #sampler=StratifiedSampler(),\n",
    "    num_workers=20,\n",
    ")"
   ]
  },
  {
   "cell_type": "code",
   "execution_count": 9,
   "metadata": {},
   "outputs": [],
   "source": [
    "# load the trained model\n",
    "net = UNetResNet34(pretrained=True).cuda(device=device)\n",
    "checkpoint_path = 'checkpoint/seed1234-hypercol-0839/best.pth.tar'\n",
    "net, _ = load_checkpoint(checkpoint_path, net)"
   ]
  },
  {
   "cell_type": "code",
   "execution_count": 10,
   "metadata": {
    "scrolled": true
   },
   "outputs": [],
   "source": [
    "preds_valid = (predict_proba(net, val_dl, device) + \\\n",
    "              np.array([x[:,::-1] for x in predict_proba(net, val_dl_flip, device)])) / 2"
   ]
  },
  {
   "cell_type": "code",
   "execution_count": 11,
   "metadata": {
    "scrolled": true
   },
   "outputs": [
    {
     "data": {
      "text/plain": [
       "((400, 1, 101, 101), (400, 128, 128))"
      ]
     },
     "execution_count": 11,
     "metadata": {},
     "output_type": "execute_result"
    }
   ],
   "source": [
    "y_valid.shape, preds_valid.shape"
   ]
  },
  {
   "cell_type": "code",
   "execution_count": 12,
   "metadata": {
    "scrolled": true
   },
   "outputs": [],
   "source": [
    "# keep only nonzero mask images\n",
    "preds_valid = preds_valid[y_valid.reshape(400, 101*101).sum(axis=1)!=0, :, :]\n",
    "y_valid = y_valid[y_valid.reshape(400, 101*101).sum(axis=1)!=0, :, :, :]"
   ]
  },
  {
   "cell_type": "code",
   "execution_count": 16,
   "metadata": {},
   "outputs": [
    {
     "data": {
      "text/plain": [
       "array([-2.19722458, -1.93075834, -1.70869287, -1.51634749, -1.34513629,\n",
       "       -1.18958407, -1.04596856, -0.91162872, -0.78458139, -0.66329422,\n",
       "       -0.54654371, -0.43332206, -0.32277339, -0.21414799, -0.10676798,\n",
       "        0.        ,  0.10676798,  0.21414799,  0.32277339,  0.43332206,\n",
       "        0.54654371,  0.66329422,  0.78458139,  0.91162872,  1.04596856,\n",
       "        1.18958407,  1.34513629,  1.51634749,  1.70869287,  1.93075834,\n",
       "        2.19722458])"
      ]
     },
     "execution_count": 16,
     "metadata": {},
     "output_type": "execute_result"
    }
   ],
   "source": [
    "thresholds = np.log(thresholds_ori/(1-thresholds_ori))\n",
    "thresholds"
   ]
  },
  {
   "cell_type": "code",
   "execution_count": null,
   "metadata": {},
   "outputs": [],
   "source": []
  },
  {
   "cell_type": "code",
   "execution_count": 13,
   "metadata": {},
   "outputs": [
    {
     "data": {
      "application/vnd.jupyter.widget-view+json": {
       "model_id": "09071af431de49fa85a5b80694190703",
       "version_major": 2,
       "version_minor": 0
      },
      "text/plain": [
       "HBox(children=(IntProgress(value=0, max=31), HTML(value='')))"
      ]
     },
     "metadata": {},
     "output_type": "display_data"
    },
    {
     "name": "stdout",
     "output_type": "stream",
     "text": [
      "\n",
      "[0.77663934 0.78032787 0.78442623 0.78770492 0.78934426 0.79016393\n",
      " 0.79098361 0.79221311 0.79303279 0.79344262 0.7942623  0.79385246\n",
      " 0.7942623  0.7942623  0.79262295 0.79221311 0.79508197 0.78893443\n",
      " 0.78729508 0.78811475 0.78852459 0.78770492 0.78729508 0.78729508\n",
      " 0.78401639 0.78319672 0.77827869 0.77581967 0.7692623  0.76434426\n",
      " 0.75901639]\n"
     ]
    },
    {
     "data": {
      "text/plain": [
       "<matplotlib.legend.Legend at 0x7f0a0bcd2630>"
      ]
     },
     "execution_count": 13,
     "metadata": {},
     "output_type": "execute_result"
    },
    {
     "data": {
      "image/png": "[encoded data removed]",
      "text/plain": [
       "<Figure size 432x288 with 1 Axes>"
      ]
     },
     "metadata": {},
     "output_type": "display_data"
    }
   ],
   "source": [
    "thresholds_ori = np.linspace(0.1, 0.9, 31)#np.linspace(0.3, 0.7, 31)\n",
    "# Reverse sigmoid function: Use code below because the  sigmoid activation was removed\n",
    "thresholds = np.log(thresholds_ori/(1-thresholds_ori))\n",
    "\n",
    "# ious = np.array([get_iou_vector(y_valid, preds_valid > threshold) for threshold in tqdm_notebook(thresholds)])\n",
    "# print(ious)\n",
    "\n",
    "y_valid = np.array([do_center_pad_to_factor(image.reshape(101, 101), factor=32).reshape(1, 128, 128) \\\n",
    "                    for image in y_valid]) #if use Huang's augmentation, otherwise comment this line\n",
    "ious = np.array([iou_metric_batch(y_valid, preds_valid > threshold) for threshold in tqdm_notebook(thresholds)])\n",
    "print(ious)\n",
    "\n",
    "# instead of using default 0 as threshold, use validation data to find the best threshold.\n",
    "threshold_best_index = np.argmax(ious) \n",
    "iou_best = ious[threshold_best_index]\n",
    "threshold_best = thresholds[threshold_best_index]\n",
    "\n",
    "plt.plot(thresholds, ious)\n",
    "plt.plot(threshold_best, iou_best, \"xr\", label=\"Best threshold\")\n",
    "plt.xlabel(\"Threshold\")\n",
    "plt.ylabel(\"IoU\")\n",
    "plt.title(\"Threshold vs IoU ({}, {})\".format(threshold_best, iou_best))\n",
    "plt.legend()"
   ]
  },
  {
   "cell_type": "code",
   "execution_count": 14,
   "metadata": {},
   "outputs": [
    {
     "data": {
      "text/plain": [
       "(0.10676797542570633, 0.7950819672131147)"
      ]
     },
     "execution_count": 14,
     "metadata": {},
     "output_type": "execute_result"
    }
   ],
   "source": [
    "threshold_best, iou_best"
   ]
  },
  {
   "cell_type": "markdown",
   "metadata": {},
   "source": [
    "## using best threshold to predict"
   ]
  },
  {
   "cell_type": "code",
   "execution_count": 15,
   "metadata": {},
   "outputs": [
    {
     "data": {
      "application/vnd.jupyter.widget-view+json": {
       "model_id": "5ea83bf8c64243a3b65d2814042c6d87",
       "version_major": 2,
       "version_minor": 0
      },
      "text/plain": [
       "HBox(children=(IntProgress(value=0, max=18000), HTML(value='')))"
      ]
     },
     "metadata": {},
     "output_type": "display_data"
    },
    {
     "name": "stdout",
     "output_type": "stream",
     "text": [
      "\n"
     ]
    }
   ],
   "source": [
    "## create testset\n",
    "img_ids = [f.split('/')[-1].split('.')[0] for f in glob('../data/raw/test_images/images/*.png')]\n",
    "\n",
    "x_test = [(np.array(load_img(\"../data/raw/test_images/images/{}.png\".format(idx), \\\n",
    "                                      color_mode = \"grayscale\"))) / 255 for idx in tqdm_notebook(img_ids)]"
   ]
  },
  {
   "cell_type": "code",
   "execution_count": 81,
   "metadata": {},
   "outputs": [],
   "source": [
    "# with open('../data/processed/testset%d.pkl'%SEED, 'wb') as f:\n",
    "#     pickle.dump([img_ids, x_test], f)"
   ]
  },
  {
   "cell_type": "code",
   "execution_count": 16,
   "metadata": {},
   "outputs": [],
   "source": [
    "# for testset, also predict raw & flipped version, then average\n",
    "#x_test_arr = np.array(list(map(pad_reflect, x_test)))\n",
    "x_test_arr = np.array(x_test).reshape(18000, 1, 101, 101) #if use Huang's augmentation, otherwise comment this line\n",
    "y_test = np.zeros(shape=(18000, 1, 101, 101))\n",
    "\n",
    "test_ds = TgsDataSet(x_test_arr, y_test, transform=False)\n",
    "test_dl = DataLoader(\n",
    "    test_ds,\n",
    "    batch_size=32,\n",
    "    shuffle=False,\n",
    "    #sampler=StratifiedSampler(),\n",
    "    num_workers=20,\n",
    ")\n",
    "\n",
    "test_ds_flip = TgsDataSet(np.array([x[:,:,::-1] for x in x_test_arr]), y_test, transform=False)\n",
    "test_dl_flip = DataLoader(\n",
    "    test_ds_flip,\n",
    "    batch_size=32,\n",
    "    shuffle=False,\n",
    "    #sampler=StratifiedSampler(),\n",
    "    num_workers=20,\n",
    ")"
   ]
  },
  {
   "cell_type": "code",
   "execution_count": 17,
   "metadata": {
    "scrolled": true
   },
   "outputs": [
    {
     "name": "stdout",
     "output_type": "stream",
     "text": [
      "CPU times: user 43min 41s, sys: 19min 28s, total: 1h 3min 10s\n",
      "Wall time: 3min 18s\n"
     ]
    }
   ],
   "source": [
    "%%time\n",
    "\n",
    "#preds_test = predict_proba(net, test_dl, device)\n",
    "\n",
    "preds_test = (predict_proba(net, test_dl, device) + \\\n",
    "              np.array([x[:,::-1] for x in predict_proba(net, test_dl_flip, device)])) / 2"
   ]
  },
  {
   "cell_type": "code",
   "execution_count": 18,
   "metadata": {},
   "outputs": [
    {
     "data": {
      "application/vnd.jupyter.widget-view+json": {
       "model_id": "eef315139873448dae4bf4c098502038",
       "version_major": 2,
       "version_minor": 0
      },
      "text/plain": [
       "HBox(children=(IntProgress(value=0, max=18000), HTML(value='')))"
      ]
     },
     "metadata": {},
     "output_type": "display_data"
    },
    {
     "name": "stdout",
     "output_type": "stream",
     "text": [
      "\n"
     ]
    }
   ],
   "source": [
    "## pred_prob to preds by threashold_best, and unpad to 101x101\n",
    "unpad_pred_dict = {idx: np.round(unpad_reflect(preds_test[i]) > threshold_best) for i, idx in enumerate(tqdm_notebook(img_ids))}\n"
   ]
  },
  {
   "cell_type": "code",
   "execution_count": null,
   "metadata": {
    "scrolled": true
   },
   "outputs": [],
   "source": []
  },
  {
   "cell_type": "code",
   "execution_count": 19,
   "metadata": {},
   "outputs": [
    {
     "name": "stdout",
     "output_type": "stream",
     "text": [
      "another model predict zero mask in testset cnt:  7886\n"
     ]
    }
   ],
   "source": [
    "# load saved predicted zero image ids, and remove small masks (<25)\n",
    "# with open('../data/processed/zero_nonzero_img_ids.pkl', 'rb') as f:\n",
    "#     zero_img_ids, nonzero_img_ids = pickle.load(f)\n",
    "\n",
    "df = pd.read_csv('../submissions/013_0929_pytorch_pred_zero_mask.csv.gz')\n",
    "zero_mask_ids = df.loc[df.rle_mask.notna(), 'id'].tolist()\n",
    "print('another model predict zero mask in testset cnt: ', len(zero_mask_ids))\n",
    "\n",
    "for k,v in unpad_pred_dict.items():\n",
    "    if k in zero_mask_ids:#remove zero mask predictions\n",
    "        v = v * 0\n",
    "        unpad_pred_dict[k] = v\n",
    "    else:\n",
    "        continue"
   ]
  },
  {
   "cell_type": "code",
   "execution_count": 52,
   "metadata": {},
   "outputs": [],
   "source": [
    "# # predict zero, nonzero imgs\n",
    "# zero_img_ids, nonzero_img_ids = [], []\n",
    "\n",
    "# for k,v in unpad_pred_dict.items():\n",
    "#     if v.sum()<25:\n",
    "#         zero_img_ids.append(k)\n",
    "#     else:\n",
    "#         nonzero_img_ids.append(k)\n",
    "\n",
    "# with open('../data/processed/zero_nonzero_img_ids.pkl', 'wb') as f:\n",
    "#     pickle.dump(zero_mask_ids, f)"
   ]
  },
  {
   "cell_type": "code",
   "execution_count": 45,
   "metadata": {
    "scrolled": true
   },
   "outputs": [],
   "source": [
    "# cnt = 0\n",
    "# for k,v in unpad_pred_dict.items():\n",
    "#     if 0<v.sum()<25:\n",
    "#         #print(k)\n",
    "#         cnt += 1\n",
    "# print(cnt)\n",
    "\n",
    "# for k,v in unpad_pred_dict.items():\n",
    "#     if v.sum()<25:\n",
    "#         v *= 0\n",
    "#         v[0, 0] = 1\n",
    "#         unpad_pred_dict[k] = v\n",
    "#     else:\n",
    "#         v *= 0\n",
    "#         unpad_pred_dict[k] = v"
   ]
  },
  {
   "cell_type": "code",
   "execution_count": 43,
   "metadata": {},
   "outputs": [
    {
     "name": "stdout",
     "output_type": "stream",
     "text": [
      "pred zero mask:  7848 0.436\n"
     ]
    }
   ],
   "source": [
    "print('pred zero mask: ', 7848, 7848/18000)"
   ]
  },
  {
   "cell_type": "code",
   "execution_count": 20,
   "metadata": {
    "scrolled": true
   },
   "outputs": [
    {
     "data": {
      "application/vnd.jupyter.widget-view+json": {
       "model_id": "3b840cd9cd544da0bd732b5090bdb782",
       "version_major": 2,
       "version_minor": 0
      },
      "text/plain": [
       "HBox(children=(IntProgress(value=0, max=18000), HTML(value='')))"
      ]
     },
     "metadata": {},
     "output_type": "display_data"
    },
    {
     "name": "stdout",
     "output_type": "stream",
     "text": [
      "\n"
     ]
    }
   ],
   "source": [
    "## for single model submission\n",
    "pred_dict = {idx: rle_encode(pred) for idx, pred in tqdm_notebook(unpad_pred_dict.items())}\n",
    "\n",
    "sub = pd.DataFrame.from_dict(pred_dict,orient='index')\n",
    "sub = sub.reset_index().rename(columns={'index':'id', 0:'rle_mask'})"
   ]
  },
  {
   "cell_type": "code",
   "execution_count": 22,
   "metadata": {},
   "outputs": [],
   "source": [
    "#print(sub_name)\n",
    "sub.to_csv('../submissions/1002_pytorch_clfzero_hypercol_check_839model.csv.gz', compression='gzip', index=False)"
   ]
  },
  {
   "cell_type": "code",
   "execution_count": null,
   "metadata": {
    "scrolled": true
   },
   "outputs": [],
   "source": []
  },
  {
   "cell_type": "code",
   "execution_count": null,
   "metadata": {
    "scrolled": true
   },
   "outputs": [],
   "source": []
  },
  {
   "cell_type": "code",
   "execution_count": null,
   "metadata": {
    "scrolled": true
   },
   "outputs": [],
   "source": []
  },
  {
   "cell_type": "markdown",
   "metadata": {},
   "source": [
    "## blending models"
   ]
  },
  {
   "cell_type": "code",
   "execution_count": null,
   "metadata": {},
   "outputs": [],
   "source": [
    "## TODO: for 5-fold-cv models, blend probability preds here (Note each model has specific threshold_best)\n",
    "pred = []"
   ]
  },
  {
   "cell_type": "code",
   "execution_count": null,
   "metadata": {},
   "outputs": [],
   "source": [
    "_pred = np.round(preds_test > threshold_best)\n",
    "pred.append(_pred)"
   ]
  },
  {
   "cell_type": "code",
   "execution_count": null,
   "metadata": {},
   "outputs": [],
   "source": [
    "preds_test_blend = np.round((pred[0] + pred[1] + pred[2]) / 3 > 0.5)"
   ]
  },
  {
   "cell_type": "code",
   "execution_count": null,
   "metadata": {},
   "outputs": [],
   "source": [
    "# convert to rle_mask format and submit\n",
    "pred_dict = {idx: rle_encode(downsample(preds_test_blend[i])) for i, idx in enumerate(tqdm_notebook(test_df.index.values))}\n",
    "\n",
    "sub = pd.DataFrame.from_dict(pred_dict,orient='index')\n",
    "sub = sub.reset_index().rename(columns={'index':'id', 0:'rle_mask'})"
   ]
  },
  {
   "cell_type": "code",
   "execution_count": null,
   "metadata": {},
   "outputs": [],
   "source": [
    "sub.to_csv('submissions/0910_unet080_seed_epoch100_3fold_blend.csv.gz', compression='gzip', index=False)"
   ]
  },
  {
   "cell_type": "code",
   "execution_count": null,
   "metadata": {},
   "outputs": [],
   "source": [
    "sub"
   ]
  },
  {
   "cell_type": "code",
   "execution_count": null,
   "metadata": {},
   "outputs": [],
   "source": []
  },
  {
   "cell_type": "code",
   "execution_count": null,
   "metadata": {},
   "outputs": [],
   "source": []
  },
  {
   "cell_type": "code",
   "execution_count": null,
   "metadata": {},
   "outputs": [],
   "source": []
  },
  {
   "cell_type": "code",
   "execution_count": null,
   "metadata": {},
   "outputs": [],
   "source": []
  }
 ],
 "metadata": {
  "kernelspec": {
   "display_name": "Python 3",
   "language": "python",
   "name": "python3"
  },
  "language_info": {
   "codemirror_mode": {
    "name": "ipython",
    "version": 3
   },
   "file_extension": ".py",
   "mimetype": "text/x-python",
   "name": "python",
   "nbconvert_exporter": "python",
   "pygments_lexer": "ipython3",
   "version": "3.6.5"
  }
 },
 "nbformat": 4,
 "nbformat_minor": 2
}
