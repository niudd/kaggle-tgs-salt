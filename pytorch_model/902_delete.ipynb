{
 "cells": [
  {
   "cell_type": "code",
   "execution_count": 1,
   "metadata": {
    "scrolled": true
   },
   "outputs": [
    {
     "name": "stderr",
     "output_type": "stream",
     "text": [
      "/home/endi/anaconda3/lib/python3.6/site-packages/h5py/__init__.py:36: FutureWarning: Conversion of the second argument of issubdtype from `float` to `np.floating` is deprecated. In future, it will be treated as `np.float64 == np.dtype(float).type`.\n",
      "  from ._conv import register_converters as _register_converters\n",
      "Using TensorFlow backend.\n"
     ]
    }
   ],
   "source": [
    "import pandas as pd\n",
    "import numpy as np\n",
    "from tqdm import tqdm_notebook\n",
    "import pickle\n",
    "from glob import glob\n",
    "import os\n",
    "from keras.preprocessing.image import load_img"
   ]
  },
  {
   "cell_type": "code",
   "execution_count": 2,
   "metadata": {},
   "outputs": [],
   "source": [
    "import torch\n",
    "from torch.utils.data import DataLoader, Dataset\n",
    "\n",
    "from model import UNetResNet34, predict_proba\n",
    "from utils import load_checkpoint\n",
    "from dataset import pad_reflect, unpad_reflect, unpad_reflect256, TgsDataSet\n",
    "from postprocess import rle_encode\n",
    "\n",
    "from importlib import reload\n",
    "import metrics\n",
    "reload(metrics)\n",
    "from metrics import *\n",
    "\n",
    "from augmentation_huang import do_center_pad_to_factor"
   ]
  },
  {
   "cell_type": "code",
   "execution_count": 3,
   "metadata": {},
   "outputs": [],
   "source": [
    "from matplotlib import pyplot as plt\n",
    "\n",
    "%matplotlib inline"
   ]
  },
  {
   "cell_type": "markdown",
   "metadata": {},
   "source": [
    "## post-process"
   ]
  },
  {
   "cell_type": "code",
   "execution_count": 4,
   "metadata": {},
   "outputs": [],
   "source": [
    "os.environ[\"CUDA_DEVICE_ORDER\"] = \"PCI_BUS_ID\"\n",
    "os.environ[\"CUDA_VISIBLE_DEVICES\"] = \"0, 1\"\n",
    "device = torch.device(\"cuda:0\" if torch.cuda.is_available() else \"cpu\")\n",
    "\n",
    "#device = torch.device(\"cpu\")\n",
    "#torch.set_num_threads(20)\n",
    "\n",
    "img_size_target = 101#128,256\n",
    "\n",
    "SEED = 6789#5678#4567#3456#2345#1234"
   ]
  },
  {
   "cell_type": "code",
   "execution_count": 5,
   "metadata": {},
   "outputs": [],
   "source": [
    "# choose best threshold using validset\n",
    "with open('../data/processed/dataset_%d.pkl'%SEED, 'rb') as f:\n",
    "    ids_train, ids_valid, x_train, x_valid, y_train, y_valid, cov_train, cov_test, depth_train, depth_test = pickle.load(f)"
   ]
  },
  {
   "cell_type": "markdown",
   "metadata": {},
   "source": [
    "## select best_threshold for iou using valid dataset"
   ]
  },
  {
   "cell_type": "code",
   "execution_count": 6,
   "metadata": {},
   "outputs": [],
   "source": [
    "# valid data & its flipped version\n",
    "val_ds = TgsDataSet(x_valid, y_valid, transform=False)\n",
    "val_dl = DataLoader(\n",
    "    val_ds,\n",
    "    batch_size=32,\n",
    "    shuffle=False,\n",
    "    #sampler=StratifiedSampler(),\n",
    "    num_workers=20,\n",
    ")\n",
    "\n",
    "## x.shape = [1, 128, 128]\n",
    "val_ds_flip = TgsDataSet(np.array([x[:,:,::-1] for x in x_valid]), y_valid, transform=False)\n",
    "val_dl_flip = DataLoader(\n",
    "    val_ds_flip,\n",
    "    batch_size=32,\n",
    "    shuffle=False,\n",
    "    #sampler=StratifiedSampler(),\n",
    "    num_workers=20,\n",
    ")"
   ]
  },
  {
   "cell_type": "code",
   "execution_count": 7,
   "metadata": {},
   "outputs": [],
   "source": [
    "# load the trained model\n",
    "net = UNetResNet34(pretrained=True).cuda(device=device)\n",
    "checkpoint_path = 'checkpoint/1008_v1_seed6789_snapshot/cycle5.pth.tar'\n",
    "net, _ = load_checkpoint(checkpoint_path, net)"
   ]
  },
  {
   "cell_type": "code",
   "execution_count": 8,
   "metadata": {
    "scrolled": true
   },
   "outputs": [],
   "source": [
    "net.set_mode('valid')\n",
    "preds_valid = (predict_proba(net, val_dl, device) + \\\n",
    "              np.array([x[:,::-1] for x in predict_proba(net, val_dl_flip, device)])) / 2"
   ]
  },
  {
   "cell_type": "code",
   "execution_count": 9,
   "metadata": {
    "scrolled": true
   },
   "outputs": [
    {
     "data": {
      "text/plain": [
       "((400, 1, 101, 101), (400, 256, 256))"
      ]
     },
     "execution_count": 9,
     "metadata": {},
     "output_type": "execute_result"
    }
   ],
   "source": [
    "y_valid.shape, preds_valid.shape"
   ]
  },
  {
   "cell_type": "code",
   "execution_count": 10,
   "metadata": {
    "scrolled": true
   },
   "outputs": [],
   "source": [
    "# keep only nonzero mask images\n",
    "preds_valid = preds_valid[y_valid.reshape(400, 101*101).sum(axis=1)!=0, :, :]\n",
    "y_valid = y_valid[y_valid.reshape(400, 101*101).sum(axis=1)!=0, :, :, :]"
   ]
  },
  {
   "cell_type": "code",
   "execution_count": null,
   "metadata": {
    "scrolled": true
   },
   "outputs": [],
   "source": []
  },
  {
   "cell_type": "code",
   "execution_count": 11,
   "metadata": {},
   "outputs": [
    {
     "data": {
      "application/vnd.jupyter.widget-view+json": {
       "model_id": "89bc851f91ab4458b168a6621ce76996",
       "version_major": 2,
       "version_minor": 0
      },
      "text/plain": [
       "HBox(children=(IntProgress(value=0, max=31), HTML(value='')))"
      ]
     },
     "metadata": {},
     "output_type": "display_data"
    },
    {
     "name": "stdout",
     "output_type": "stream",
     "text": [
      "\n",
      "[0.81188525 0.81762295 0.82008197 0.82377049 0.82581967 0.82663934\n",
      " 0.82786885 0.82581967 0.82459016 0.82459016 0.82581967 0.82622951\n",
      " 0.82540984 0.82581967 0.825      0.82295082 0.82172131 0.8204918\n",
      " 0.82090164 0.82008197 0.8204918  0.81721311 0.8204918  0.81393443\n",
      " 0.81147541 0.8102459  0.80737705 0.8057377  0.80368852 0.79836066\n",
      " 0.7942623 ]\n"
     ]
    },
    {
     "data": {
      "text/plain": [
       "<matplotlib.legend.Legend at 0x7fe11ce78320>"
      ]
     },
     "execution_count": 11,
     "metadata": {},
     "output_type": "execute_result"
    },
    {
     "data": {
      "image/png": "[encoded data removed]",
      "text/plain": [
       "<Figure size 432x288 with 1 Axes>"
      ]
     },
     "metadata": {},
     "output_type": "display_data"
    }
   ],
   "source": [
    "thresholds_ori = np.linspace(0.1, 0.9, 31)#np.linspace(0.3, 0.7, 31)\n",
    "# Reverse sigmoid function: Use code below because the  sigmoid activation was removed\n",
    "thresholds = np.log(thresholds_ori/(1-thresholds_ori))\n",
    "\n",
    "# ious = np.array([get_iou_vector(y_valid, preds_valid > threshold) for threshold in tqdm_notebook(thresholds)])\n",
    "# print(ious)\n",
    "\n",
    "#y_valid = np.array([do_center_pad_to_factor(image.reshape(101, 101), factor=32).reshape(1, 128, 128) \\\n",
    "#                    for image in y_valid]) #if use Huang's augmentation, otherwise comment this line\n",
    "preds_valid = np.array([unpad_reflect256(image) for image in preds_valid])\n",
    "ious = np.array([iou_metric_batch(y_valid, preds_valid > threshold) for threshold in tqdm_notebook(thresholds)])\n",
    "print(ious)\n",
    "\n",
    "# instead of using default 0 as threshold, use validation data to find the best threshold.\n",
    "threshold_best_index = np.argmax(ious) \n",
    "iou_best = ious[threshold_best_index]\n",
    "threshold_best = thresholds[threshold_best_index]\n",
    "\n",
    "plt.plot(thresholds, ious)\n",
    "plt.plot(threshold_best, iou_best, \"xr\", label=\"Best threshold\")\n",
    "plt.xlabel(\"Threshold\")\n",
    "plt.ylabel(\"IoU\")\n",
    "plt.title(\"Threshold vs IoU ({}, {})\".format(threshold_best, iou_best))\n",
    "plt.legend()"
   ]
  },
  {
   "cell_type": "code",
   "execution_count": 12,
   "metadata": {},
   "outputs": [
    {
     "data": {
      "text/plain": [
       "(-1.0459685551826876, 0.8278688524590164)"
      ]
     },
     "execution_count": 12,
     "metadata": {},
     "output_type": "execute_result"
    }
   ],
   "source": [
    "threshold_best, iou_best"
   ]
  },
  {
   "cell_type": "markdown",
   "metadata": {},
   "source": [
    "## using best threshold to predict"
   ]
  },
  {
   "cell_type": "code",
   "execution_count": 13,
   "metadata": {},
   "outputs": [
    {
     "data": {
      "application/vnd.jupyter.widget-view+json": {
       "model_id": "8f4272ff5cf54bd680a74de4bcf935b3",
       "version_major": 2,
       "version_minor": 0
      },
      "text/plain": [
       "HBox(children=(IntProgress(value=0, max=18000), HTML(value='')))"
      ]
     },
     "metadata": {},
     "output_type": "display_data"
    },
    {
     "name": "stdout",
     "output_type": "stream",
     "text": [
      "\n"
     ]
    }
   ],
   "source": [
    "## create testset\n",
    "img_ids = [f.split('/')[-1].split('.')[0] for f in glob('../data/raw/test_images/images/*.png')]\n",
    "\n",
    "x_test = [(np.array(load_img(\"../data/raw/test_images/images/{}.png\".format(idx), \\\n",
    "                                      color_mode = \"grayscale\"))) / 255 for idx in tqdm_notebook(img_ids)]"
   ]
  },
  {
   "cell_type": "code",
   "execution_count": 81,
   "metadata": {},
   "outputs": [],
   "source": [
    "# with open('../data/processed/testset%d.pkl'%SEED, 'wb') as f:\n",
    "#     pickle.dump([img_ids, x_test], f)"
   ]
  },
  {
   "cell_type": "code",
   "execution_count": 14,
   "metadata": {},
   "outputs": [],
   "source": [
    "# for testset, also predict raw & flipped version, then average\n",
    "#x_test_arr = np.array(list(map(pad_reflect, x_test)))\n",
    "x_test_arr = np.array(x_test).reshape(18000, 1, 101, 101) #if use Huang's augmentation, otherwise comment this line\n",
    "y_test = np.zeros(shape=(18000, 1, 101, 101))\n",
    "\n",
    "test_ds = TgsDataSet(x_test_arr, y_test, transform=False)\n",
    "test_dl = DataLoader(\n",
    "    test_ds,\n",
    "    batch_size=32,\n",
    "    shuffle=False,\n",
    "    #sampler=StratifiedSampler(),\n",
    "    num_workers=20,\n",
    ")\n",
    "\n",
    "test_ds_flip = TgsDataSet(np.array([x[:,:,::-1] for x in x_test_arr]), y_test, transform=False)\n",
    "test_dl_flip = DataLoader(\n",
    "    test_ds_flip,\n",
    "    batch_size=32,\n",
    "    shuffle=False,\n",
    "    #sampler=StratifiedSampler(),\n",
    "    num_workers=20,\n",
    ")"
   ]
  },
  {
   "cell_type": "code",
   "execution_count": 15,
   "metadata": {
    "scrolled": true
   },
   "outputs": [
    {
     "name": "stdout",
     "output_type": "stream",
     "text": [
      "CPU times: user 2h 6s, sys: 1h 42min 50s, total: 3h 42min 57s\n",
      "Wall time: 16min 59s\n"
     ]
    }
   ],
   "source": [
    "%%time\n",
    "\n",
    "#preds_test = predict_proba(net, test_dl, device)\n",
    "\n",
    "net.set_mode('test')\n",
    "preds_test = (predict_proba(net, test_dl, device) + \\\n",
    "              np.array([x[:,::-1] for x in predict_proba(net, test_dl_flip, device)])) / 2"
   ]
  },
  {
   "cell_type": "code",
   "execution_count": 16,
   "metadata": {
    "scrolled": true
   },
   "outputs": [],
   "source": [
    "# saving\n",
    "with open('prediction/1008_v1_seed6789_snapshot_cycle5.pkl', 'wb') as f:\n",
    "    pickle.dump([preds_test, threshold_best], f, protocol=4)"
   ]
  },
  {
   "cell_type": "code",
   "execution_count": null,
   "metadata": {},
   "outputs": [],
   "source": []
  },
  {
   "cell_type": "code",
   "execution_count": null,
   "metadata": {},
   "outputs": [],
   "source": []
  },
  {
   "cell_type": "code",
   "execution_count": 19,
   "metadata": {},
   "outputs": [
    {
     "data": {
      "application/vnd.jupyter.widget-view+json": {
       "model_id": "1278088e867a4ff0ad71d9d0b0802529",
       "version_major": 2,
       "version_minor": 0
      },
      "text/plain": [
       "HBox(children=(IntProgress(value=0, max=18000), HTML(value='')))"
      ]
     },
     "metadata": {},
     "output_type": "display_data"
    },
    {
     "name": "stdout",
     "output_type": "stream",
     "text": [
      "\n"
     ]
    }
   ],
   "source": [
    "## pred_prob to preds by threashold_best, and unpad to 101x101\n",
    "unpad_pred_dict = {idx: np.round(unpad_reflect256(preds_test[i]) > threshold_best) for i, idx in enumerate(tqdm_notebook(img_ids))}\n"
   ]
  },
  {
   "cell_type": "code",
   "execution_count": 20,
   "metadata": {},
   "outputs": [
    {
     "name": "stdout",
     "output_type": "stream",
     "text": [
      "another model predict zero mask in testset cnt:  7886\n"
     ]
    }
   ],
   "source": [
    "# load saved predicted zero image ids, and remove small masks (<25)\n",
    "# with open('../data/processed/zero_nonzero_img_ids.pkl', 'rb') as f:\n",
    "#     zero_img_ids, nonzero_img_ids = pickle.load(f)\n",
    "\n",
    "df = pd.read_csv('../submissions/013_0929_pytorch_pred_zero_mask.csv.gz')\n",
    "zero_mask_ids = df.loc[df.rle_mask.notna(), 'id'].tolist()\n",
    "print('another model predict zero mask in testset cnt: ', len(zero_mask_ids))\n",
    "\n",
    "for k,v in unpad_pred_dict.items():\n",
    "    if k in zero_mask_ids:#remove zero mask predictions\n",
    "        v = v * 0\n",
    "        unpad_pred_dict[k] = v\n",
    "    else:\n",
    "        continue"
   ]
  },
  {
   "cell_type": "code",
   "execution_count": 52,
   "metadata": {},
   "outputs": [],
   "source": [
    "# # predict zero, nonzero imgs\n",
    "# zero_img_ids, nonzero_img_ids = [], []\n",
    "\n",
    "# for k,v in unpad_pred_dict.items():\n",
    "#     if v.sum()<25:\n",
    "#         zero_img_ids.append(k)\n",
    "#     else:\n",
    "#         nonzero_img_ids.append(k)\n",
    "\n",
    "# with open('../data/processed/zero_nonzero_img_ids.pkl', 'wb') as f:\n",
    "#     pickle.dump(zero_mask_ids, f)"
   ]
  },
  {
   "cell_type": "code",
   "execution_count": 45,
   "metadata": {
    "scrolled": true
   },
   "outputs": [],
   "source": [
    "# cnt = 0\n",
    "# for k,v in unpad_pred_dict.items():\n",
    "#     if 0<v.sum()<25:\n",
    "#         #print(k)\n",
    "#         cnt += 1\n",
    "# print(cnt)\n",
    "\n",
    "# for k,v in unpad_pred_dict.items():\n",
    "#     if v.sum()<25:\n",
    "#         v *= 0\n",
    "#         v[0, 0] = 1\n",
    "#         unpad_pred_dict[k] = v\n",
    "#     else:\n",
    "#         v *= 0\n",
    "#         unpad_pred_dict[k] = v"
   ]
  },
  {
   "cell_type": "code",
   "execution_count": 43,
   "metadata": {},
   "outputs": [
    {
     "name": "stdout",
     "output_type": "stream",
     "text": [
      "pred zero mask:  7848 0.436\n"
     ]
    }
   ],
   "source": [
    "print('pred zero mask: ', 7848, 7848/18000)"
   ]
  },
  {
   "cell_type": "code",
   "execution_count": 21,
   "metadata": {
    "scrolled": true
   },
   "outputs": [
    {
     "data": {
      "application/vnd.jupyter.widget-view+json": {
       "model_id": "1fc1b9219fd845b6996757b8196c54d4",
       "version_major": 2,
       "version_minor": 0
      },
      "text/plain": [
       "HBox(children=(IntProgress(value=0, max=18000), HTML(value='')))"
      ]
     },
     "metadata": {},
     "output_type": "display_data"
    },
    {
     "name": "stdout",
     "output_type": "stream",
     "text": [
      "\n"
     ]
    }
   ],
   "source": [
    "## for single model submission\n",
    "pred_dict = {idx: rle_encode(pred) for idx, pred in tqdm_notebook(unpad_pred_dict.items())}\n",
    "\n",
    "sub = pd.DataFrame.from_dict(pred_dict,orient='index')\n",
    "sub = sub.reset_index().rename(columns={'index':'id', 0:'rle_mask'})"
   ]
  },
  {
   "cell_type": "code",
   "execution_count": 23,
   "metadata": {},
   "outputs": [],
   "source": [
    "#print(sub_name)\n",
    "sub.to_csv('../submissions/1006_v1_seed%d.csv.gz'%SEED, compression='gzip', index=False)"
   ]
  },
  {
   "cell_type": "code",
   "execution_count": null,
   "metadata": {
    "scrolled": true
   },
   "outputs": [],
   "source": []
  },
  {
   "cell_type": "code",
   "execution_count": null,
   "metadata": {
    "scrolled": true
   },
   "outputs": [],
   "source": []
  },
  {
   "cell_type": "code",
   "execution_count": null,
   "metadata": {
    "scrolled": true
   },
   "outputs": [],
   "source": []
  },
  {
   "cell_type": "markdown",
   "metadata": {},
   "source": [
    "## for visualizing training images, save predictions on train images here"
   ]
  },
  {
   "cell_type": "code",
   "execution_count": 5,
   "metadata": {},
   "outputs": [
    {
     "data": {
      "application/vnd.jupyter.widget-view+json": {
       "model_id": "939b85248827441a9e0a76a9404d4a16",
       "version_major": 2,
       "version_minor": 0
      },
      "text/plain": [
       "HBox(children=(IntProgress(value=0, max=4000), HTML(value='')))"
      ]
     },
     "metadata": {},
     "output_type": "display_data"
    },
    {
     "name": "stdout",
     "output_type": "stream",
     "text": [
      "\n"
     ]
    }
   ],
   "source": [
    "## this is actually trainset, not testset !!!\n",
    "img_ids = [f.split('/')[-1].split('.')[0] for f in glob('../data/raw/train_images/images/*.png')]\n",
    "\n",
    "x_test = [(np.array(load_img(\"../data/raw/train_images/images/{}.png\".format(idx), \\\n",
    "                                      color_mode = \"grayscale\"))) / 255 for idx in tqdm_notebook(img_ids)]"
   ]
  },
  {
   "cell_type": "code",
   "execution_count": 6,
   "metadata": {},
   "outputs": [],
   "source": [
    "# for testset, also predict raw & flipped version, then average\n",
    "#x_test_arr = np.array(list(map(pad_reflect, x_test)))\n",
    "x_test_arr = np.array(x_test).reshape(4000, 1, 101, 101) #if use Huang's augmentation, otherwise comment this line\n",
    "y_test = np.zeros(shape=(4000, 1, 101, 101))\n",
    "\n",
    "test_ds = TgsDataSet(x_test_arr, y_test, transform=False)\n",
    "test_dl = DataLoader(\n",
    "    test_ds,\n",
    "    batch_size=32,\n",
    "    shuffle=False,\n",
    "    #sampler=StratifiedSampler(),\n",
    "    num_workers=20,\n",
    ")\n",
    "\n",
    "test_ds_flip = TgsDataSet(np.array([x[:,:,::-1] for x in x_test_arr]), y_test, transform=False)\n",
    "test_dl_flip = DataLoader(\n",
    "    test_ds_flip,\n",
    "    batch_size=32,\n",
    "    shuffle=False,\n",
    "    #sampler=StratifiedSampler(),\n",
    "    num_workers=20,\n",
    ")"
   ]
  },
  {
   "cell_type": "code",
   "execution_count": 7,
   "metadata": {
    "scrolled": true
   },
   "outputs": [],
   "source": [
    "preds = None\n",
    "\n",
    "for i in range(6):\n",
    "    # load the trained model\n",
    "    net = UNetResNet34(pretrained=True).cuda(device=device)\n",
    "    checkpoint_path = 'checkpoint/1008_v1_seed1234_snapshot/cycle%d.pth.tar'%i\n",
    "    net, _ = load_checkpoint(checkpoint_path, net)\n",
    "    \n",
    "    net.set_mode('test')\n",
    "    preds_test = (predict_proba(net, test_dl, device) + \\\n",
    "              np.array([x[:,::-1] for x in predict_proba(net, test_dl_flip, device)])) / 2\n",
    "    \n",
    "    with open('prediction/1008_v1_seed1234_snapshot_cycle%d.pkl'%i, 'rb') as f:\n",
    "            _, threshold_best = pickle.load(f)\n",
    "    \n",
    "    preds_test = np.array([unpad_reflect256(image)>threshold_best for image in preds_test]).astype(int)\n",
    "    \n",
    "    if preds is None:\n",
    "        preds = preds_test\n",
    "    else:\n",
    "        preds += preds_test"
   ]
  },
  {
   "cell_type": "code",
   "execution_count": 8,
   "metadata": {},
   "outputs": [],
   "source": [
    "N = 3\n",
    "\n",
    "unpad_pred_dict = {}\n",
    "for i, img_id in enumerate(img_ids):\n",
    "    unpad_pred_dict[img_id] = np.round(preds[i] > N)"
   ]
  },
  {
   "cell_type": "code",
   "execution_count": 9,
   "metadata": {
    "scrolled": true
   },
   "outputs": [
    {
     "name": "stdout",
     "output_type": "stream",
     "text": [
      "model predict zero mask in testset cnt:  7498\n"
     ]
    }
   ],
   "source": [
    "# all image model predict zero mask imgs\n",
    "# '../submissions/1010_849model_all_mask_predict_zero_mask_seed1234_2345_3456_blend.csv.gz' gives the best LB\n",
    "df = pd.read_csv('../submissions/1010_849model_all_mask_predict_zero_mask_seed1234_2345_3456_blend.csv.gz')\n",
    "#zero_mask_ids = df.loc[df.rle_mask.notna(), 'id'].tolist()\n",
    "zero_mask_ids = df.loc[df.is_zero_mask==True, 'id'].tolist()\n",
    "\n",
    "print('model predict zero mask in testset cnt: ', len(zero_mask_ids))\n",
    "for k,v in unpad_pred_dict.items():\n",
    "    if k in zero_mask_ids:#remove zero mask predictions\n",
    "        v = v * 0\n",
    "        unpad_pred_dict[k] = v\n",
    "    else:\n",
    "        continue"
   ]
  },
  {
   "cell_type": "code",
   "execution_count": 14,
   "metadata": {},
   "outputs": [],
   "source": [
    "# saving\n",
    "with open('../data/processed/trainset_pred1017.pkl', 'wb') as f:\n",
    "    pickle.dump(unpad_pred_dict, f, protocol=4)"
   ]
  },
  {
   "cell_type": "code",
   "execution_count": null,
   "metadata": {},
   "outputs": [],
   "source": []
  },
  {
   "cell_type": "code",
   "execution_count": null,
   "metadata": {},
   "outputs": [],
   "source": []
  }
 ],
 "metadata": {
  "kernelspec": {
   "display_name": "Python 3",
   "language": "python",
   "name": "python3"
  },
  "language_info": {
   "codemirror_mode": {
    "name": "ipython",
    "version": 3
   },
   "file_extension": ".py",
   "mimetype": "text/x-python",
   "name": "python",
   "nbconvert_exporter": "python",
   "pygments_lexer": "ipython3",
   "version": "3.6.5"
  }
 },
 "nbformat": 4,
 "nbformat_minor": 2
}
