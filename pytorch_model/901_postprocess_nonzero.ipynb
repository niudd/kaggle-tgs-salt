{
 "cells": [
  {
   "cell_type": "code",
   "execution_count": 1,
   "metadata": {
    "scrolled": true
   },
   "outputs": [
    {
     "name": "stderr",
     "output_type": "stream",
     "text": [
      "/home/endi/anaconda3/lib/python3.6/site-packages/h5py/__init__.py:36: FutureWarning: Conversion of the second argument of issubdtype from `float` to `np.floating` is deprecated. In future, it will be treated as `np.float64 == np.dtype(float).type`.\n",
      "  from ._conv import register_converters as _register_converters\n",
      "Using TensorFlow backend.\n"
     ]
    }
   ],
   "source": [
    "import pandas as pd\n",
    "import numpy as np\n",
    "from tqdm import tqdm_notebook\n",
    "import pickle\n",
    "from glob import glob\n",
    "import os\n",
    "import gc\n",
    "from keras.preprocessing.image import load_img"
   ]
  },
  {
   "cell_type": "code",
   "execution_count": 2,
   "metadata": {},
   "outputs": [],
   "source": [
    "import torch\n",
    "from torch.utils.data import DataLoader, Dataset\n",
    "\n",
    "from model import UNetResNet34, predict_proba\n",
    "from utils import load_checkpoint\n",
    "from dataset import pad_reflect, unpad_reflect, unpad_reflect256, TgsDataSet\n",
    "from postprocess import rle_encode\n",
    "\n",
    "from importlib import reload\n",
    "import metrics\n",
    "reload(metrics)\n",
    "from metrics import *\n",
    "\n",
    "from augmentation_huang import do_center_pad_to_factor"
   ]
  },
  {
   "cell_type": "code",
   "execution_count": 3,
   "metadata": {},
   "outputs": [],
   "source": [
    "from matplotlib import pyplot as plt\n",
    "\n",
    "%matplotlib inline"
   ]
  },
  {
   "cell_type": "markdown",
   "metadata": {},
   "source": [
    "## post-process"
   ]
  },
  {
   "cell_type": "code",
   "execution_count": 4,
   "metadata": {},
   "outputs": [],
   "source": [
    "os.environ[\"CUDA_DEVICE_ORDER\"] = \"PCI_BUS_ID\"\n",
    "os.environ[\"CUDA_VISIBLE_DEVICES\"] = \"0, 1\"\n",
    "device = torch.device(\"cuda:1\" if torch.cuda.is_available() else \"cpu\")\n",
    "\n",
    "#device = torch.device(\"cpu\")\n",
    "#torch.set_num_threads(20)\n",
    "\n",
    "img_size_target = 101#128,256\n",
    "\n",
    "SEED = 6789#5678#4567#3456#2345#1234"
   ]
  },
  {
   "cell_type": "code",
   "execution_count": 5,
   "metadata": {},
   "outputs": [],
   "source": [
    "# choose best threshold using validset\n",
    "with open('../data/processed/dataset_%d.pkl'%SEED, 'rb') as f:\n",
    "    ids_train, ids_valid, x_train, x_valid, y_train, y_valid, cov_train, cov_test, depth_train, depth_test = pickle.load(f)"
   ]
  },
  {
   "cell_type": "markdown",
   "metadata": {},
   "source": [
    "## select best_threshold for iou using valid dataset"
   ]
  },
  {
   "cell_type": "code",
   "execution_count": 6,
   "metadata": {},
   "outputs": [],
   "source": [
    "# valid data & its flipped version\n",
    "val_ds = TgsDataSet(x_valid, y_valid, transform=False)\n",
    "val_dl = DataLoader(\n",
    "    val_ds,\n",
    "    batch_size=32,\n",
    "    shuffle=False,\n",
    "    #sampler=StratifiedSampler(),\n",
    "    num_workers=20,\n",
    ")\n",
    "\n",
    "## x.shape = [1, 128, 128]\n",
    "val_ds_flip = TgsDataSet(np.array([x[:,:,::-1] for x in x_valid]), y_valid, transform=False)\n",
    "val_dl_flip = DataLoader(\n",
    "    val_ds_flip,\n",
    "    batch_size=32,\n",
    "    shuffle=False,\n",
    "    #sampler=StratifiedSampler(),\n",
    "    num_workers=20,\n",
    ")"
   ]
  },
  {
   "cell_type": "code",
   "execution_count": 7,
   "metadata": {},
   "outputs": [],
   "source": [
    "# load the trained model\n",
    "net = UNetResNet34(pretrained=True).cuda(device=device)\n",
    "checkpoint_path = 'checkpoint/1008_v1_seed6789_snapshot/cycle4.pth.tar'\n",
    "net, _ = load_checkpoint(checkpoint_path, net)"
   ]
  },
  {
   "cell_type": "code",
   "execution_count": 8,
   "metadata": {
    "scrolled": true
   },
   "outputs": [],
   "source": [
    "net.set_mode('valid')\n",
    "preds_valid = (predict_proba(net, val_dl, device) + \\\n",
    "              np.array([x[:,::-1] for x in predict_proba(net, val_dl_flip, device)])) / 2"
   ]
  },
  {
   "cell_type": "code",
   "execution_count": 9,
   "metadata": {
    "scrolled": false
   },
   "outputs": [
    {
     "data": {
      "text/plain": [
       "((400, 1, 101, 101), (400, 256, 256))"
      ]
     },
     "execution_count": 9,
     "metadata": {},
     "output_type": "execute_result"
    }
   ],
   "source": [
    "y_valid.shape, preds_valid.shape"
   ]
  },
  {
   "cell_type": "code",
   "execution_count": 10,
   "metadata": {
    "scrolled": true
   },
   "outputs": [],
   "source": [
    "# keep only nonzero mask images\n",
    "preds_valid = preds_valid[y_valid.reshape(400, 101*101).sum(axis=1)!=0, :, :]\n",
    "y_valid = y_valid[y_valid.reshape(400, 101*101).sum(axis=1)!=0, :, :, :]"
   ]
  },
  {
   "cell_type": "code",
   "execution_count": null,
   "metadata": {
    "scrolled": true
   },
   "outputs": [],
   "source": []
  },
  {
   "cell_type": "code",
   "execution_count": 11,
   "metadata": {},
   "outputs": [
    {
     "data": {
      "application/vnd.jupyter.widget-view+json": {
       "model_id": "d247fa79c4fa409ca63fed7b51ad044c",
       "version_major": 2,
       "version_minor": 0
      },
      "text/plain": [
       "HBox(children=(IntProgress(value=0, max=31), HTML(value='')))"
      ]
     },
     "metadata": {},
     "output_type": "display_data"
    },
    {
     "name": "stdout",
     "output_type": "stream",
     "text": [
      "\n",
      "[0.82254098 0.82663934 0.82663934 0.82827869 0.83032787 0.83237705\n",
      " 0.83278689 0.83278689 0.83360656 0.83442623 0.83442623 0.83442623\n",
      " 0.83442623 0.83401639 0.83114754 0.82991803 0.82991803 0.82827869\n",
      " 0.82827869 0.82868852 0.825      0.82377049 0.82254098 0.82295082\n",
      " 0.8204918  0.82008197 0.81680328 0.81393443 0.80901639 0.80368852\n",
      " 0.79508197]\n"
     ]
    },
    {
     "data": {
      "text/plain": [
       "<matplotlib.legend.Legend at 0x7fa350071278>"
      ]
     },
     "execution_count": 11,
     "metadata": {},
     "output_type": "execute_result"
    },
    {
     "data": {
      "image/png": "[encoded data removed]",
      "text/plain": [
       "<Figure size 432x288 with 1 Axes>"
      ]
     },
     "metadata": {},
     "output_type": "display_data"
    }
   ],
   "source": [
    "thresholds_ori = np.linspace(0.1, 0.9, 31)#np.linspace(0.3, 0.7, 31)\n",
    "# Reverse sigmoid function: Use code below because the  sigmoid activation was removed\n",
    "thresholds = np.log(thresholds_ori/(1-thresholds_ori))\n",
    "\n",
    "# ious = np.array([get_iou_vector(y_valid, preds_valid > threshold) for threshold in tqdm_notebook(thresholds)])\n",
    "# print(ious)\n",
    "\n",
    "#y_valid = np.array([do_center_pad_to_factor(image.reshape(101, 101), factor=32).reshape(1, 128, 128) \\\n",
    "#                    for image in y_valid]) #if use Huang's augmentation, otherwise comment this line\n",
    "preds_valid = np.array([unpad_reflect256(image) for image in preds_valid])\n",
    "ious = np.array([iou_metric_batch(y_valid, preds_valid > threshold) for threshold in tqdm_notebook(thresholds)])\n",
    "print(ious)\n",
    "\n",
    "# instead of using default 0 as threshold, use validation data to find the best threshold.\n",
    "threshold_best_index = np.argmax(ious) \n",
    "iou_best = ious[threshold_best_index]\n",
    "threshold_best = thresholds[threshold_best_index]\n",
    "\n",
    "plt.plot(thresholds, ious)\n",
    "plt.plot(threshold_best, iou_best, \"xr\", label=\"Best threshold\")\n",
    "plt.xlabel(\"Threshold\")\n",
    "plt.ylabel(\"IoU\")\n",
    "plt.title(\"Threshold vs IoU ({}, {})\".format(threshold_best, iou_best))\n",
    "plt.legend()"
   ]
  },
  {
   "cell_type": "code",
   "execution_count": 12,
   "metadata": {},
   "outputs": [
    {
     "data": {
      "text/plain": [
       "(-0.32277339226305085, 0.8344262295081968)"
      ]
     },
     "execution_count": 12,
     "metadata": {},
     "output_type": "execute_result"
    }
   ],
   "source": [
    "threshold_best, iou_best"
   ]
  },
  {
   "cell_type": "markdown",
   "metadata": {},
   "source": [
    "## using best threshold to predict"
   ]
  },
  {
   "cell_type": "code",
   "execution_count": 13,
   "metadata": {},
   "outputs": [
    {
     "data": {
      "application/vnd.jupyter.widget-view+json": {
       "model_id": "9e044d1d14cb47c7b98f49b98df511cb",
       "version_major": 2,
       "version_minor": 0
      },
      "text/plain": [
       "HBox(children=(IntProgress(value=0, max=18000), HTML(value='')))"
      ]
     },
     "metadata": {},
     "output_type": "display_data"
    },
    {
     "name": "stdout",
     "output_type": "stream",
     "text": [
      "\n"
     ]
    }
   ],
   "source": [
    "## create testset\n",
    "img_ids = [f.split('/')[-1].split('.')[0] for f in glob('../data/raw/test_images/images/*.png')]\n",
    "\n",
    "x_test = [(np.array(load_img(\"../data/raw/test_images/images/{}.png\".format(idx), \\\n",
    "                                      color_mode = \"grayscale\"))) / 255 for idx in tqdm_notebook(img_ids)]"
   ]
  },
  {
   "cell_type": "code",
   "execution_count": 81,
   "metadata": {},
   "outputs": [],
   "source": [
    "# with open('../data/processed/testset%d.pkl'%SEED, 'wb') as f:\n",
    "#     pickle.dump([img_ids, x_test], f)"
   ]
  },
  {
   "cell_type": "code",
   "execution_count": 14,
   "metadata": {},
   "outputs": [],
   "source": [
    "# for testset, also predict raw & flipped version, then average\n",
    "#x_test_arr = np.array(list(map(pad_reflect, x_test)))\n",
    "x_test_arr = np.array(x_test).reshape(18000, 1, 101, 101) #if use Huang's augmentation, otherwise comment this line\n",
    "y_test = np.zeros(shape=(18000, 1, 101, 101))\n",
    "\n",
    "test_ds = TgsDataSet(x_test_arr, y_test, transform=False)\n",
    "test_dl = DataLoader(\n",
    "    test_ds,\n",
    "    batch_size=32,\n",
    "    shuffle=False,\n",
    "    #sampler=StratifiedSampler(),\n",
    "    num_workers=20,\n",
    ")\n",
    "\n",
    "test_ds_flip = TgsDataSet(np.array([x[:,:,::-1] for x in x_test_arr]), y_test, transform=False)\n",
    "test_dl_flip = DataLoader(\n",
    "    test_ds_flip,\n",
    "    batch_size=32,\n",
    "    shuffle=False,\n",
    "    #sampler=StratifiedSampler(),\n",
    "    num_workers=20,\n",
    ")"
   ]
  },
  {
   "cell_type": "code",
   "execution_count": 15,
   "metadata": {
    "scrolled": true
   },
   "outputs": [
    {
     "name": "stdout",
     "output_type": "stream",
     "text": [
      "CPU times: user 2h 7min 13s, sys: 1h 29min 55s, total: 3h 37min 8s\n",
      "Wall time: 16min 18s\n"
     ]
    }
   ],
   "source": [
    "%%time\n",
    "\n",
    "#preds_test = predict_proba(net, test_dl, device)\n",
    "\n",
    "net.set_mode('test')\n",
    "preds_test = (predict_proba(net, test_dl, device) + \\\n",
    "              np.array([x[:,::-1] for x in predict_proba(net, test_dl_flip, device)])) / 2"
   ]
  },
  {
   "cell_type": "code",
   "execution_count": 16,
   "metadata": {
    "scrolled": true
   },
   "outputs": [],
   "source": [
    "# saving\n",
    "with open('prediction/1008_v1_seed6789_snapshot_cycle4.pkl', 'wb') as f:\n",
    "    pickle.dump([preds_test, threshold_best], f, protocol=4)"
   ]
  },
  {
   "cell_type": "code",
   "execution_count": 5,
   "metadata": {},
   "outputs": [],
   "source": [
    "# # loading\n",
    "seed = 1234\n",
    "\n",
    "with open('prediction/1006_v1_1234.pkl', 'rb') as f:\n",
    "    preds_test, threshold_best = pickle.load(f)"
   ]
  },
  {
   "cell_type": "code",
   "execution_count": null,
   "metadata": {},
   "outputs": [],
   "source": []
  },
  {
   "cell_type": "code",
   "execution_count": 19,
   "metadata": {},
   "outputs": [
    {
     "data": {
      "application/vnd.jupyter.widget-view+json": {
       "model_id": "1278088e867a4ff0ad71d9d0b0802529",
       "version_major": 2,
       "version_minor": 0
      },
      "text/plain": [
       "HBox(children=(IntProgress(value=0, max=18000), HTML(value='')))"
      ]
     },
     "metadata": {},
     "output_type": "display_data"
    },
    {
     "name": "stdout",
     "output_type": "stream",
     "text": [
      "\n"
     ]
    }
   ],
   "source": [
    "## pred_prob to preds by threashold_best, and unpad to 101x101\n",
    "unpad_pred_dict = {idx: np.round(unpad_reflect256(preds_test[i]) > threshold_best) for i, idx in enumerate(tqdm_notebook(img_ids))}\n"
   ]
  },
  {
   "cell_type": "code",
   "execution_count": 20,
   "metadata": {},
   "outputs": [
    {
     "name": "stdout",
     "output_type": "stream",
     "text": [
      "another model predict zero mask in testset cnt:  7886\n"
     ]
    }
   ],
   "source": [
    "# load saved predicted zero image ids, and remove small masks (<25)\n",
    "# with open('../data/processed/zero_nonzero_img_ids.pkl', 'rb') as f:\n",
    "#     zero_img_ids, nonzero_img_ids = pickle.load(f)\n",
    "\n",
    "df = pd.read_csv('../submissions/013_0929_pytorch_pred_zero_mask.csv.gz')\n",
    "zero_mask_ids = df.loc[df.rle_mask.notna(), 'id'].tolist()\n",
    "print('another model predict zero mask in testset cnt: ', len(zero_mask_ids))\n",
    "\n",
    "for k,v in unpad_pred_dict.items():\n",
    "    if k in zero_mask_ids:#remove zero mask predictions\n",
    "        v = v * 0\n",
    "        unpad_pred_dict[k] = v\n",
    "    else:\n",
    "        continue"
   ]
  },
  {
   "cell_type": "code",
   "execution_count": 52,
   "metadata": {},
   "outputs": [],
   "source": [
    "# # predict zero, nonzero imgs\n",
    "# zero_img_ids, nonzero_img_ids = [], []\n",
    "\n",
    "# for k,v in unpad_pred_dict.items():\n",
    "#     if v.sum()<25:\n",
    "#         zero_img_ids.append(k)\n",
    "#     else:\n",
    "#         nonzero_img_ids.append(k)\n",
    "\n",
    "# with open('../data/processed/zero_nonzero_img_ids.pkl', 'wb') as f:\n",
    "#     pickle.dump(zero_mask_ids, f)"
   ]
  },
  {
   "cell_type": "code",
   "execution_count": 45,
   "metadata": {
    "scrolled": true
   },
   "outputs": [],
   "source": [
    "# cnt = 0\n",
    "# for k,v in unpad_pred_dict.items():\n",
    "#     if 0<v.sum()<25:\n",
    "#         #print(k)\n",
    "#         cnt += 1\n",
    "# print(cnt)\n",
    "\n",
    "# for k,v in unpad_pred_dict.items():\n",
    "#     if v.sum()<25:\n",
    "#         v *= 0\n",
    "#         v[0, 0] = 1\n",
    "#         unpad_pred_dict[k] = v\n",
    "#     else:\n",
    "#         v *= 0\n",
    "#         unpad_pred_dict[k] = v"
   ]
  },
  {
   "cell_type": "code",
   "execution_count": 43,
   "metadata": {},
   "outputs": [
    {
     "name": "stdout",
     "output_type": "stream",
     "text": [
      "pred zero mask:  7848 0.436\n"
     ]
    }
   ],
   "source": [
    "print('pred zero mask: ', 7848, 7848/18000)"
   ]
  },
  {
   "cell_type": "code",
   "execution_count": 21,
   "metadata": {
    "scrolled": true
   },
   "outputs": [
    {
     "data": {
      "application/vnd.jupyter.widget-view+json": {
       "model_id": "1fc1b9219fd845b6996757b8196c54d4",
       "version_major": 2,
       "version_minor": 0
      },
      "text/plain": [
       "HBox(children=(IntProgress(value=0, max=18000), HTML(value='')))"
      ]
     },
     "metadata": {},
     "output_type": "display_data"
    },
    {
     "name": "stdout",
     "output_type": "stream",
     "text": [
      "\n"
     ]
    }
   ],
   "source": [
    "## for single model submission\n",
    "pred_dict = {idx: rle_encode(pred) for idx, pred in tqdm_notebook(unpad_pred_dict.items())}\n",
    "\n",
    "sub = pd.DataFrame.from_dict(pred_dict,orient='index')\n",
    "sub = sub.reset_index().rename(columns={'index':'id', 0:'rle_mask'})"
   ]
  },
  {
   "cell_type": "code",
   "execution_count": 23,
   "metadata": {},
   "outputs": [],
   "source": [
    "#print(sub_name)\n",
    "sub.to_csv('../submissions/1006_v1_seed%d.csv.gz'%SEED, compression='gzip', index=False)"
   ]
  },
  {
   "cell_type": "code",
   "execution_count": null,
   "metadata": {
    "scrolled": true
   },
   "outputs": [],
   "source": []
  },
  {
   "cell_type": "code",
   "execution_count": null,
   "metadata": {
    "scrolled": true
   },
   "outputs": [],
   "source": []
  },
  {
   "cell_type": "code",
   "execution_count": null,
   "metadata": {
    "scrolled": true
   },
   "outputs": [],
   "source": []
  },
  {
   "cell_type": "markdown",
   "metadata": {},
   "source": [
    "## blending models\n",
    "\n",
    "- snapshot 6 cycles"
   ]
  },
  {
   "cell_type": "code",
   "execution_count": 4,
   "metadata": {},
   "outputs": [],
   "source": [
    "from importlib import reload\n",
    "import postprocess\n",
    "reload(postprocess)\n",
    "from postprocess import smooth_mask"
   ]
  },
  {
   "cell_type": "code",
   "execution_count": 20,
   "metadata": {},
   "outputs": [],
   "source": [
    "## TODO: for 5-fold-cv models, blend probability preds here (Note each model has specific threshold_best)"
   ]
  },
  {
   "cell_type": "code",
   "execution_count": 4,
   "metadata": {},
   "outputs": [
    {
     "data": {
      "application/vnd.jupyter.widget-view+json": {
       "model_id": "9fdc05a9f8d94d61a9b0090c1dfc8691",
       "version_major": 2,
       "version_minor": 0
      },
      "text/plain": [
       "HBox(children=(IntProgress(value=0, max=18000), HTML(value='')))"
      ]
     },
     "metadata": {},
     "output_type": "display_data"
    },
    {
     "name": "stdout",
     "output_type": "stream",
     "text": [
      "\n"
     ]
    }
   ],
   "source": [
    "## create testset\n",
    "img_ids = [f.split('/')[-1].split('.')[0] for f in glob('../data/raw/test_images/images/*.png')]\n",
    "\n",
    "x_test = [(np.array(load_img(\"../data/raw/test_images/images/{}.png\".format(idx), \\\n",
    "                                      color_mode = \"grayscale\"))) / 255 for idx in tqdm_notebook(img_ids)]"
   ]
  },
  {
   "cell_type": "code",
   "execution_count": null,
   "metadata": {},
   "outputs": [],
   "source": [
    "# unpad_pred_dicts = []\n",
    "\n",
    "# for i in [0,1,2,3,4,5]:\n",
    "#     with open('prediction/1008_v1_seed1234_snapshot_cycle%d.pkl'%i, 'rb') as f:\n",
    "#         preds_test, threshold_best = pickle.load(f)\n",
    "#     unpad_pred_dict = {idx: np.round(unpad_reflect256(preds_test[i]) > threshold_best) for i, idx in enumerate(tqdm_notebook(img_ids))}\n",
    "#     unpad_pred_dicts.append(unpad_pred_dict)\n",
    "#     del unpad_pred_dict\n",
    "#     del preds_test\n",
    "#     gc.collect()\n",
    "\n",
    "# for i in [0,1,2,3,4,5]:\n",
    "#     with open('prediction/1008_v1_seed2345_snapshot_cycle%d.pkl'%i, 'rb') as f:\n",
    "#         preds_test, threshold_best = pickle.load(f)\n",
    "#     unpad_pred_dict = {idx: np.round(unpad_reflect256(preds_test[i]) > threshold_best) for i, idx in enumerate(tqdm_notebook(img_ids))}\n",
    "#     unpad_pred_dicts.append(unpad_pred_dict)\n",
    "#     del unpad_pred_dict\n",
    "#     del preds_test\n",
    "#     gc.collect()\n",
    "\n",
    "# unpad_pred_dict = {}\n",
    "# for img_id in img_ids:\n",
    "#     unpad_pred_dict[img_id] = np.round(unpad_pred_dicts[0][img_id] + \\\n",
    "#                                        unpad_pred_dicts[1][img_id] + \\\n",
    "#                                        unpad_pred_dicts[2][img_id] + \\\n",
    "#                                        unpad_pred_dicts[3][img_id] + \\\n",
    "#                                        unpad_pred_dicts[4][img_id] + \\\n",
    "#                                        unpad_pred_dicts[5][img_id] + \\\n",
    "#                                        unpad_pred_dicts[6][img_id] + \\\n",
    "#                                        unpad_pred_dicts[7][img_id] + \\\n",
    "#                                        unpad_pred_dicts[8][img_id] + \\\n",
    "#                                        unpad_pred_dicts[9][img_id] + \\\n",
    "#                                        unpad_pred_dicts[10][img_id] + \\\n",
    "#                                        unpad_pred_dicts[11][img_id] \\\n",
    "#                                        > 6)"
   ]
  },
  {
   "cell_type": "code",
   "execution_count": 5,
   "metadata": {
    "scrolled": true
   },
   "outputs": [
    {
     "data": {
      "application/vnd.jupyter.widget-view+json": {
       "model_id": "4e1dd83aeb6c4891a45b4651c0842540",
       "version_major": 2,
       "version_minor": 0
      },
      "text/plain": [
       "HBox(children=(IntProgress(value=0, max=18000), HTML(value='')))"
      ]
     },
     "metadata": {},
     "output_type": "display_data"
    },
    {
     "name": "stdout",
     "output_type": "stream",
     "text": [
      "\n"
     ]
    },
    {
     "data": {
      "application/vnd.jupyter.widget-view+json": {
       "model_id": "272523f3115e42ffa29f7c5b4dc1d0a5",
       "version_major": 2,
       "version_minor": 0
      },
      "text/plain": [
       "HBox(children=(IntProgress(value=0, max=18000), HTML(value='')))"
      ]
     },
     "metadata": {},
     "output_type": "display_data"
    },
    {
     "name": "stdout",
     "output_type": "stream",
     "text": [
      "\n"
     ]
    },
    {
     "data": {
      "application/vnd.jupyter.widget-view+json": {
       "model_id": "63017d3c1d024ee2a937d809096a98f8",
       "version_major": 2,
       "version_minor": 0
      },
      "text/plain": [
       "HBox(children=(IntProgress(value=0, max=18000), HTML(value='')))"
      ]
     },
     "metadata": {},
     "output_type": "display_data"
    },
    {
     "name": "stdout",
     "output_type": "stream",
     "text": [
      "\n"
     ]
    },
    {
     "data": {
      "application/vnd.jupyter.widget-view+json": {
       "model_id": "e4a879ac7f614f9e92e30daaf99754b8",
       "version_major": 2,
       "version_minor": 0
      },
      "text/plain": [
       "HBox(children=(IntProgress(value=0, max=18000), HTML(value='')))"
      ]
     },
     "metadata": {},
     "output_type": "display_data"
    },
    {
     "name": "stdout",
     "output_type": "stream",
     "text": [
      "\n"
     ]
    },
    {
     "data": {
      "application/vnd.jupyter.widget-view+json": {
       "model_id": "8c60467b04dc4a8baec3eb12996ddc62",
       "version_major": 2,
       "version_minor": 0
      },
      "text/plain": [
       "HBox(children=(IntProgress(value=0, max=18000), HTML(value='')))"
      ]
     },
     "metadata": {},
     "output_type": "display_data"
    },
    {
     "name": "stdout",
     "output_type": "stream",
     "text": [
      "\n"
     ]
    },
    {
     "data": {
      "application/vnd.jupyter.widget-view+json": {
       "model_id": "7abb21d88edf4cfea37d36f30981da30",
       "version_major": 2,
       "version_minor": 0
      },
      "text/plain": [
       "HBox(children=(IntProgress(value=0, max=18000), HTML(value='')))"
      ]
     },
     "metadata": {},
     "output_type": "display_data"
    },
    {
     "name": "stdout",
     "output_type": "stream",
     "text": [
      "\n"
     ]
    },
    {
     "data": {
      "application/vnd.jupyter.widget-view+json": {
       "model_id": "116694a46dfc45298c48928b0b244365",
       "version_major": 2,
       "version_minor": 0
      },
      "text/plain": [
       "HBox(children=(IntProgress(value=0, max=18000), HTML(value='')))"
      ]
     },
     "metadata": {},
     "output_type": "display_data"
    },
    {
     "name": "stdout",
     "output_type": "stream",
     "text": [
      "\n"
     ]
    },
    {
     "data": {
      "application/vnd.jupyter.widget-view+json": {
       "model_id": "4e736f9eaf2c4f1080b459b39597860e",
       "version_major": 2,
       "version_minor": 0
      },
      "text/plain": [
       "HBox(children=(IntProgress(value=0, max=18000), HTML(value='')))"
      ]
     },
     "metadata": {},
     "output_type": "display_data"
    },
    {
     "name": "stdout",
     "output_type": "stream",
     "text": [
      "\n"
     ]
    },
    {
     "data": {
      "application/vnd.jupyter.widget-view+json": {
       "model_id": "eeedecb172ec4e2092eaef56cdee2477",
       "version_major": 2,
       "version_minor": 0
      },
      "text/plain": [
       "HBox(children=(IntProgress(value=0, max=18000), HTML(value='')))"
      ]
     },
     "metadata": {},
     "output_type": "display_data"
    },
    {
     "name": "stdout",
     "output_type": "stream",
     "text": [
      "\n"
     ]
    },
    {
     "data": {
      "application/vnd.jupyter.widget-view+json": {
       "model_id": "f63f42343446418998659cf62f8072eb",
       "version_major": 2,
       "version_minor": 0
      },
      "text/plain": [
       "HBox(children=(IntProgress(value=0, max=18000), HTML(value='')))"
      ]
     },
     "metadata": {},
     "output_type": "display_data"
    },
    {
     "name": "stdout",
     "output_type": "stream",
     "text": [
      "\n"
     ]
    },
    {
     "data": {
      "application/vnd.jupyter.widget-view+json": {
       "model_id": "01dcd54b07314ca3932bef97934b73ea",
       "version_major": 2,
       "version_minor": 0
      },
      "text/plain": [
       "HBox(children=(IntProgress(value=0, max=18000), HTML(value='')))"
      ]
     },
     "metadata": {},
     "output_type": "display_data"
    },
    {
     "name": "stdout",
     "output_type": "stream",
     "text": [
      "\n"
     ]
    },
    {
     "data": {
      "application/vnd.jupyter.widget-view+json": {
       "model_id": "6ef0be17b05d4880a94a7665637569be",
       "version_major": 2,
       "version_minor": 0
      },
      "text/plain": [
       "HBox(children=(IntProgress(value=0, max=18000), HTML(value='')))"
      ]
     },
     "metadata": {},
     "output_type": "display_data"
    },
    {
     "name": "stdout",
     "output_type": "stream",
     "text": [
      "\n"
     ]
    },
    {
     "data": {
      "application/vnd.jupyter.widget-view+json": {
       "model_id": "0def4a724b9b47c98a9a599dbcc5ac7b",
       "version_major": 2,
       "version_minor": 0
      },
      "text/plain": [
       "HBox(children=(IntProgress(value=0, max=18000), HTML(value='')))"
      ]
     },
     "metadata": {},
     "output_type": "display_data"
    },
    {
     "name": "stdout",
     "output_type": "stream",
     "text": [
      "\n"
     ]
    },
    {
     "data": {
      "application/vnd.jupyter.widget-view+json": {
       "model_id": "7879443474244d4ca35116d904f9438c",
       "version_major": 2,
       "version_minor": 0
      },
      "text/plain": [
       "HBox(children=(IntProgress(value=0, max=18000), HTML(value='')))"
      ]
     },
     "metadata": {},
     "output_type": "display_data"
    },
    {
     "name": "stdout",
     "output_type": "stream",
     "text": [
      "\n"
     ]
    },
    {
     "data": {
      "application/vnd.jupyter.widget-view+json": {
       "model_id": "bc4634d2a97a456c9ca23e5ce5e56fdb",
       "version_major": 2,
       "version_minor": 0
      },
      "text/plain": [
       "HBox(children=(IntProgress(value=0, max=18000), HTML(value='')))"
      ]
     },
     "metadata": {},
     "output_type": "display_data"
    },
    {
     "name": "stdout",
     "output_type": "stream",
     "text": [
      "\n"
     ]
    },
    {
     "data": {
      "application/vnd.jupyter.widget-view+json": {
       "model_id": "3c369971924c4e1c81b3066e280c57ef",
       "version_major": 2,
       "version_minor": 0
      },
      "text/plain": [
       "HBox(children=(IntProgress(value=0, max=18000), HTML(value='')))"
      ]
     },
     "metadata": {},
     "output_type": "display_data"
    },
    {
     "name": "stdout",
     "output_type": "stream",
     "text": [
      "\n"
     ]
    },
    {
     "data": {
      "application/vnd.jupyter.widget-view+json": {
       "model_id": "80b777c6a7fb4e149442e3c2cb3deca0",
       "version_major": 2,
       "version_minor": 0
      },
      "text/plain": [
       "HBox(children=(IntProgress(value=0, max=18000), HTML(value='')))"
      ]
     },
     "metadata": {},
     "output_type": "display_data"
    },
    {
     "name": "stdout",
     "output_type": "stream",
     "text": [
      "\n"
     ]
    },
    {
     "data": {
      "application/vnd.jupyter.widget-view+json": {
       "model_id": "c6df618d4b1e453fa81d3a281b675312",
       "version_major": 2,
       "version_minor": 0
      },
      "text/plain": [
       "HBox(children=(IntProgress(value=0, max=18000), HTML(value='')))"
      ]
     },
     "metadata": {},
     "output_type": "display_data"
    },
    {
     "name": "stdout",
     "output_type": "stream",
     "text": [
      "\n"
     ]
    },
    {
     "data": {
      "application/vnd.jupyter.widget-view+json": {
       "model_id": "0aef361513e24ca0916394c6a324b4e1",
       "version_major": 2,
       "version_minor": 0
      },
      "text/plain": [
       "HBox(children=(IntProgress(value=0, max=18000), HTML(value='')))"
      ]
     },
     "metadata": {},
     "output_type": "display_data"
    },
    {
     "name": "stdout",
     "output_type": "stream",
     "text": [
      "\n"
     ]
    },
    {
     "data": {
      "application/vnd.jupyter.widget-view+json": {
       "model_id": "147c85e95b1f4bde92a189c9d9205bce",
       "version_major": 2,
       "version_minor": 0
      },
      "text/plain": [
       "HBox(children=(IntProgress(value=0, max=18000), HTML(value='')))"
      ]
     },
     "metadata": {},
     "output_type": "display_data"
    },
    {
     "name": "stdout",
     "output_type": "stream",
     "text": [
      "\n"
     ]
    },
    {
     "data": {
      "application/vnd.jupyter.widget-view+json": {
       "model_id": "bd76357b994c4dd48957f46aef3ec1c5",
       "version_major": 2,
       "version_minor": 0
      },
      "text/plain": [
       "HBox(children=(IntProgress(value=0, max=18000), HTML(value='')))"
      ]
     },
     "metadata": {},
     "output_type": "display_data"
    },
    {
     "name": "stdout",
     "output_type": "stream",
     "text": [
      "\n"
     ]
    },
    {
     "data": {
      "application/vnd.jupyter.widget-view+json": {
       "model_id": "33eeda7291894154b32d32577ad4527f",
       "version_major": 2,
       "version_minor": 0
      },
      "text/plain": [
       "HBox(children=(IntProgress(value=0, max=18000), HTML(value='')))"
      ]
     },
     "metadata": {},
     "output_type": "display_data"
    },
    {
     "name": "stdout",
     "output_type": "stream",
     "text": [
      "\n"
     ]
    },
    {
     "data": {
      "application/vnd.jupyter.widget-view+json": {
       "model_id": "21d9d7aef3534cdcb2a54094445adbf3",
       "version_major": 2,
       "version_minor": 0
      },
      "text/plain": [
       "HBox(children=(IntProgress(value=0, max=18000), HTML(value='')))"
      ]
     },
     "metadata": {},
     "output_type": "display_data"
    },
    {
     "name": "stdout",
     "output_type": "stream",
     "text": [
      "\n"
     ]
    },
    {
     "data": {
      "application/vnd.jupyter.widget-view+json": {
       "model_id": "9c6d4ff04bd946668e85122cdd4bfce6",
       "version_major": 2,
       "version_minor": 0
      },
      "text/plain": [
       "HBox(children=(IntProgress(value=0, max=18000), HTML(value='')))"
      ]
     },
     "metadata": {},
     "output_type": "display_data"
    },
    {
     "name": "stdout",
     "output_type": "stream",
     "text": [
      "\n"
     ]
    },
    {
     "data": {
      "application/vnd.jupyter.widget-view+json": {
       "model_id": "a15e5379b17044d6aac18343e9b4c67b",
       "version_major": 2,
       "version_minor": 0
      },
      "text/plain": [
       "HBox(children=(IntProgress(value=0, max=18000), HTML(value='')))"
      ]
     },
     "metadata": {},
     "output_type": "display_data"
    },
    {
     "name": "stdout",
     "output_type": "stream",
     "text": [
      "\n"
     ]
    },
    {
     "data": {
      "application/vnd.jupyter.widget-view+json": {
       "model_id": "7fc50c223cb947d2a67da46bf4858aa1",
       "version_major": 2,
       "version_minor": 0
      },
      "text/plain": [
       "HBox(children=(IntProgress(value=0, max=18000), HTML(value='')))"
      ]
     },
     "metadata": {},
     "output_type": "display_data"
    },
    {
     "name": "stdout",
     "output_type": "stream",
     "text": [
      "\n"
     ]
    },
    {
     "data": {
      "application/vnd.jupyter.widget-view+json": {
       "model_id": "89f0814227eb48f19035e12a06a9be81",
       "version_major": 2,
       "version_minor": 0
      },
      "text/plain": [
       "HBox(children=(IntProgress(value=0, max=18000), HTML(value='')))"
      ]
     },
     "metadata": {},
     "output_type": "display_data"
    },
    {
     "name": "stdout",
     "output_type": "stream",
     "text": [
      "\n"
     ]
    },
    {
     "data": {
      "application/vnd.jupyter.widget-view+json": {
       "model_id": "7686e02232184cd69635d3235e7e41fe",
       "version_major": 2,
       "version_minor": 0
      },
      "text/plain": [
       "HBox(children=(IntProgress(value=0, max=18000), HTML(value='')))"
      ]
     },
     "metadata": {},
     "output_type": "display_data"
    },
    {
     "name": "stdout",
     "output_type": "stream",
     "text": [
      "\n"
     ]
    },
    {
     "data": {
      "application/vnd.jupyter.widget-view+json": {
       "model_id": "fe22bc83ecd346ba8beaac635d061506",
       "version_major": 2,
       "version_minor": 0
      },
      "text/plain": [
       "HBox(children=(IntProgress(value=0, max=18000), HTML(value='')))"
      ]
     },
     "metadata": {},
     "output_type": "display_data"
    },
    {
     "name": "stdout",
     "output_type": "stream",
     "text": [
      "\n"
     ]
    },
    {
     "data": {
      "application/vnd.jupyter.widget-view+json": {
       "model_id": "d80bb1105ca343e5a99786ce376193d8",
       "version_major": 2,
       "version_minor": 0
      },
      "text/plain": [
       "HBox(children=(IntProgress(value=0, max=18000), HTML(value='')))"
      ]
     },
     "metadata": {},
     "output_type": "display_data"
    },
    {
     "name": "stdout",
     "output_type": "stream",
     "text": [
      "\n"
     ]
    },
    {
     "data": {
      "application/vnd.jupyter.widget-view+json": {
       "model_id": "396cc4605f2f42ae91c7ef9debeeb112",
       "version_major": 2,
       "version_minor": 0
      },
      "text/plain": [
       "HBox(children=(IntProgress(value=0, max=18000), HTML(value='')))"
      ]
     },
     "metadata": {},
     "output_type": "display_data"
    },
    {
     "name": "stdout",
     "output_type": "stream",
     "text": [
      "\n"
     ]
    },
    {
     "data": {
      "application/vnd.jupyter.widget-view+json": {
       "model_id": "11a1aa88d99048179e11e9974b7b273f",
       "version_major": 2,
       "version_minor": 0
      },
      "text/plain": [
       "HBox(children=(IntProgress(value=0, max=18000), HTML(value='')))"
      ]
     },
     "metadata": {},
     "output_type": "display_data"
    },
    {
     "name": "stdout",
     "output_type": "stream",
     "text": [
      "\n"
     ]
    },
    {
     "data": {
      "application/vnd.jupyter.widget-view+json": {
       "model_id": "eee41ad15fbc46379fe7d6ce72e55128",
       "version_major": 2,
       "version_minor": 0
      },
      "text/plain": [
       "HBox(children=(IntProgress(value=0, max=18000), HTML(value='')))"
      ]
     },
     "metadata": {},
     "output_type": "display_data"
    },
    {
     "name": "stdout",
     "output_type": "stream",
     "text": [
      "\n"
     ]
    },
    {
     "data": {
      "application/vnd.jupyter.widget-view+json": {
       "model_id": "152661ff29be4a41b50e001ac947af5c",
       "version_major": 2,
       "version_minor": 0
      },
      "text/plain": [
       "HBox(children=(IntProgress(value=0, max=18000), HTML(value='')))"
      ]
     },
     "metadata": {},
     "output_type": "display_data"
    },
    {
     "name": "stdout",
     "output_type": "stream",
     "text": [
      "\n"
     ]
    },
    {
     "data": {
      "application/vnd.jupyter.widget-view+json": {
       "model_id": "be437a809b7d485eb6cf8f9318625246",
       "version_major": 2,
       "version_minor": 0
      },
      "text/plain": [
       "HBox(children=(IntProgress(value=0, max=18000), HTML(value='')))"
      ]
     },
     "metadata": {},
     "output_type": "display_data"
    },
    {
     "name": "stdout",
     "output_type": "stream",
     "text": [
      "\n"
     ]
    },
    {
     "data": {
      "application/vnd.jupyter.widget-view+json": {
       "model_id": "362db86a09604946bc8812a6cf24ec45",
       "version_major": 2,
       "version_minor": 0
      },
      "text/plain": [
       "HBox(children=(IntProgress(value=0, max=18000), HTML(value='')))"
      ]
     },
     "metadata": {},
     "output_type": "display_data"
    },
    {
     "name": "stdout",
     "output_type": "stream",
     "text": [
      "\n"
     ]
    }
   ],
   "source": [
    "# 合并N个fold的预测（0-1），用户voting方式blending\n",
    "preds_test_blend = None\n",
    "\n",
    "for seed in [1234, 2345, 3456, 4567, 5678, 6789]:\n",
    "    for i in [0,1,2,3,4,5]:\n",
    "        with open('prediction/1008_v1_seed%d_snapshot_cycle%d.pkl'%(seed, i), 'rb') as f:\n",
    "            preds_test, threshold_best = pickle.load(f)\n",
    "        preds_test = np.array([np.round(unpad_reflect256(_preds_test) > threshold_best) \\\n",
    "                               for _preds_test in tqdm_notebook(preds_test)])\n",
    "        if preds_test_blend is None:\n",
    "            preds_test_blend = preds_test\n",
    "        else:\n",
    "            preds_test_blend += preds_test\n",
    "        del preds_test\n",
    "        gc.collect()"
   ]
  },
  {
   "cell_type": "code",
   "execution_count": null,
   "metadata": {},
   "outputs": [],
   "source": []
  },
  {
   "cell_type": "code",
   "execution_count": 14,
   "metadata": {},
   "outputs": [],
   "source": [
    "# save 18 models' blending preds\n",
    "# saving\n",
    "# with open('prediction/1008_v1_seed_snapshot_cycle_blending_1_2_3_4_5_6.pkl', 'wb') as f:\n",
    "#     pickle.dump(preds_test_blend, f, protocol=4)\n",
    "\n",
    "# loading\n",
    "with open('prediction/1008_v1_seed_snapshot_cycle_blending_1_2_3_4_5_6.pkl', 'rb') as f:\n",
    "    preds_test_blend = pickle.load(f)"
   ]
  },
  {
   "cell_type": "code",
   "execution_count": 15,
   "metadata": {},
   "outputs": [],
   "source": [
    "N = 18#15#9\n",
    "\n",
    "unpad_pred_dict = {}\n",
    "for i, img_id in enumerate(img_ids):\n",
    "    _pred = np.round(preds_test_blend[i] > N)\n",
    "    \n",
    "    # add new idea: smooth serrated edges. can tune kernel_size: 5,6,7...\n",
    "    #_pred = smooth_mask(_pred, kernel_size=5)\n",
    "    \n",
    "    unpad_pred_dict[img_id] = _pred"
   ]
  },
  {
   "cell_type": "code",
   "execution_count": 7,
   "metadata": {},
   "outputs": [],
   "source": [
    "# img_id = 'dce0abc347'\n",
    "# (unpad_pred_dicts[4][img_id] == unpad_pred_dict[img_id]).mean()"
   ]
  },
  {
   "cell_type": "code",
   "execution_count": 16,
   "metadata": {},
   "outputs": [
    {
     "name": "stdout",
     "output_type": "stream",
     "text": [
      "modify %d images:  219\n"
     ]
    }
   ],
   "source": [
    "## update last day: postprocessing\n",
    "with open('../data/processed/postprocess_vertical20.pkl', 'rb') as f:\n",
    "    mod_output_all = pickle.load(f)\n",
    "print('modify %d images: ', len(mod_output_all.keys()))\n",
    "\n",
    "for k,v in mod_output_all.items():\n",
    "    if k in img_ids:\n",
    "        unpad_pred_dict[k] = v"
   ]
  },
  {
   "cell_type": "code",
   "execution_count": null,
   "metadata": {},
   "outputs": [],
   "source": []
  },
  {
   "cell_type": "code",
   "execution_count": 17,
   "metadata": {},
   "outputs": [
    {
     "name": "stdout",
     "output_type": "stream",
     "text": [
      "model predict zero mask in testset cnt:  7428\n"
     ]
    }
   ],
   "source": [
    "# all image model predict zero mask imgs\n",
    "# '../submissions/1010_849model_all_mask_predict_zero_mask_seed1234_2345_3456_blend.csv.gz' gives the best LB\n",
    "df = pd.read_csv('../submissions/1010_849model_all_mask_predict_zero_mask_seed1234_2345_3456_4567_5678_blend.csv.gz')\n",
    "#zero_mask_ids = df.loc[df.rle_mask.notna(), 'id'].tolist()\n",
    "zero_mask_ids = df.loc[df.is_zero_mask==True, 'id'].tolist()\n",
    "\n",
    "print('model predict zero mask in testset cnt: ', len(zero_mask_ids))\n",
    "for k,v in unpad_pred_dict.items():\n",
    "    if k in zero_mask_ids:#remove zero mask predictions\n",
    "        v = v * 0\n",
    "        unpad_pred_dict[k] = v\n",
    "    else:\n",
    "        continue"
   ]
  },
  {
   "cell_type": "code",
   "execution_count": 18,
   "metadata": {
    "scrolled": true
   },
   "outputs": [
    {
     "data": {
      "application/vnd.jupyter.widget-view+json": {
       "model_id": "2806d31a21d44291af7d28a363954100",
       "version_major": 2,
       "version_minor": 0
      },
      "text/plain": [
       "HBox(children=(IntProgress(value=0, max=18000), HTML(value='')))"
      ]
     },
     "metadata": {},
     "output_type": "display_data"
    },
    {
     "name": "stdout",
     "output_type": "stream",
     "text": [
      "\n"
     ]
    }
   ],
   "source": [
    "## for single model submission\n",
    "pred_dict = {idx: rle_encode(pred) for idx, pred in tqdm_notebook(unpad_pred_dict.items())}\n",
    "\n",
    "sub = pd.DataFrame.from_dict(pred_dict,orient='index')\n",
    "sub = sub.reset_index().rename(columns={'index':'id', 0:'rle_mask'})"
   ]
  },
  {
   "cell_type": "code",
   "execution_count": 19,
   "metadata": {
    "scrolled": true
   },
   "outputs": [],
   "source": [
    "sub.to_csv('../submissions/1010_v1_seed1234_2345_3456_4567_5678_6789_predict_zero_img_seed1234_2345_3456_4567_5678_postprocess_v3.csv.gz', compression='gzip', index=False)"
   ]
  },
  {
   "cell_type": "code",
   "execution_count": null,
   "metadata": {},
   "outputs": [],
   "source": []
  },
  {
   "cell_type": "code",
   "execution_count": null,
   "metadata": {},
   "outputs": [],
   "source": []
  },
  {
   "cell_type": "code",
   "execution_count": null,
   "metadata": {},
   "outputs": [],
   "source": []
  },
  {
   "cell_type": "code",
   "execution_count": null,
   "metadata": {
    "scrolled": true
   },
   "outputs": [],
   "source": []
  },
  {
   "cell_type": "code",
   "execution_count": 20,
   "metadata": {},
   "outputs": [],
   "source": [
    "df0 = pd.read_csv('../submissions/1010_v1_seed1234_2345_3456_4567_5678_6789_predict_zero_img_seed1234_2345_3456_4567_5678_postprocess_v3.csv.gz')\n",
    "df1 = pd.read_csv('../submissions/869_1010_v1_seed1234_2345_3456_4567_5678_6789_predict_zero_img_seed1234_2345_3456_4567_5678.csv.gz')\n"
   ]
  },
  {
   "cell_type": "code",
   "execution_count": 21,
   "metadata": {
    "scrolled": true
   },
   "outputs": [
    {
     "data": {
      "text/plain": [
       "152"
      ]
     },
     "execution_count": 21,
     "metadata": {},
     "output_type": "execute_result"
    }
   ],
   "source": [
    "# excluding zero-mask images, modifying 100 test masks\n",
    "(df0.loc[df0.rle_mask.notnull(), 'rle_mask']!=df1.loc[df1.rle_mask.notnull(), 'rle_mask']).sum()"
   ]
  },
  {
   "cell_type": "code",
   "execution_count": null,
   "metadata": {
    "scrolled": true
   },
   "outputs": [],
   "source": []
  },
  {
   "cell_type": "code",
   "execution_count": null,
   "metadata": {},
   "outputs": [],
   "source": []
  },
  {
   "cell_type": "code",
   "execution_count": null,
   "metadata": {},
   "outputs": [],
   "source": []
  }
 ],
 "metadata": {
  "kernelspec": {
   "display_name": "Python 3",
   "language": "python",
   "name": "python3"
  },
  "language_info": {
   "codemirror_mode": {
    "name": "ipython",
    "version": 3
   },
   "file_extension": ".py",
   "mimetype": "text/x-python",
   "name": "python",
   "nbconvert_exporter": "python",
   "pygments_lexer": "ipython3",
   "version": "3.6.5"
  }
 },
 "nbformat": 4,
 "nbformat_minor": 2
}
