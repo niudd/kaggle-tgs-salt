{
 "cells": [
  {
   "cell_type": "code",
   "execution_count": 1,
   "metadata": {},
   "outputs": [
    {
     "name": "stderr",
     "output_type": "stream",
     "text": [
      "/home/endi/anaconda3/lib/python3.6/site-packages/h5py/__init__.py:36: FutureWarning: Conversion of the second argument of issubdtype from `float` to `np.floating` is deprecated. In future, it will be treated as `np.float64 == np.dtype(float).type`.\n",
      "  from ._conv import register_converters as _register_converters\n",
      "Using TensorFlow backend.\n"
     ]
    }
   ],
   "source": [
    "import pandas as pd\n",
    "import numpy as np\n",
    "from keras.preprocessing.image import load_img\n",
    "from glob import glob\n",
    "import os\n",
    "from matplotlib import pyplot as plt\n",
    "\n",
    "%matplotlib inline"
   ]
  },
  {
   "cell_type": "code",
   "execution_count": 2,
   "metadata": {},
   "outputs": [
    {
     "data": {
      "text/plain": [
       "207"
      ]
     },
     "execution_count": 2,
     "metadata": {},
     "output_type": "execute_result"
    }
   ],
   "source": [
    "files = glob('../data/processed/mos_numpy/mosaic_*')\n",
    "len(files)"
   ]
  },
  {
   "cell_type": "code",
   "execution_count": 277,
   "metadata": {},
   "outputs": [
    {
     "data": {
      "text/html": [
       "<div>\n",
       "<style scoped>\n",
       "    .dataframe tbody tr th:only-of-type {\n",
       "        vertical-align: middle;\n",
       "    }\n",
       "\n",
       "    .dataframe tbody tr th {\n",
       "        vertical-align: top;\n",
       "    }\n",
       "\n",
       "    .dataframe thead th {\n",
       "        text-align: right;\n",
       "    }\n",
       "</style>\n",
       "<table border=\"1\" class=\"dataframe\">\n",
       "  <thead>\n",
       "    <tr style=\"text-align: right;\">\n",
       "      <th></th>\n",
       "      <th>0</th>\n",
       "      <th>1</th>\n",
       "      <th>2</th>\n",
       "      <th>3</th>\n",
       "      <th>4</th>\n",
       "      <th>5</th>\n",
       "      <th>6</th>\n",
       "      <th>7</th>\n",
       "    </tr>\n",
       "  </thead>\n",
       "  <tbody>\n",
       "    <tr>\n",
       "      <th>0</th>\n",
       "      <td>deb1b058f8</td>\n",
       "      <td>NaN</td>\n",
       "      <td>02658f5ae3</td>\n",
       "      <td>b82cd81273</td>\n",
       "      <td>NaN</td>\n",
       "      <td>943754ba03</td>\n",
       "      <td>3022a2d122</td>\n",
       "      <td>754f34301c</td>\n",
       "    </tr>\n",
       "    <tr>\n",
       "      <th>1</th>\n",
       "      <td>f01741e3fb</td>\n",
       "      <td>389139a9d0</td>\n",
       "      <td>ceedc60808</td>\n",
       "      <td>51c4fbfe63</td>\n",
       "      <td>71ce93a7b7</td>\n",
       "      <td>01b134167c</td>\n",
       "      <td>9fe905c12d</td>\n",
       "      <td>de2ce9bf28</td>\n",
       "    </tr>\n",
       "    <tr>\n",
       "      <th>2</th>\n",
       "      <td>522bfc0c1b</td>\n",
       "      <td>NaN</td>\n",
       "      <td>cc18f94210</td>\n",
       "      <td>22b0703aa1</td>\n",
       "      <td>68bad6a787</td>\n",
       "      <td>e594ef45fc</td>\n",
       "      <td>811fb98143</td>\n",
       "      <td>9a171b49a9</td>\n",
       "    </tr>\n",
       "    <tr>\n",
       "      <th>3</th>\n",
       "      <td>e8f48a2038</td>\n",
       "      <td>bcabfde62b</td>\n",
       "      <td>0703a8437b</td>\n",
       "      <td>69253f7efc</td>\n",
       "      <td>9a14689f82</td>\n",
       "      <td>f5865bd6ff</td>\n",
       "      <td>b35a524585</td>\n",
       "      <td>92b23cfe90</td>\n",
       "    </tr>\n",
       "    <tr>\n",
       "      <th>4</th>\n",
       "      <td>b212dd2177</td>\n",
       "      <td>10c3458a28</td>\n",
       "      <td>0c43ec36f9</td>\n",
       "      <td>47729d4ee5</td>\n",
       "      <td>ad7d11a9ce</td>\n",
       "      <td>343a049d60</td>\n",
       "      <td>643a1fb9c4</td>\n",
       "      <td>6a3f8feaea</td>\n",
       "    </tr>\n",
       "    <tr>\n",
       "      <th>5</th>\n",
       "      <td>NaN</td>\n",
       "      <td>82904b406b</td>\n",
       "      <td>79fed5a697</td>\n",
       "      <td>59d6fd86f3</td>\n",
       "      <td>2ab5284049</td>\n",
       "      <td>467f13c5c8</td>\n",
       "      <td>55b7d18492</td>\n",
       "      <td>NaN</td>\n",
       "    </tr>\n",
       "    <tr>\n",
       "      <th>6</th>\n",
       "      <td>NaN</td>\n",
       "      <td>07c3553ef7</td>\n",
       "      <td>NaN</td>\n",
       "      <td>NaN</td>\n",
       "      <td>NaN</td>\n",
       "      <td>NaN</td>\n",
       "      <td>NaN</td>\n",
       "      <td>NaN</td>\n",
       "    </tr>\n",
       "  </tbody>\n",
       "</table>\n",
       "</div>"
      ],
      "text/plain": [
       "            0           1           2           3           4           5  \\\n",
       "0  deb1b058f8         NaN  02658f5ae3  b82cd81273         NaN  943754ba03   \n",
       "1  f01741e3fb  389139a9d0  ceedc60808  51c4fbfe63  71ce93a7b7  01b134167c   \n",
       "2  522bfc0c1b         NaN  cc18f94210  22b0703aa1  68bad6a787  e594ef45fc   \n",
       "3  e8f48a2038  bcabfde62b  0703a8437b  69253f7efc  9a14689f82  f5865bd6ff   \n",
       "4  b212dd2177  10c3458a28  0c43ec36f9  47729d4ee5  ad7d11a9ce  343a049d60   \n",
       "5         NaN  82904b406b  79fed5a697  59d6fd86f3  2ab5284049  467f13c5c8   \n",
       "6         NaN  07c3553ef7         NaN         NaN         NaN         NaN   \n",
       "\n",
       "            6           7  \n",
       "0  3022a2d122  754f34301c  \n",
       "1  9fe905c12d  de2ce9bf28  \n",
       "2  811fb98143  9a171b49a9  \n",
       "3  b35a524585  92b23cfe90  \n",
       "4  643a1fb9c4  6a3f8feaea  \n",
       "5  55b7d18492         NaN  \n",
       "6         NaN         NaN  "
      ]
     },
     "execution_count": 277,
     "metadata": {},
     "output_type": "execute_result"
    }
   ],
   "source": [
    "f = files[15]\n",
    "\n",
    "df = pd.read_csv(f, header=None)\n",
    "\n",
    "df"
   ]
  },
  {
   "cell_type": "code",
   "execution_count": null,
   "metadata": {
    "scrolled": true
   },
   "outputs": [],
   "source": []
  },
  {
   "cell_type": "code",
   "execution_count": 4,
   "metadata": {},
   "outputs": [],
   "source": [
    "import pickle\n",
    "# loading testset prediction\n",
    "with open('prediction/1008_v1_seed_snapshot_cycle_blending_1_2_3_4_5_6.pkl', 'rb') as f:\n",
    "    preds_test_blend = pickle.load(f)\n",
    "\n",
    "#\n",
    "img_ids = [f.split('/')[-1].split('.')[0] for f in glob('../data/raw/test_images/images/*.png')]\n",
    "\n",
    "N = 18\n",
    "\n",
    "unpad_pred_dict = {}\n",
    "for i, img_id in enumerate(img_ids):\n",
    "    unpad_pred_dict[img_id] = np.round(preds_test_blend[i] > N)"
   ]
  },
  {
   "cell_type": "code",
   "execution_count": 14,
   "metadata": {},
   "outputs": [],
   "source": [
    "# loading trainset pred\n",
    "with open('../data/processed/trainset_pred1017.pkl', 'rb') as f:\n",
    "    train_pred = pickle.load(f)"
   ]
  },
  {
   "cell_type": "code",
   "execution_count": null,
   "metadata": {},
   "outputs": [],
   "source": []
  },
  {
   "cell_type": "code",
   "execution_count": 451,
   "metadata": {},
   "outputs": [],
   "source": [
    "def empty_img():\n",
    "    img_arr = np.clip(np.fliplr(np.eye(101)) + np.eye(101), a_min=0, a_max=1)\n",
    "    img_arr[0] = 1\n",
    "    img_arr[100] = 1\n",
    "    img_arr[:, 0] = 1\n",
    "    img_arr[:, 100] = 1\n",
    "    return img_arr\n",
    "\n",
    "def load_image(img_id, mode='image'):\n",
    "    \"\"\"\n",
    "    mode: 'image', 'mask'\n",
    "    \"\"\"\n",
    "    if mode=='image':\n",
    "        in_train = \"../data/raw/train_images/images/%s.png\"%img_id\n",
    "        in_test = \"../data/raw/test_images/images/%s.png\"%img_id\n",
    "    elif mode=='mask':\n",
    "        in_train = \"../data/raw/train_images/masks/%s.png\"%img_id\n",
    "        in_test = \"../data/raw/test_images/masks/%s.png\"%img_id\n",
    "    elif mode=='pred':\n",
    "        try:\n",
    "            img_arr = unpad_pred_dict[img_id]\n",
    "        except:\n",
    "            try:\n",
    "                img_arr = train_pred[img_id]\n",
    "            except:\n",
    "                img_arr = empty_img()\n",
    "        return img_arr\n",
    "    f = in_train if os.path.isfile(in_train) else in_test\n",
    "    try:\n",
    "        img_arr = np.array(load_img(f, color_mode = \"grayscale\")) / 255\n",
    "    except:\n",
    "        # nan\n",
    "        #print('missing file: ', f)\n",
    "        img_arr = empty_img()\n",
    "    return img_arr\n",
    "\n",
    "def combine_images(df, mode='image'):\n",
    "    r,c = df.shape\n",
    "    fig=plt.figure(figsize=(10, 10))\n",
    "    \n",
    "    img_col = None\n",
    "    for i in df.index:\n",
    "        img_row = None\n",
    "        for j in df.columns:\n",
    "            img_id = df.loc[i, j]\n",
    "            img_arr = load_image(img_id, mode)\n",
    "            if img_row is None:\n",
    "                img_row = img_arr\n",
    "            else:\n",
    "                img_row = np.concatenate((img_row, img_arr), axis=1)\n",
    "        if img_col is None:\n",
    "            img_col = img_row\n",
    "        else:\n",
    "            img_col = np.concatenate((img_col, img_row), axis=0)\n",
    "            #\n",
    "            #ax = fig.add_subplot(r, c, i*c+j+1)\n",
    "            #plt.imshow(img_arr, cmap='binary')\n",
    "    plt.imshow(img_col, cmap='binary')\n",
    "    return img_col\n",
    "\n",
    "#----------------------------------------------------------------------------------------------------\n",
    "#----------------------------------------------------------------------------------------------------\n",
    "def load_image2(img_id):\n",
    "    \"\"\"\n",
    "    mode: 'image', 'mask'\n",
    "    \"\"\"\n",
    "    if str(img_id) == 'nan':\n",
    "        return empty_img()\n",
    "    in_train = \"../data/raw/train_images/masks/%s.png\"%img_id\n",
    "    in_test = \"../data/raw/test_images/masks/%s.png\"%img_id\n",
    "    f = in_train if os.path.isfile(in_train) else in_test\n",
    "    try:\n",
    "        img_arr = np.array(load_img(in_train, color_mode = \"grayscale\")) / 255 if os.path.isfile(in_train) \\\n",
    "                                                                        else unpad_pred_dict[img_id]\n",
    "    except:\n",
    "        img_arr = empty_img()\n",
    "    return img_arr\n",
    "\n",
    "def is_in_train(img_id):\n",
    "    if str(img_id) == 'nan':\n",
    "        return None\n",
    "    in_train = \"../data/raw/train_images/masks/%s.png\"%img_id\n",
    "    #in_test = \"../data/raw/test_images/masks/%s.png\"%img_id\n",
    "    return True if os.path.isfile(in_train) else False\n",
    "\n",
    "\n",
    "def find_train_vertical(df):\n",
    "    train_vertical = []\n",
    "    for i in df.index:\n",
    "        for j in df.columns:\n",
    "            img_id = df.loc[i, j]\n",
    "            img_arr = load_image2(img_id)\n",
    "            if is_vertical(img_arr, x_threshold=20, y_threshold=90) and is_in_train(img_id)==True:\n",
    "                #print('is_train: ', i, j, img_id)\n",
    "                train_vertical.append([i, j])\n",
    "    return train_vertical\n",
    "\n",
    "def is_vertical(img, x_threshold=10, y_threshold=90):\n",
    "    if img.mean()==0:\n",
    "        return False\n",
    "    img = find_boundaries(img.astype(np.uint8), connectivity=1).astype(np.uint8)\n",
    "    y, x = np.where(img==1)\n",
    "    if len(x) < 50 or len(y) < 50:\n",
    "        return False\n",
    "    if y.max()-y.min()>y_threshold and x.max()-x.min()<x_threshold:#10\n",
    "        return True\n",
    "    else:\n",
    "        median = np.median(x)\n",
    "        x0 = x[x>median]\n",
    "        y0 = y[x>median]\n",
    "        x1 = x[x<median]\n",
    "        y1 = y[x<median]\n",
    "        if len(x0)<50 or len(x1)<50:\n",
    "            return False\n",
    "        if y0.max()-y0.min()>y_threshold and x0.max()-x0.min()<x_threshold and \\\n",
    "        y1.max()-y1.min()>y_threshold and x1.max()-x1.min()<x_threshold:\n",
    "            return True\n",
    "        return False\n",
    "\n",
    "def mod_test_mask(df, train_vertical):\n",
    "    mod_output = {}\n",
    "    \n",
    "    for i,j in train_vertical:\n",
    "        train_vertical_img_id = df.loc[i, j]\n",
    "        train_vertical_img_arr = load_image2(train_vertical_img_id)\n",
    "        try:\n",
    "            # test mask above the train_vertical\n",
    "            test_img_id = df.loc[i-1, j]\n",
    "            if is_in_train(test_img_id)==False:\n",
    "                mod_output[test_img_id] = train_vertical_img_arr\n",
    "        except:\n",
    "            pass\n",
    "        try:\n",
    "            # test mask below the train_vertical\n",
    "            test_img_id = df.loc[i+1, j]\n",
    "            if is_in_train(test_img_id)==False:\n",
    "                mod_output[test_img_id] = train_vertical_img_arr#test_img_id, train_vertical_img_id\n",
    "        except:\n",
    "            pass\n",
    "    return mod_output\n",
    "\n",
    "def mod_test_mask_all(files):\n",
    "    mod_output_all = {}\n",
    "    for f in files:\n",
    "        df = pd.read_csv(f, header=None)\n",
    "        train_vertical = find_train_vertical(df)\n",
    "        mod_output = mod_test_mask(df, train_vertical)\n",
    "        mod_output_all.update(mod_output)\n",
    "    return mod_output_all\n",
    "\n",
    "def count_train_vertical(files):\n",
    "    count = 0\n",
    "    for f in files:\n",
    "        df = pd.read_csv(f, header=None)\n",
    "        train_vertical = find_train_vertical(df)\n",
    "        #print(len(train_vertical))\n",
    "        count += len(train_vertical)\n",
    "    return count"
   ]
  },
  {
   "cell_type": "code",
   "execution_count": 452,
   "metadata": {
    "scrolled": true
   },
   "outputs": [],
   "source": [
    "mod_output_all = mod_test_mask_all(files)\n",
    "#count = count_train_vertical(files)\n"
   ]
  },
  {
   "cell_type": "code",
   "execution_count": 453,
   "metadata": {},
   "outputs": [
    {
     "data": {
      "text/plain": [
       "219"
      ]
     },
     "execution_count": 453,
     "metadata": {},
     "output_type": "execute_result"
    }
   ],
   "source": [
    "len(mod_output_all.keys())"
   ]
  },
  {
   "cell_type": "code",
   "execution_count": 454,
   "metadata": {},
   "outputs": [],
   "source": [
    "# save\n",
    "with open('../data/processed/postprocess_vertical20.pkl', 'wb') as f:\n",
    "    pickle.dump(mod_output_all, f, protocol=4)"
   ]
  },
  {
   "cell_type": "code",
   "execution_count": 448,
   "metadata": {},
   "outputs": [
    {
     "data": {
      "text/plain": [
       "dict_keys(['644d224e9c', 'ee98738f1f', '044d6800ff', '221a6117a2', 'c6a614c6fb', 'ee5113e6a0', '51ad12b135', 'ba3558504f', '9765869d24', 'a765cd6aab', 'ff47f2a6f2', 'a99b61c527', '2ecd04a9f8', '724541cf3b', 'e4ce609688', '0fa88fc811', '9c276c8606', '81575289eb', '59f63d1a95', '349516c6c0', '6f48dd2861', 'a4a5eca0c8', 'feaae39fc4', '52449a1c2a', '848fcb838e', 'c0df1c6bc5', '3b69920d03', '67e8e9f5a2', 'fe6b152962', '18f3cb6bd1', 'c37b8373f3', 'a93060eb0d', '4d2778b117', '9163f15e89', '73d6a58df1', '34003990cc', 'f6b8bf64b4', 'd36a3ca700', '80693d458f', 'c32590b06f', 'b5469f2eb9', '1ac1e18079', 'dbf16358a4', 'e83c7943f9', '3548f9bbca', '292ea3b61f', 'c5cc962173', 'bf98f3e3a7', 'c5f64bb650', '8676b531a3', 'aa082095e7', '6b3478573c', '14f25502c5', 'b37ebb4c18', '2ad5cb95c8', '7d187bf4bb', '53d4c8a52c', '833ff7ed7e', '11005c0470', '32fe997af3', '94857fe622', '518b6d0f17', 'cbd043c3b0', 'cc46103f98', 'c49ef24cd2', '0521e30a6c', 'eaaa014bcd', 'ece1494d81', 'cec3aace1e', 'd5dec361aa', '8aa2cf1ec9', '18f73b05ae', '90fb6f4825', 'da9d8425cf', '79d6d9e217', '42eb2264d8', '9583b7d310', '3653f28f67', 'a4d2a5df9f', '68c0ec9724', '02999b160b', '70ca23bd65', '8e0c252445', 'be74bf2e59', '343705e8fe', '7f107a23d4', 'a2976c4ec4', '5281d67da6', 'e292577582', 'bc51796258', '644e2688b3', '614e08f3f8', '40e58a796f', 'a58470d2e0', '9c5567124a', 'cb8a681027', '0f9ca6c340', 'eb342b28ff', 'adc6e14121', '5601dc4c6b', '4f79ec0ba8', '239b0528cf', '6d2b421f7a', 'cb9c3597e8', '43dc4c8c28', 'd34c539d4e', 'cf63fbd55d', 'f19734e3a8', '2980d1bf07', '785a5c800f', 'abaf233b39', 'f91da5124f', '9831a5a7fa', '1336b989ff', '40186e2c64', '6d40520212', '3f99903e74', 'c11adadc15', 'b3680c53d9', '62560a7420', '9a79d93047', '92fa1137d9', '7bd8bfb18e', '118c8410fb', '8a4c33185f', '89e3fc01e4', 'db5856eb69', '5bc61454ef', '33e98bf037', 'bbf13ffcbb', 'bed2be7216', '36eb8d9d53', '23578edc04', 'bc814417aa', '9866b8ffb5', '173b15430f', '3e5eac5296', '536da22fe4', 'bdfc5dc085', '0259b01cfe', 'acad22ecfe', 'b833a115ee', '4a2b003ce2', 'e85a720f91', 'da3b6be1d5', '75c4c73270', '9e2cb9d6cc', '0e292e0b79', 'c72ddedc0c', 'fcf5a2aa19', 'ca04c19c0b', '39eeff5b3d', 'e4eb890966', 'cd85f4b39b', 'd81f6c3432', 'a282128493', 'e5a61707cf', '6425106fd4', 'a1e931d1da', '01572cfbc2', '985c03d8c8', 'dd535d0e0a', 'b65e79a4fb', '6237eac159', '2035cc5f5d', '27dd841e7a', 'be5f65573c', 'd3a1329a49', '781c76c9fb', '15b84c63ac', 'a4d9822ec8', '96fce23186', '14b445d27e', 'caf0757af5', 'b1ba756a79', '00b68675b4', 'eb004aea14', 'b790c65f84', 'e0bec01df6', '49578dea83', '0d151d1bbe', '00f6108ccb', 'f45fa444e5', '6e3a11fa65', '3b48cce005', '3709acd3d8'])"
      ]
     },
     "execution_count": 448,
     "metadata": {},
     "output_type": "execute_result"
    }
   ],
   "source": [
    "mod_output_all.keys()"
   ]
  },
  {
   "cell_type": "code",
   "execution_count": 449,
   "metadata": {
    "scrolled": true
   },
   "outputs": [
    {
     "ename": "FileNotFoundError",
     "evalue": "[Errno 2] No such file or directory: '../data/raw/train_images/masks/3709acd3d8.png'",
     "output_type": "error",
     "traceback": [
      "\u001b[0;31m---------------------------------------------------------------------------\u001b[0m",
      "\u001b[0;31mFileNotFoundError\u001b[0m                         Traceback (most recent call last)",
      "\u001b[0;32m<ipython-input-449-37740afc53d0>\u001b[0m in \u001b[0;36m<module>\u001b[0;34m()\u001b[0m\n\u001b[1;32m      2\u001b[0m \u001b[0min_train\u001b[0m \u001b[0;34m=\u001b[0m \u001b[0;34m\"../data/raw/train_images/masks/%s.png\"\u001b[0m\u001b[0;34m%\u001b[0m\u001b[0mimg_id\u001b[0m\u001b[0;34m\u001b[0m\u001b[0m\n\u001b[1;32m      3\u001b[0m \u001b[0;34m\u001b[0m\u001b[0m\n\u001b[0;32m----> 4\u001b[0;31m \u001b[0mimg_arr\u001b[0m \u001b[0;34m=\u001b[0m \u001b[0mnp\u001b[0m\u001b[0;34m.\u001b[0m\u001b[0marray\u001b[0m\u001b[0;34m(\u001b[0m\u001b[0mload_img\u001b[0m\u001b[0;34m(\u001b[0m\u001b[0min_train\u001b[0m\u001b[0;34m,\u001b[0m \u001b[0mcolor_mode\u001b[0m \u001b[0;34m=\u001b[0m \u001b[0;34m\"grayscale\"\u001b[0m\u001b[0;34m)\u001b[0m\u001b[0;34m)\u001b[0m \u001b[0;34m/\u001b[0m \u001b[0;36m255\u001b[0m\u001b[0;34m\u001b[0m\u001b[0m\n\u001b[0m\u001b[1;32m      5\u001b[0m \u001b[0mplt\u001b[0m\u001b[0;34m.\u001b[0m\u001b[0mimshow\u001b[0m\u001b[0;34m(\u001b[0m\u001b[0mimg_arr\u001b[0m\u001b[0;34m.\u001b[0m\u001b[0mastype\u001b[0m\u001b[0;34m(\u001b[0m\u001b[0mnp\u001b[0m\u001b[0;34m.\u001b[0m\u001b[0muint8\u001b[0m\u001b[0;34m)\u001b[0m\u001b[0;34m,\u001b[0m \u001b[0mcmap\u001b[0m\u001b[0;34m=\u001b[0m\u001b[0;34m'binary'\u001b[0m\u001b[0;34m)\u001b[0m\u001b[0;34m\u001b[0m\u001b[0m\n",
      "\u001b[0;32m~/anaconda3/lib/python3.6/site-packages/keras_preprocessing/image.py\u001b[0m in \u001b[0;36mload_img\u001b[0;34m(path, grayscale, color_mode, target_size, interpolation)\u001b[0m\n\u001b[1;32m    493\u001b[0m         raise ImportError('Could not import PIL.Image. '\n\u001b[1;32m    494\u001b[0m                           'The use of `array_to_img` requires PIL.')\n\u001b[0;32m--> 495\u001b[0;31m     \u001b[0mimg\u001b[0m \u001b[0;34m=\u001b[0m \u001b[0mpil_image\u001b[0m\u001b[0;34m.\u001b[0m\u001b[0mopen\u001b[0m\u001b[0;34m(\u001b[0m\u001b[0mpath\u001b[0m\u001b[0;34m)\u001b[0m\u001b[0;34m\u001b[0m\u001b[0m\n\u001b[0m\u001b[1;32m    496\u001b[0m     \u001b[0;32mif\u001b[0m \u001b[0mcolor_mode\u001b[0m \u001b[0;34m==\u001b[0m \u001b[0;34m'grayscale'\u001b[0m\u001b[0;34m:\u001b[0m\u001b[0;34m\u001b[0m\u001b[0m\n\u001b[1;32m    497\u001b[0m         \u001b[0;32mif\u001b[0m \u001b[0mimg\u001b[0m\u001b[0;34m.\u001b[0m\u001b[0mmode\u001b[0m \u001b[0;34m!=\u001b[0m \u001b[0;34m'L'\u001b[0m\u001b[0;34m:\u001b[0m\u001b[0;34m\u001b[0m\u001b[0m\n",
      "\u001b[0;32m~/anaconda3/lib/python3.6/site-packages/PIL/Image.py\u001b[0m in \u001b[0;36mopen\u001b[0;34m(fp, mode)\u001b[0m\n\u001b[1;32m   2546\u001b[0m \u001b[0;34m\u001b[0m\u001b[0m\n\u001b[1;32m   2547\u001b[0m     \u001b[0;32mif\u001b[0m \u001b[0mfilename\u001b[0m\u001b[0;34m:\u001b[0m\u001b[0;34m\u001b[0m\u001b[0m\n\u001b[0;32m-> 2548\u001b[0;31m         \u001b[0mfp\u001b[0m \u001b[0;34m=\u001b[0m \u001b[0mbuiltins\u001b[0m\u001b[0;34m.\u001b[0m\u001b[0mopen\u001b[0m\u001b[0;34m(\u001b[0m\u001b[0mfilename\u001b[0m\u001b[0;34m,\u001b[0m \u001b[0;34m\"rb\"\u001b[0m\u001b[0;34m)\u001b[0m\u001b[0;34m\u001b[0m\u001b[0m\n\u001b[0m\u001b[1;32m   2549\u001b[0m         \u001b[0mexclusive_fp\u001b[0m \u001b[0;34m=\u001b[0m \u001b[0;32mTrue\u001b[0m\u001b[0;34m\u001b[0m\u001b[0m\n\u001b[1;32m   2550\u001b[0m \u001b[0;34m\u001b[0m\u001b[0m\n",
      "\u001b[0;31mFileNotFoundError\u001b[0m: [Errno 2] No such file or directory: '../data/raw/train_images/masks/3709acd3d8.png'"
     ]
    }
   ],
   "source": [
    "img_id = '3709acd3d8'\n",
    "in_train = \"../data/raw/train_images/masks/%s.png\"%img_id\n",
    "\n",
    "img_arr = np.array(load_img(in_train, color_mode = \"grayscale\")) / 255\n",
    "plt.imshow(img_arr.astype(np.uint8), cmap='binary')"
   ]
  },
  {
   "cell_type": "code",
   "execution_count": 257,
   "metadata": {},
   "outputs": [
    {
     "data": {
      "text/plain": [
       "<matplotlib.image.AxesImage at 0x7f7286d1e080>"
      ]
     },
     "execution_count": 257,
     "metadata": {},
     "output_type": "execute_result"
    },
    {
     "data": {
      "image/png": "[encoded data removed]",
      "text/plain": [
       "<Figure size 432x288 with 1 Axes>"
      ]
     },
     "metadata": {},
     "output_type": "display_data"
    }
   ],
   "source": [
    "img_id = 'e5a61707cf'\n",
    "img_arr = unpad_pred_dict[img_id]\n",
    "\n",
    "plt.imshow(img_arr.astype(np.uint8), cmap='binary')"
   ]
  },
  {
   "cell_type": "code",
   "execution_count": 258,
   "metadata": {},
   "outputs": [
    {
     "data": {
      "text/plain": [
       "<matplotlib.image.AxesImage at 0x7f7286c9f6a0>"
      ]
     },
     "execution_count": 258,
     "metadata": {},
     "output_type": "execute_result"
    },
    {
     "data": {
      "image/png": "[encoded data removed]",
      "text/plain": [
       "<Figure size 432x288 with 1 Axes>"
      ]
     },
     "metadata": {},
     "output_type": "display_data"
    }
   ],
   "source": [
    "img_id = 'e5a61707cf'\n",
    "img_arr = mod_output_all[img_id]\n",
    "\n",
    "plt.imshow(img_arr.astype(np.uint8), cmap='binary')"
   ]
  },
  {
   "cell_type": "code",
   "execution_count": null,
   "metadata": {},
   "outputs": [],
   "source": []
  },
  {
   "cell_type": "code",
   "execution_count": 439,
   "metadata": {},
   "outputs": [
    {
     "data": {
      "text/html": [
       "<div>\n",
       "<style scoped>\n",
       "    .dataframe tbody tr th:only-of-type {\n",
       "        vertical-align: middle;\n",
       "    }\n",
       "\n",
       "    .dataframe tbody tr th {\n",
       "        vertical-align: top;\n",
       "    }\n",
       "\n",
       "    .dataframe thead th {\n",
       "        text-align: right;\n",
       "    }\n",
       "</style>\n",
       "<table border=\"1\" class=\"dataframe\">\n",
       "  <thead>\n",
       "    <tr style=\"text-align: right;\">\n",
       "      <th></th>\n",
       "      <th>0</th>\n",
       "      <th>1</th>\n",
       "      <th>2</th>\n",
       "      <th>3</th>\n",
       "      <th>4</th>\n",
       "      <th>5</th>\n",
       "    </tr>\n",
       "  </thead>\n",
       "  <tbody>\n",
       "    <tr>\n",
       "      <th>0</th>\n",
       "      <td>9bd349312c</td>\n",
       "      <td>4bd87bd3da</td>\n",
       "      <td>dc4a1c9a30</td>\n",
       "      <td>3e1b6580f5</td>\n",
       "      <td>c593c662f1</td>\n",
       "      <td>a003c71571</td>\n",
       "    </tr>\n",
       "    <tr>\n",
       "      <th>1</th>\n",
       "      <td>28948eeb9c</td>\n",
       "      <td>NaN</td>\n",
       "      <td>bba083d347</td>\n",
       "      <td>b749a000ea</td>\n",
       "      <td>1cf33ec55a</td>\n",
       "      <td>3fbe62aa50</td>\n",
       "    </tr>\n",
       "    <tr>\n",
       "      <th>2</th>\n",
       "      <td>e97033b42c</td>\n",
       "      <td>NaN</td>\n",
       "      <td>9159c5f8fe</td>\n",
       "      <td>da41e9ed21</td>\n",
       "      <td>e47c5d83fc</td>\n",
       "      <td>5bef437307</td>\n",
       "    </tr>\n",
       "    <tr>\n",
       "      <th>3</th>\n",
       "      <td>a971d2ae53</td>\n",
       "      <td>aeba5383e4</td>\n",
       "      <td>9a804d3e93</td>\n",
       "      <td>4bbe1afbc2</td>\n",
       "      <td>4b72e35b8b</td>\n",
       "      <td>3cffb3227b</td>\n",
       "    </tr>\n",
       "    <tr>\n",
       "      <th>4</th>\n",
       "      <td>f13f682676</td>\n",
       "      <td>8676b531a3</td>\n",
       "      <td>9ad15b2d25</td>\n",
       "      <td>20345ad292</td>\n",
       "      <td>aa082095e7</td>\n",
       "      <td>1dcf541ad8</td>\n",
       "    </tr>\n",
       "    <tr>\n",
       "      <th>5</th>\n",
       "      <td>cc6abe337d</td>\n",
       "      <td>NaN</td>\n",
       "      <td>aa2ab180cd</td>\n",
       "      <td>4e583649f3</td>\n",
       "      <td>f6e87c1458</td>\n",
       "      <td>7b19f5eb71</td>\n",
       "    </tr>\n",
       "    <tr>\n",
       "      <th>6</th>\n",
       "      <td>5489a9e706</td>\n",
       "      <td>a77029244a</td>\n",
       "      <td>c899bb9da4</td>\n",
       "      <td>1d23853728</td>\n",
       "      <td>6b3478573c</td>\n",
       "      <td>db17867b19</td>\n",
       "    </tr>\n",
       "    <tr>\n",
       "      <th>7</th>\n",
       "      <td>e73532b450</td>\n",
       "      <td>ac1c1262a0</td>\n",
       "      <td>a77f69692a</td>\n",
       "      <td>79ad96357c</td>\n",
       "      <td>4db87ce39b</td>\n",
       "      <td>NaN</td>\n",
       "    </tr>\n",
       "  </tbody>\n",
       "</table>\n",
       "</div>"
      ],
      "text/plain": [
       "            0           1           2           3           4           5\n",
       "0  9bd349312c  4bd87bd3da  dc4a1c9a30  3e1b6580f5  c593c662f1  a003c71571\n",
       "1  28948eeb9c         NaN  bba083d347  b749a000ea  1cf33ec55a  3fbe62aa50\n",
       "2  e97033b42c         NaN  9159c5f8fe  da41e9ed21  e47c5d83fc  5bef437307\n",
       "3  a971d2ae53  aeba5383e4  9a804d3e93  4bbe1afbc2  4b72e35b8b  3cffb3227b\n",
       "4  f13f682676  8676b531a3  9ad15b2d25  20345ad292  aa082095e7  1dcf541ad8\n",
       "5  cc6abe337d         NaN  aa2ab180cd  4e583649f3  f6e87c1458  7b19f5eb71\n",
       "6  5489a9e706  a77029244a  c899bb9da4  1d23853728  6b3478573c  db17867b19\n",
       "7  e73532b450  ac1c1262a0  a77f69692a  79ad96357c  4db87ce39b         NaN"
      ]
     },
     "execution_count": 439,
     "metadata": {},
     "output_type": "execute_result"
    }
   ],
   "source": [
    "f = files[68]\n",
    "\n",
    "df = pd.read_csv(f, header=None)\n",
    "\n",
    "df"
   ]
  },
  {
   "cell_type": "code",
   "execution_count": 440,
   "metadata": {},
   "outputs": [
    {
     "data": {
      "image/png": "[encoded data removed]",
      "text/plain": [
       "<Figure size 720x720 with 1 Axes>"
      ]
     },
     "metadata": {},
     "output_type": "display_data"
    }
   ],
   "source": [
    "#img_col = combine_images(df, mode='image')\n",
    "mask_col = combine_images(df, mode='mask')\n",
    "#pred_col = combine_images(df, mode='pred')"
   ]
  },
  {
   "cell_type": "code",
   "execution_count": null,
   "metadata": {},
   "outputs": [],
   "source": []
  },
  {
   "cell_type": "code",
   "execution_count": 115,
   "metadata": {
    "scrolled": false
   },
   "outputs": [],
   "source": []
  },
  {
   "cell_type": "code",
   "execution_count": null,
   "metadata": {},
   "outputs": [],
   "source": []
  },
  {
   "cell_type": "code",
   "execution_count": null,
   "metadata": {},
   "outputs": [],
   "source": []
  },
  {
   "cell_type": "markdown",
   "metadata": {},
   "source": [
    "## check single image"
   ]
  },
  {
   "cell_type": "code",
   "execution_count": 419,
   "metadata": {},
   "outputs": [
    {
     "data": {
      "text/html": [
       "<div>\n",
       "<style scoped>\n",
       "    .dataframe tbody tr th:only-of-type {\n",
       "        vertical-align: middle;\n",
       "    }\n",
       "\n",
       "    .dataframe tbody tr th {\n",
       "        vertical-align: top;\n",
       "    }\n",
       "\n",
       "    .dataframe thead th {\n",
       "        text-align: right;\n",
       "    }\n",
       "</style>\n",
       "<table border=\"1\" class=\"dataframe\">\n",
       "  <thead>\n",
       "    <tr style=\"text-align: right;\">\n",
       "      <th></th>\n",
       "      <th>0</th>\n",
       "      <th>1</th>\n",
       "      <th>2</th>\n",
       "      <th>3</th>\n",
       "      <th>4</th>\n",
       "      <th>5</th>\n",
       "      <th>6</th>\n",
       "      <th>7</th>\n",
       "      <th>8</th>\n",
       "      <th>9</th>\n",
       "      <th>10</th>\n",
       "      <th>11</th>\n",
       "    </tr>\n",
       "  </thead>\n",
       "  <tbody>\n",
       "    <tr>\n",
       "      <th>0</th>\n",
       "      <td>NaN</td>\n",
       "      <td>NaN</td>\n",
       "      <td>NaN</td>\n",
       "      <td>NaN</td>\n",
       "      <td>NaN</td>\n",
       "      <td>NaN</td>\n",
       "      <td>NaN</td>\n",
       "      <td>NaN</td>\n",
       "      <td>NaN</td>\n",
       "      <td>b97918ac08</td>\n",
       "      <td>ad19d4e20c</td>\n",
       "      <td>376b6b7e94</td>\n",
       "    </tr>\n",
       "    <tr>\n",
       "      <th>1</th>\n",
       "      <td>08f3e1580b</td>\n",
       "      <td>NaN</td>\n",
       "      <td>c7c3a8a806</td>\n",
       "      <td>1ee82dabee</td>\n",
       "      <td>4071dd4858</td>\n",
       "      <td>NaN</td>\n",
       "      <td>10dc83d62f</td>\n",
       "      <td>46c1a0e9a3</td>\n",
       "      <td>98c97825f1</td>\n",
       "      <td>6ba0601416</td>\n",
       "      <td>69ab424098</td>\n",
       "      <td>1dbc694c5d</td>\n",
       "    </tr>\n",
       "    <tr>\n",
       "      <th>2</th>\n",
       "      <td>be542946f5</td>\n",
       "      <td>b345b1f290</td>\n",
       "      <td>88efb73723</td>\n",
       "      <td>41bbbc3c6a</td>\n",
       "      <td>0e16439e05</td>\n",
       "      <td>NaN</td>\n",
       "      <td>27ed8e3d5f</td>\n",
       "      <td>f32a360c8b</td>\n",
       "      <td>NaN</td>\n",
       "      <td>NaN</td>\n",
       "      <td>7d51af6ef3</td>\n",
       "      <td>c1b3a9912c</td>\n",
       "    </tr>\n",
       "    <tr>\n",
       "      <th>3</th>\n",
       "      <td>2bd6da4508</td>\n",
       "      <td>9f4471dcd6</td>\n",
       "      <td>a4990e5d39</td>\n",
       "      <td>b0e3178d6f</td>\n",
       "      <td>2efa022d01</td>\n",
       "      <td>NaN</td>\n",
       "      <td>dea0a56bab</td>\n",
       "      <td>NaN</td>\n",
       "      <td>a8e62d2504</td>\n",
       "      <td>65fe1a0efc</td>\n",
       "      <td>c455f7be1b</td>\n",
       "      <td>280911f6fd</td>\n",
       "    </tr>\n",
       "    <tr>\n",
       "      <th>4</th>\n",
       "      <td>7d596c01eb</td>\n",
       "      <td>6d34f414ed</td>\n",
       "      <td>d36a3ca700</td>\n",
       "      <td>9881925fc5</td>\n",
       "      <td>048763f628</td>\n",
       "      <td>3ab7b7d831</td>\n",
       "      <td>bc6b14c9d3</td>\n",
       "      <td>71f7425387</td>\n",
       "      <td>c32590b06f</td>\n",
       "      <td>36841d78ba</td>\n",
       "      <td>NaN</td>\n",
       "      <td>4a12baccc4</td>\n",
       "    </tr>\n",
       "    <tr>\n",
       "      <th>5</th>\n",
       "      <td>aede306d15</td>\n",
       "      <td>ebbd2ea275</td>\n",
       "      <td>a9ee40cf0d</td>\n",
       "      <td>55689d22ea</td>\n",
       "      <td>5468ed796d</td>\n",
       "      <td>0ca07a2b06</td>\n",
       "      <td>280dcd0b2d</td>\n",
       "      <td>f6b8bf64b4</td>\n",
       "      <td>53e17edd83</td>\n",
       "      <td>f9467f033a</td>\n",
       "      <td>6d8b46c501</td>\n",
       "      <td>524f01dd79</td>\n",
       "    </tr>\n",
       "    <tr>\n",
       "      <th>6</th>\n",
       "      <td>NaN</td>\n",
       "      <td>05bf647e6d</td>\n",
       "      <td>80693d458f</td>\n",
       "      <td>34acb105f7</td>\n",
       "      <td>8b71ac9863</td>\n",
       "      <td>cda1d37159</td>\n",
       "      <td>c3cb500dfb</td>\n",
       "      <td>235fce1c1e</td>\n",
       "      <td>b5469f2eb9</td>\n",
       "      <td>c1ed7e8344</td>\n",
       "      <td>9ac1f214d8</td>\n",
       "      <td>5f487741b7</td>\n",
       "    </tr>\n",
       "    <tr>\n",
       "      <th>7</th>\n",
       "      <td>4d6ef1a9bb</td>\n",
       "      <td>9afa3dea27</td>\n",
       "      <td>a3f984c72f</td>\n",
       "      <td>82385cd8e9</td>\n",
       "      <td>c5d6fe7b88</td>\n",
       "      <td>40a6d01026</td>\n",
       "      <td>9556d5ea0a</td>\n",
       "      <td>cb707b00e6</td>\n",
       "      <td>71f7ef5864</td>\n",
       "      <td>3116a9d54c</td>\n",
       "      <td>029dd6f51f</td>\n",
       "      <td>NaN</td>\n",
       "    </tr>\n",
       "  </tbody>\n",
       "</table>\n",
       "</div>"
      ],
      "text/plain": [
       "           0           1           2           3           4           5   \\\n",
       "0         NaN         NaN         NaN         NaN         NaN         NaN   \n",
       "1  08f3e1580b         NaN  c7c3a8a806  1ee82dabee  4071dd4858         NaN   \n",
       "2  be542946f5  b345b1f290  88efb73723  41bbbc3c6a  0e16439e05         NaN   \n",
       "3  2bd6da4508  9f4471dcd6  a4990e5d39  b0e3178d6f  2efa022d01         NaN   \n",
       "4  7d596c01eb  6d34f414ed  d36a3ca700  9881925fc5  048763f628  3ab7b7d831   \n",
       "5  aede306d15  ebbd2ea275  a9ee40cf0d  55689d22ea  5468ed796d  0ca07a2b06   \n",
       "6         NaN  05bf647e6d  80693d458f  34acb105f7  8b71ac9863  cda1d37159   \n",
       "7  4d6ef1a9bb  9afa3dea27  a3f984c72f  82385cd8e9  c5d6fe7b88  40a6d01026   \n",
       "\n",
       "           6           7           8           9           10          11  \n",
       "0         NaN         NaN         NaN  b97918ac08  ad19d4e20c  376b6b7e94  \n",
       "1  10dc83d62f  46c1a0e9a3  98c97825f1  6ba0601416  69ab424098  1dbc694c5d  \n",
       "2  27ed8e3d5f  f32a360c8b         NaN         NaN  7d51af6ef3  c1b3a9912c  \n",
       "3  dea0a56bab         NaN  a8e62d2504  65fe1a0efc  c455f7be1b  280911f6fd  \n",
       "4  bc6b14c9d3  71f7425387  c32590b06f  36841d78ba         NaN  4a12baccc4  \n",
       "5  280dcd0b2d  f6b8bf64b4  53e17edd83  f9467f033a  6d8b46c501  524f01dd79  \n",
       "6  c3cb500dfb  235fce1c1e  b5469f2eb9  c1ed7e8344  9ac1f214d8  5f487741b7  \n",
       "7  9556d5ea0a  cb707b00e6  71f7ef5864  3116a9d54c  029dd6f51f         NaN  "
      ]
     },
     "execution_count": 419,
     "metadata": {},
     "output_type": "execute_result"
    }
   ],
   "source": [
    "df"
   ]
  },
  {
   "cell_type": "code",
   "execution_count": 420,
   "metadata": {},
   "outputs": [
    {
     "data": {
      "text/plain": [
       "array([[0, 0, 0, ..., 1, 1, 1],\n",
       "       [0, 0, 0, ..., 1, 1, 1],\n",
       "       [0, 0, 0, ..., 1, 1, 1],\n",
       "       ...,\n",
       "       [0, 0, 0, ..., 1, 1, 1],\n",
       "       [0, 0, 0, ..., 1, 1, 1],\n",
       "       [0, 0, 0, ..., 1, 1, 1]], dtype=uint8)"
      ]
     },
     "execution_count": 420,
     "metadata": {},
     "output_type": "execute_result"
    }
   ],
   "source": [
    "#img = unpad_pred_dict['ebbd2ea275'].astype(np.uint8)\n",
    "img = train_pred['a9ee40cf0d'].astype(np.uint8)\n",
    "\n",
    "img"
   ]
  },
  {
   "cell_type": "code",
   "execution_count": 421,
   "metadata": {
    "scrolled": true
   },
   "outputs": [
    {
     "data": {
      "text/plain": [
       "<matplotlib.image.AxesImage at 0x7f7286808da0>"
      ]
     },
     "execution_count": 421,
     "metadata": {},
     "output_type": "execute_result"
    },
    {
     "data": {
      "image/png": "[encoded data removed]",
      "text/plain": [
       "<Figure size 432x288 with 1 Axes>"
      ]
     },
     "metadata": {},
     "output_type": "display_data"
    }
   ],
   "source": [
    "plt.imshow(img, cmap='binary')"
   ]
  },
  {
   "cell_type": "code",
   "execution_count": null,
   "metadata": {},
   "outputs": [],
   "source": []
  },
  {
   "cell_type": "markdown",
   "metadata": {},
   "source": [
    "## find boundary"
   ]
  },
  {
   "cell_type": "code",
   "execution_count": 9,
   "metadata": {},
   "outputs": [],
   "source": [
    "from skimage.segmentation import find_boundaries"
   ]
  },
  {
   "cell_type": "code",
   "execution_count": 422,
   "metadata": {},
   "outputs": [
    {
     "data": {
      "text/plain": [
       "<matplotlib.image.AxesImage at 0x7f7286908048>"
      ]
     },
     "execution_count": 422,
     "metadata": {},
     "output_type": "execute_result"
    },
    {
     "data": {
      "image/png": "[encoded data removed]",
      "text/plain": [
       "<Figure size 432x288 with 1 Axes>"
      ]
     },
     "metadata": {},
     "output_type": "display_data"
    }
   ],
   "source": [
    "_img = find_boundaries(img, connectivity=1).astype(np.uint8)\n",
    "\n",
    "#_img = smooth_mask(_img, kernel_size=1)\n",
    "\n",
    "plt.imshow(_img, cmap='binary')"
   ]
  },
  {
   "cell_type": "code",
   "execution_count": 21,
   "metadata": {},
   "outputs": [],
   "source": [
    "#plt.imshow(np.flipud(_img), cmap='binary')"
   ]
  },
  {
   "cell_type": "code",
   "execution_count": 398,
   "metadata": {},
   "outputs": [],
   "source": [
    "def is_vertical(img, x_threshold=10, y_threshold=90):\n",
    "    if img.mean()==0:\n",
    "        return False\n",
    "    img = find_boundaries(img.astype(np.uint8), connectivity=1).astype(np.uint8)\n",
    "    y, x = np.where(img==1)\n",
    "    if len(x) == 0 or len(y) == 0:\n",
    "        return False\n",
    "    if y.max()-y.min()>y_threshold and x.max()-x.min()<x_threshold:#10\n",
    "        return True\n",
    "    else:\n",
    "        median = np.median(x)\n",
    "        x0 = x[x>median]\n",
    "        y0 = y[x>median]\n",
    "        x1 = x[x<median]\n",
    "        y1 = y[x<median]\n",
    "        if y0.max()-y0.min()>y_threshold and x0.max()-x0.min()<x_threshold and \\\n",
    "        y1.max()-y1.min()>y_threshold and x1.max()-x1.min()<x_threshold:\n",
    "            return True\n",
    "        return False"
   ]
  },
  {
   "cell_type": "code",
   "execution_count": 424,
   "metadata": {},
   "outputs": [
    {
     "data": {
      "text/plain": [
       "True"
      ]
     },
     "execution_count": 424,
     "metadata": {},
     "output_type": "execute_result"
    }
   ],
   "source": [
    "is_vertical(img, x_threshold=10, y_threshold=90)"
   ]
  },
  {
   "cell_type": "code",
   "execution_count": 355,
   "metadata": {},
   "outputs": [],
   "source": []
  },
  {
   "cell_type": "code",
   "execution_count": null,
   "metadata": {},
   "outputs": [],
   "source": []
  },
  {
   "cell_type": "code",
   "execution_count": null,
   "metadata": {},
   "outputs": [],
   "source": []
  },
  {
   "cell_type": "code",
   "execution_count": null,
   "metadata": {},
   "outputs": [],
   "source": []
  },
  {
   "cell_type": "code",
   "execution_count": null,
   "metadata": {},
   "outputs": [],
   "source": []
  },
  {
   "cell_type": "code",
   "execution_count": null,
   "metadata": {},
   "outputs": [],
   "source": []
  },
  {
   "cell_type": "markdown",
   "metadata": {},
   "source": [
    "## smoothing the serrated"
   ]
  },
  {
   "cell_type": "code",
   "execution_count": 121,
   "metadata": {},
   "outputs": [
    {
     "data": {
      "text/plain": [
       "<matplotlib.image.AxesImage at 0x7fd85e572da0>"
      ]
     },
     "execution_count": 121,
     "metadata": {},
     "output_type": "execute_result"
    },
    {
     "data": {
      "image/png": "[encoded data removed]",
      "text/plain": [
       "<Figure size 432x288 with 1 Axes>"
      ]
     },
     "metadata": {},
     "output_type": "display_data"
    }
   ],
   "source": [
    "import cv2\n",
    "def smooth_mask(_img, kernel_size=5):\n",
    "    _img = _img*255\n",
    "    kernel = np.ones((kernel_size, kernel_size), np.uint8)\n",
    "    erosion = cv2.erode(_img, kernel, iterations = 1)\n",
    "    dilation = cv2.dilate(erosion, kernel, iterations = 1)\n",
    "    return (dilation/255).astype(int)\n",
    "\n",
    "_img = smooth_mask(img, kernel_size=9)\n",
    "\n",
    "plt.imshow(_img, cmap='binary')"
   ]
  },
  {
   "cell_type": "code",
   "execution_count": null,
   "metadata": {},
   "outputs": [],
   "source": []
  },
  {
   "cell_type": "code",
   "execution_count": null,
   "metadata": {},
   "outputs": [],
   "source": []
  },
  {
   "cell_type": "code",
   "execution_count": null,
   "metadata": {},
   "outputs": [],
   "source": []
  }
 ],
 "metadata": {
  "kernelspec": {
   "display_name": "Python 3",
   "language": "python",
   "name": "python3"
  },
  "language_info": {
   "codemirror_mode": {
    "name": "ipython",
    "version": 3
   },
   "file_extension": ".py",
   "mimetype": "text/x-python",
   "name": "python",
   "nbconvert_exporter": "python",
   "pygments_lexer": "ipython3",
   "version": "3.6.5"
  }
 },
 "nbformat": 4,
 "nbformat_minor": 2
}
