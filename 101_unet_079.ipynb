{
 "cells": [
  {
   "cell_type": "code",
   "execution_count": 1,
   "metadata": {
    "_cell_guid": "b1076dfc-b9ad-4769-8c92-a6c4dae69d19",
    "_uuid": "8f2839f25d086af736a60e9eeb907d3b93b6e0e5"
   },
   "outputs": [
    {
     "name": "stdout",
     "output_type": "stream",
     "text": [
      "['test_images', 'depths.csv', 'train.csv', 'sample_submission.csv', '.ipynb_checkpoints', 'train_images']\n"
     ]
    }
   ],
   "source": [
    "# This Python 3 environment comes with many helpful analytics libraries installed\n",
    "# It is defined by the kaggle/python docker image: https://github.com/kaggle/docker-python\n",
    "# For example, here's several helpful packages to load in \n",
    "\n",
    "import numpy as np # linear algebra\n",
    "import pandas as pd # data processing, CSV file I/O (e.g. pd.read_csv)\n",
    "\n",
    "# Input data files are available in the \"../input/\" directory.\n",
    "# For example, running this (by clicking run or pressing Shift+Enter) will list the files in the input directory\n",
    "\n",
    "import os\n",
    "print(os.listdir(\"data/raw/\"))\n",
    "\n",
    "# Any results you write to the current directory are saved as output."
   ]
  },
  {
   "cell_type": "code",
   "execution_count": 2,
   "metadata": {
    "_uuid": "a90b06999e23c6bf43f16a61ba61c6f7ee729abf"
   },
   "outputs": [
    {
     "name": "stderr",
     "output_type": "stream",
     "text": [
      "/home/endi/anaconda3/lib/python3.6/site-packages/h5py/__init__.py:36: FutureWarning: Conversion of the second argument of issubdtype from `float` to `np.floating` is deprecated. In future, it will be treated as `np.float64 == np.dtype(float).type`.\n",
      "  from ._conv import register_converters as _register_converters\n",
      "Using TensorFlow backend.\n"
     ]
    }
   ],
   "source": [
    "import os\n",
    "import sys\n",
    "import random\n",
    "\n",
    "import pandas as pd\n",
    "import numpy as np\n",
    "import matplotlib.pyplot as plt\n",
    "plt.style.use('seaborn-white')\n",
    "import seaborn as sns\n",
    "sns.set_style(\"white\")\n",
    "\n",
    "%matplotlib inline\n",
    "\n",
    "# import cv2\n",
    "from sklearn.model_selection import train_test_split\n",
    "\n",
    "from tqdm import tqdm_notebook, tnrange\n",
    "from itertools import chain\n",
    "from skimage.io import imread, imshow, concatenate_images\n",
    "from skimage.transform import resize\n",
    "from skimage.morphology import label\n",
    "\n",
    "from keras.models import Model, load_model\n",
    "from keras.layers import Input,Dropout,BatchNormalization,Activation,Add\n",
    "from keras.layers.core import Lambda\n",
    "from keras.layers.convolutional import Conv2D, Conv2DTranspose\n",
    "from keras.layers.pooling import MaxPooling2D\n",
    "from keras.layers.merge import concatenate\n",
    "from keras.callbacks import EarlyStopping, ModelCheckpoint, ReduceLROnPlateau\n",
    "from keras import backend as K\n",
    "\n",
    "import tensorflow as tf\n",
    "\n",
    "from keras.preprocessing.image import ImageDataGenerator, array_to_img, img_to_array, load_img#,save_img"
   ]
  },
  {
   "cell_type": "code",
   "execution_count": 3,
   "metadata": {},
   "outputs": [],
   "source": [
    "# 指定需要使用的gpu，编号从0开始，多块gpu用逗号分隔\n",
    "os.environ[\"CUDA_DEVICE_ORDER\"] = \"PCI_BUS_ID\"\n",
    "os.environ[\"CUDA_VISIBLE_DEVICES\"] = \"0\"#\"0, 1\"\n",
    "\n",
    "# 占用百分之十的显存上限\n",
    "import tensorflow as tf\n",
    "import keras.backend as K\n",
    "gpu_options = tf.GPUOptions(per_process_gpu_memory_fraction=0.95, allow_growth =True)\n",
    "sess = tf.Session(config = tf.ConfigProto(gpu_options = gpu_options))\n",
    "K.set_session(sess)\n",
    "\n",
    "from keras.utils import multi_gpu_model\n"
   ]
  },
  {
   "cell_type": "code",
   "execution_count": 4,
   "metadata": {
    "_uuid": "0d73692048e0c7776eb2d86bea86a3dee0910c99"
   },
   "outputs": [],
   "source": [
    "# Set some parameters\n",
    "img_size_ori = 101\n",
    "img_size_target = 101\n",
    "im_width = 101\n",
    "im_height = 101\n",
    "im_chan = 1"
   ]
  },
  {
   "cell_type": "code",
   "execution_count": 5,
   "metadata": {
    "_cell_guid": "79c7e3d0-c299-4dcb-8224-4455121ee9b0",
    "_uuid": "d629ff2d2480ee46fbb7e2d37f6b5fab8052498a",
    "scrolled": true
   },
   "outputs": [
    {
     "data": {
      "text/plain": [
       "(4000, 18000)"
      ]
     },
     "execution_count": 5,
     "metadata": {},
     "output_type": "execute_result"
    }
   ],
   "source": [
    "# Loading of training/testing ids and depths\n",
    "\n",
    "train_df = pd.read_csv(\"data/raw/train.csv\", index_col=\"id\", usecols=[0])\n",
    "depths_df = pd.read_csv(\"data/raw/depths.csv\", index_col=\"id\")\n",
    "train_df = train_df.join(depths_df)\n",
    "test_df = depths_df[~depths_df.index.isin(train_df.index)]\n",
    "\n",
    "len(train_df), len(test_df)"
   ]
  },
  {
   "cell_type": "code",
   "execution_count": 6,
   "metadata": {
    "_uuid": "a8496e5645bb1507501794dcc3ba30845ff43895"
   },
   "outputs": [
    {
     "data": {
      "application/vnd.jupyter.widget-view+json": {
       "model_id": "b87f5c34f39f4ba9bd14de73b7f0a77e",
       "version_major": 2,
       "version_minor": 0
      },
      "text/plain": [
       "HBox(children=(IntProgress(value=0, max=4000), HTML(value='')))"
      ]
     },
     "metadata": {},
     "output_type": "display_data"
    },
    {
     "name": "stdout",
     "output_type": "stream",
     "text": [
      "\n"
     ]
    }
   ],
   "source": [
    "## each image numpy array stored in 'images' column\n",
    "train_df[\"images\"] = [np.array(load_img(\"data/raw/train_images/images/{}.png\".format(idx), color_mode = \"grayscale\")) \\\n",
    "                      / 255 \\\n",
    "                      for idx in tqdm_notebook(train_df.index)]"
   ]
  },
  {
   "cell_type": "code",
   "execution_count": 7,
   "metadata": {
    "_uuid": "bf2953bf0a832b54f9202b91aeda601578213141"
   },
   "outputs": [
    {
     "data": {
      "application/vnd.jupyter.widget-view+json": {
       "model_id": "e5ec89310f3f43f79b892d7a5089aad4",
       "version_major": 2,
       "version_minor": 0
      },
      "text/plain": [
       "HBox(children=(IntProgress(value=0, max=4000), HTML(value='')))"
      ]
     },
     "metadata": {},
     "output_type": "display_data"
    },
    {
     "name": "stdout",
     "output_type": "stream",
     "text": [
      "\n"
     ]
    }
   ],
   "source": [
    "train_df[\"masks\"] = [np.array(load_img(\"data/raw/train_images/masks/{}.png\".format(idx), color_mode = \"grayscale\")) \\\n",
    "                     / 255 \\\n",
    "                     for idx in tqdm_notebook(train_df.index)]"
   ]
  },
  {
   "cell_type": "code",
   "execution_count": 8,
   "metadata": {
    "_uuid": "8792cc0742643c69eeae058b722dfc91366d9fbe"
   },
   "outputs": [],
   "source": [
    "train_df[\"coverage\"] = train_df.masks.map(np.sum) / img_size_ori**2\n",
    "\n",
    "def cov_to_class(val):\n",
    "    \"\"\"which quantile?\"\"\"\n",
    "    for i in range(0, 11):\n",
    "        if val * 10 <= i :\n",
    "            return i\n",
    "\n",
    "train_df[\"coverage_class\"] = train_df.coverage.map(cov_to_class)"
   ]
  },
  {
   "cell_type": "code",
   "execution_count": 9,
   "metadata": {
    "_uuid": "198b582cf0af6d3397146b0e275d6f6df7724a0a"
   },
   "outputs": [
    {
     "data": {
      "text/plain": [
       "(0.05548475639643172, 566.0)"
      ]
     },
     "execution_count": 9,
     "metadata": {},
     "output_type": "execute_result"
    }
   ],
   "source": [
    "train_df.coverage.quantile(0.5), train_df.coverage.quantile(0.5) * 101**2"
   ]
  },
  {
   "cell_type": "code",
   "execution_count": 10,
   "metadata": {
    "_uuid": "506c492a137781ec9daa352a3e9ccf04de39f6ff"
   },
   "outputs": [
    {
     "name": "stderr",
     "output_type": "stream",
     "text": [
      "/home/endi/anaconda3/lib/python3.6/site-packages/matplotlib/axes/_axes.py:6462: UserWarning: The 'normed' kwarg is deprecated, and has been replaced by the 'density' kwarg.\n",
      "  warnings.warn(\"The 'normed' kwarg is deprecated, and has been \"\n",
      "/home/endi/anaconda3/lib/python3.6/site-packages/matplotlib/axes/_axes.py:6462: UserWarning: The 'normed' kwarg is deprecated, and has been replaced by the 'density' kwarg.\n",
      "  warnings.warn(\"The 'normed' kwarg is deprecated, and has been \"\n"
     ]
    },
    {
     "data": {
      "text/plain": [
       "Text(0.5,0,'Coverage class')"
      ]
     },
     "execution_count": 10,
     "metadata": {},
     "output_type": "execute_result"
    },
    {
     "data": {
      "image/png": "[encoded data removed]",
      "text/plain": [
       "<Figure size 1080x360 with 2 Axes>"
      ]
     },
     "metadata": {},
     "output_type": "display_data"
    }
   ],
   "source": [
    "fig, axs = plt.subplots(1, 2, figsize=(15,5))\n",
    "sns.distplot(train_df.coverage, kde=False, ax=axs[0])\n",
    "sns.distplot(train_df.coverage_class, bins=10, kde=False, ax=axs[1])\n",
    "plt.suptitle(\"Salt coverage\")\n",
    "axs[0].set_xlabel(\"Coverage\")\n",
    "axs[1].set_xlabel(\"Coverage class\")"
   ]
  },
  {
   "cell_type": "code",
   "execution_count": 11,
   "metadata": {
    "_uuid": "a92bc1fea8dc41650e2e0cd59a76347707b87afa"
   },
   "outputs": [
    {
     "name": "stderr",
     "output_type": "stream",
     "text": [
      "/home/endi/anaconda3/lib/python3.6/site-packages/matplotlib/axes/_axes.py:6462: UserWarning: The 'normed' kwarg is deprecated, and has been replaced by the 'density' kwarg.\n",
      "  warnings.warn(\"The 'normed' kwarg is deprecated, and has been \"\n",
      "/home/endi/anaconda3/lib/python3.6/site-packages/matplotlib/axes/_axes.py:6462: UserWarning: The 'normed' kwarg is deprecated, and has been replaced by the 'density' kwarg.\n",
      "  warnings.warn(\"The 'normed' kwarg is deprecated, and has been \"\n"
     ]
    },
    {
     "data": {
      "text/plain": [
       "Text(0.5,1,'Depth distribution')"
      ]
     },
     "execution_count": 11,
     "metadata": {},
     "output_type": "execute_result"
    },
    {
     "data": {
      "image/png": "[encoded data removed]",
      "text/plain": [
       "<Figure size 432x288 with 1 Axes>"
      ]
     },
     "metadata": {},
     "output_type": "display_data"
    }
   ],
   "source": [
    "#Plotting the depth distributions¶\n",
    "\n",
    "sns.distplot(train_df.z, label=\"Train\")\n",
    "sns.distplot(test_df.z, label=\"Test\")\n",
    "plt.legend()\n",
    "plt.title(\"Depth distribution\")"
   ]
  },
  {
   "cell_type": "code",
   "execution_count": 12,
   "metadata": {
    "_uuid": "20f9807f927e2c1d6c02f2f31e961d355338b3f5"
   },
   "outputs": [],
   "source": [
    "# Create train/validation split stratified by salt coverage\n",
    "\n",
    "ids_train, ids_valid, x_train, x_valid, y_train, y_valid, cov_train, cov_test, depth_train, depth_test = train_test_split(\n",
    "    train_df.index.values,#ids\n",
    "    np.array(train_df.images.tolist()).reshape(-1, img_size_target, img_size_target, 1), #raw image\n",
    "    np.array(train_df.masks.tolist()).reshape(-1, img_size_target, img_size_target, 1), #mask image (label of unet)\n",
    "    train_df.coverage.values,#coverage (0~1)\n",
    "    train_df.z.values,#depths\n",
    "    test_size=0.2, stratify=train_df.coverage_class, random_state= 1234)"
   ]
  },
  {
   "cell_type": "code",
   "execution_count": 13,
   "metadata": {
    "_uuid": "631fca1aab8cc4a51c1e5e6db38a7eb7cc6b260c",
    "scrolled": true
   },
   "outputs": [],
   "source": [
    "ACTIVATION = \"relu\"\n",
    "\n",
    "def convolution_block(x, filters, size, strides=(1,1), padding='same', activation=True):\n",
    "    x = Conv2D(filters, size, strides=strides, padding=padding)(x)\n",
    "    x = BatchNormalization()(x)\n",
    "    if activation == True:\n",
    "        x = Activation(ACTIVATION)(x)\n",
    "    return x\n",
    "\n",
    "def residual_block(blockInput, num_filters=16):\n",
    "    x = Activation(ACTIVATION)(blockInput)\n",
    "    x = BatchNormalization()(x)\n",
    "    x = convolution_block(x, num_filters, (3,3) )\n",
    "    x = convolution_block(x, num_filters, (3,3), activation=False)\n",
    "    x = Add()([x, blockInput])\n",
    "    return x"
   ]
  },
  {
   "cell_type": "code",
   "execution_count": 14,
   "metadata": {
    "_uuid": "9a2cb59b6b59b9158fce7da0fa2e39b9c7a6dc28"
   },
   "outputs": [],
   "source": [
    "# Build model\n",
    "def build_model(input_layer, start_neurons, DropoutRatio = 0.5):\n",
    "    # 101 -> 50\n",
    "    conv1 = Conv2D(start_neurons * 1, (3, 3), activation=None, padding=\"same\")(input_layer)\n",
    "    conv1 = residual_block(conv1,start_neurons * 1)\n",
    "    conv1 = residual_block(conv1,start_neurons * 1)\n",
    "    conv1 = Activation(ACTIVATION)(conv1)\n",
    "    pool1 = MaxPooling2D((2, 2))(conv1)\n",
    "    pool1 = Dropout(DropoutRatio/2)(pool1)\n",
    "\n",
    "    # 50 -> 25\n",
    "    conv2 = Conv2D(start_neurons * 2, (3, 3), activation=None, padding=\"same\")(pool1)\n",
    "    conv2 = residual_block(conv2,start_neurons * 2)\n",
    "    conv2 = residual_block(conv2,start_neurons * 2)\n",
    "    conv2 = Activation(ACTIVATION)(conv2)\n",
    "    pool2 = MaxPooling2D((2, 2))(conv2)\n",
    "    pool2 = Dropout(DropoutRatio)(pool2)\n",
    "\n",
    "    # 25 -> 12\n",
    "    conv3 = Conv2D(start_neurons * 4, (3, 3), activation=None, padding=\"same\")(pool2)\n",
    "    conv3 = residual_block(conv3,start_neurons * 4)\n",
    "    conv3 = residual_block(conv3,start_neurons * 4)\n",
    "    conv3 = Activation(ACTIVATION)(conv3)\n",
    "    pool3 = MaxPooling2D((2, 2))(conv3)\n",
    "    pool3 = Dropout(DropoutRatio)(pool3)\n",
    "\n",
    "    # 12 -> 6\n",
    "    conv4 = Conv2D(start_neurons * 8, (3, 3), activation=None, padding=\"same\")(pool3)\n",
    "    conv4 = residual_block(conv4,start_neurons * 8)\n",
    "    conv4 = residual_block(conv4,start_neurons * 8)\n",
    "    conv4 = Activation(ACTIVATION)(conv4)\n",
    "    pool4 = MaxPooling2D((2, 2))(conv4)\n",
    "    pool4 = Dropout(DropoutRatio)(pool4)\n",
    "\n",
    "    # Middle\n",
    "    convm = Conv2D(start_neurons * 16, (3, 3), activation=None, padding=\"same\")(pool4)\n",
    "    convm = residual_block(convm,start_neurons * 16)\n",
    "    convm = residual_block(convm,start_neurons * 16)\n",
    "    convm = Activation(ACTIVATION)(convm)\n",
    "    \n",
    "    # 6 -> 12\n",
    "    deconv4 = Conv2DTranspose(start_neurons * 8, (3, 3), strides=(2, 2), padding=\"same\")(convm)\n",
    "    uconv4 = concatenate([deconv4, conv4])\n",
    "    uconv4 = Dropout(DropoutRatio)(uconv4)\n",
    "    \n",
    "    uconv4 = Conv2D(start_neurons * 8, (3, 3), activation=None, padding=\"same\")(uconv4)\n",
    "    uconv4 = residual_block(uconv4,start_neurons * 8)\n",
    "    uconv4 = residual_block(uconv4,start_neurons * 8)\n",
    "    uconv4 = Activation(ACTIVATION)(uconv4)\n",
    "    \n",
    "    # 12 -> 25\n",
    "    #deconv3 = Conv2DTranspose(start_neurons * 4, (3, 3), strides=(2, 2), padding=\"same\")(uconv4)\n",
    "    deconv3 = Conv2DTranspose(start_neurons * 4, (3, 3), strides=(2, 2), padding=\"valid\")(uconv4)\n",
    "    uconv3 = concatenate([deconv3, conv3])    \n",
    "    uconv3 = Dropout(DropoutRatio)(uconv3)\n",
    "    \n",
    "    uconv3 = Conv2D(start_neurons * 4, (3, 3), activation=None, padding=\"same\")(uconv3)\n",
    "    uconv3 = residual_block(uconv3,start_neurons * 4)\n",
    "    uconv3 = residual_block(uconv3,start_neurons * 4)\n",
    "    uconv3 = Activation(ACTIVATION)(uconv3)\n",
    "\n",
    "    # 25 -> 50\n",
    "    deconv2 = Conv2DTranspose(start_neurons * 2, (3, 3), strides=(2, 2), padding=\"same\")(uconv3)\n",
    "    uconv2 = concatenate([deconv2, conv2])\n",
    "        \n",
    "    uconv2 = Dropout(DropoutRatio)(uconv2)\n",
    "    uconv2 = Conv2D(start_neurons * 2, (3, 3), activation=None, padding=\"same\")(uconv2)\n",
    "    uconv2 = residual_block(uconv2,start_neurons * 2)\n",
    "    uconv2 = residual_block(uconv2,start_neurons * 2)\n",
    "    uconv2 = Activation(ACTIVATION)(uconv2)\n",
    "    \n",
    "    # 50 -> 101\n",
    "    #deconv1 = Conv2DTranspose(start_neurons * 1, (3, 3), strides=(2, 2), padding=\"same\")(uconv2)\n",
    "    deconv1 = Conv2DTranspose(start_neurons * 1, (3, 3), strides=(2, 2), padding=\"valid\")(uconv2)\n",
    "    uconv1 = concatenate([deconv1, conv1])\n",
    "    \n",
    "    uconv1 = Dropout(DropoutRatio)(uconv1)\n",
    "    uconv1 = Conv2D(start_neurons * 1, (3, 3), activation=None, padding=\"same\")(uconv1)\n",
    "    uconv1 = residual_block(uconv1,start_neurons * 1)\n",
    "    uconv1 = residual_block(uconv1,start_neurons * 1)\n",
    "    uconv1 = Activation(ACTIVATION)(uconv1)\n",
    "    \n",
    "    uconv1 = Dropout(DropoutRatio/2)(uconv1)\n",
    "    output_layer = Conv2D(1, (1,1), padding=\"same\", activation=\"sigmoid\")(uconv1)\n",
    "    \n",
    "    return output_layer"
   ]
  },
  {
   "cell_type": "code",
   "execution_count": 15,
   "metadata": {
    "_uuid": "da76373e4476d3755d6b33f4a34278150a1bbab0"
   },
   "outputs": [],
   "source": [
    "# evaluation metric of this competition\n",
    "iou_thresholds = np.array([0.5, 0.55, 0.6, 0.65, 0.7, 0.75, 0.8, 0.85, 0.9, 0.95])\n",
    "\n",
    "def iou(img_true, img_pred):\n",
    "    i = np.sum((img_true*img_pred) >0)\n",
    "    u = np.sum((img_true + img_pred) >0)\n",
    "    if u == 0:\n",
    "        return u\n",
    "    return i/u\n",
    "\n",
    "def iou_metric(imgs_true, imgs_pred):\n",
    "    num_images = len(imgs_true)\n",
    "    scores = np.zeros(num_images)\n",
    "    \n",
    "    for i in range(num_images):\n",
    "        if imgs_true[i].sum() == imgs_pred[i].sum() == 0:\n",
    "            scores[i] = 1\n",
    "        else:\n",
    "            scores[i] = (iou_thresholds <= iou(imgs_true[i], imgs_pred[i])).mean()\n",
    "            \n",
    "    return scores.mean()"
   ]
  },
  {
   "cell_type": "code",
   "execution_count": 16,
   "metadata": {
    "_uuid": "f6cddd87f64d9b9a7e50087fd547c1ce1917a5ca"
   },
   "outputs": [
    {
     "name": "stdout",
     "output_type": "stream",
     "text": [
      "(6400, 101, 101, 1)\n",
      "(800, 101, 101, 1)\n"
     ]
    }
   ],
   "source": [
    "#Data augmentation\n",
    "x_train = np.append(x_train, [np.fliplr(x) for x in x_train], axis=0)\n",
    "y_train = np.append(y_train, [np.fliplr(x) for x in y_train], axis=0)\n",
    "print(x_train.shape)\n",
    "print(y_valid.shape)"
   ]
  },
  {
   "cell_type": "code",
   "execution_count": 17,
   "metadata": {
    "_uuid": "d5f5ba594da7c16a69db0e0c319c9b24a4ec68f3"
   },
   "outputs": [],
   "source": [
    "# model\n",
    "input_layer = Input((img_size_target, img_size_target, 1))\n",
    "output_layer = build_model(input_layer, 16,0.5)\n",
    "\n",
    "model = Model(input_layer, output_layer)\n",
    "\n",
    "# convert to multi-gpu\n",
    "#model = multi_gpu_model(model, gpus=2, cpu_merge=True, cpu_relocation=False)\n",
    "\n",
    "model.compile(loss=\"binary_crossentropy\", optimizer=\"adam\", metrics=[\"acc\"])"
   ]
  },
  {
   "cell_type": "code",
   "execution_count": 18,
   "metadata": {
    "_uuid": "e1ea6302f4135ecace4f954fd6c125bda75a5136",
    "scrolled": true
   },
   "outputs": [
    {
     "name": "stdout",
     "output_type": "stream",
     "text": [
      "Train on 6400 samples, validate on 800 samples\n",
      "Epoch 1/200\n",
      "6400/6400 [==============================] - 42s 7ms/step - loss: 0.3769 - acc: 0.8558 - val_loss: 0.4536 - val_acc: 0.8613\n",
      "\n",
      "Epoch 00001: val_acc improved from -inf to 0.86130, saving model to model/unet_best1.model\n",
      "Epoch 2/200\n",
      "6400/6400 [==============================] - 30s 5ms/step - loss: 0.2712 - acc: 0.9014 - val_loss: 0.3289 - val_acc: 0.9049\n",
      "\n",
      "Epoch 00002: val_acc improved from 0.86130 to 0.90489, saving model to model/unet_best1.model\n",
      "Epoch 3/200\n",
      "6400/6400 [==============================] - 28s 4ms/step - loss: 0.2392 - acc: 0.9124 - val_loss: 0.3975 - val_acc: 0.8457\n",
      "\n",
      "Epoch 00003: val_acc did not improve from 0.90489\n",
      "Epoch 4/200\n",
      "6400/6400 [==============================] - 29s 4ms/step - loss: 0.2186 - acc: 0.9194 - val_loss: 0.2106 - val_acc: 0.9247\n",
      "\n",
      "Epoch 00004: val_acc improved from 0.90489 to 0.92473, saving model to model/unet_best1.model\n",
      "Epoch 5/200\n",
      "6400/6400 [==============================] - 29s 4ms/step - loss: 0.2145 - acc: 0.9207 - val_loss: 0.4075 - val_acc: 0.8536\n",
      "\n",
      "Epoch 00005: val_acc did not improve from 0.92473\n",
      "Epoch 6/200\n",
      "6400/6400 [==============================] - 28s 4ms/step - loss: 0.1878 - acc: 0.9308 - val_loss: 0.1921 - val_acc: 0.9321\n",
      "\n",
      "Epoch 00006: val_acc improved from 0.92473 to 0.93214, saving model to model/unet_best1.model\n",
      "Epoch 7/200\n",
      "6400/6400 [==============================] - 29s 4ms/step - loss: 0.1896 - acc: 0.9294 - val_loss: 0.1999 - val_acc: 0.9180\n",
      "\n",
      "Epoch 00007: val_acc did not improve from 0.93214\n",
      "Epoch 8/200\n",
      "6400/6400 [==============================] - 28s 4ms/step - loss: 0.1717 - acc: 0.9353 - val_loss: 0.1736 - val_acc: 0.9336\n",
      "\n",
      "Epoch 00008: val_acc improved from 0.93214 to 0.93359, saving model to model/unet_best1.model\n",
      "Epoch 9/200\n",
      "6400/6400 [==============================] - 30s 5ms/step - loss: 0.1795 - acc: 0.9335 - val_loss: 0.1794 - val_acc: 0.9354\n",
      "\n",
      "Epoch 00009: val_acc improved from 0.93359 to 0.93541, saving model to model/unet_best1.model\n",
      "Epoch 10/200\n",
      "6400/6400 [==============================] - 29s 5ms/step - loss: 0.1601 - acc: 0.9393 - val_loss: 0.1960 - val_acc: 0.9265\n",
      "\n",
      "Epoch 00010: val_acc did not improve from 0.93541\n",
      "Epoch 11/200\n",
      "6400/6400 [==============================] - 28s 4ms/step - loss: 0.1741 - acc: 0.9341 - val_loss: 0.1801 - val_acc: 0.9329\n",
      "\n",
      "Epoch 00011: val_acc did not improve from 0.93541\n",
      "Epoch 12/200\n",
      "6400/6400 [==============================] - 29s 4ms/step - loss: 0.1645 - acc: 0.9392 - val_loss: 0.2363 - val_acc: 0.9138\n",
      "\n",
      "Epoch 00012: val_acc did not improve from 0.93541\n",
      "Epoch 13/200\n",
      "6400/6400 [==============================] - 28s 4ms/step - loss: 0.1554 - acc: 0.9430 - val_loss: 0.1843 - val_acc: 0.9389\n",
      "\n",
      "Epoch 00013: val_acc improved from 0.93541 to 0.93885, saving model to model/unet_best1.model\n",
      "Epoch 14/200\n",
      "6400/6400 [==============================] - 29s 5ms/step - loss: 0.1446 - acc: 0.9455 - val_loss: 0.1795 - val_acc: 0.9333\n",
      "\n",
      "Epoch 00014: val_acc did not improve from 0.93885\n",
      "Epoch 15/200\n",
      "6400/6400 [==============================] - 29s 4ms/step - loss: 0.1484 - acc: 0.9445 - val_loss: 0.1523 - val_acc: 0.9431\n",
      "\n",
      "Epoch 00015: val_acc improved from 0.93885 to 0.94314, saving model to model/unet_best1.model\n",
      "Epoch 16/200\n",
      "6400/6400 [==============================] - 29s 5ms/step - loss: 0.1409 - acc: 0.9469 - val_loss: 0.1822 - val_acc: 0.9339\n",
      "\n",
      "Epoch 00016: val_acc did not improve from 0.94314\n",
      "Epoch 17/200\n",
      "6400/6400 [==============================] - 28s 4ms/step - loss: 0.1418 - acc: 0.9452 - val_loss: 0.1566 - val_acc: 0.9397\n",
      "\n",
      "Epoch 00017: val_acc did not improve from 0.94314\n",
      "Epoch 18/200\n",
      "6400/6400 [==============================] - 28s 4ms/step - loss: 0.1347 - acc: 0.9489 - val_loss: 0.1939 - val_acc: 0.9295\n",
      "\n",
      "Epoch 00018: val_acc did not improve from 0.94314\n",
      "Epoch 19/200\n",
      "6400/6400 [==============================] - 28s 4ms/step - loss: 0.1352 - acc: 0.9499 - val_loss: 0.1501 - val_acc: 0.9410\n",
      "\n",
      "Epoch 00019: val_acc did not improve from 0.94314\n",
      "Epoch 20/200\n",
      "6400/6400 [==============================] - 28s 4ms/step - loss: 0.1310 - acc: 0.9513 - val_loss: 0.1828 - val_acc: 0.9395\n",
      "\n",
      "Epoch 00020: val_acc did not improve from 0.94314\n",
      "\n",
      "Epoch 00020: ReduceLROnPlateau reducing learning rate to 0.00020000000949949026.\n",
      "Epoch 21/200\n",
      "6400/6400 [==============================] - 30s 5ms/step - loss: 0.1134 - acc: 0.9570 - val_loss: 0.1337 - val_acc: 0.9514\n",
      "\n",
      "Epoch 00021: val_acc improved from 0.94314 to 0.95137, saving model to model/unet_best1.model\n",
      "Epoch 22/200\n",
      "6400/6400 [==============================] - 28s 4ms/step - loss: 0.1083 - acc: 0.9588 - val_loss: 0.1324 - val_acc: 0.9510\n",
      "\n",
      "Epoch 00022: val_acc did not improve from 0.95137\n",
      "Epoch 23/200\n",
      "6400/6400 [==============================] - 28s 4ms/step - loss: 0.1015 - acc: 0.9607 - val_loss: 0.1398 - val_acc: 0.9475\n",
      "\n",
      "Epoch 00023: val_acc did not improve from 0.95137\n",
      "Epoch 24/200\n",
      "6400/6400 [==============================] - 28s 4ms/step - loss: 0.1068 - acc: 0.9598 - val_loss: 0.1282 - val_acc: 0.9497\n",
      "\n",
      "Epoch 00024: val_acc did not improve from 0.95137\n",
      "Epoch 25/200\n",
      "6400/6400 [==============================] - 28s 4ms/step - loss: 0.1000 - acc: 0.9614 - val_loss: 0.1379 - val_acc: 0.9503\n",
      "\n",
      "Epoch 00025: val_acc did not improve from 0.95137\n",
      "Epoch 26/200\n",
      "6400/6400 [==============================] - 28s 4ms/step - loss: 0.0989 - acc: 0.9631 - val_loss: 0.1351 - val_acc: 0.9500\n",
      "\n",
      "Epoch 00026: val_acc did not improve from 0.95137\n",
      "\n",
      "Epoch 00026: ReduceLROnPlateau reducing learning rate to 4.0000001899898055e-05.\n",
      "Epoch 27/200\n",
      "6400/6400 [==============================] - 28s 4ms/step - loss: 0.0949 - acc: 0.9639 - val_loss: 0.1361 - val_acc: 0.9515\n",
      "\n",
      "Epoch 00027: val_acc improved from 0.95137 to 0.95146, saving model to model/unet_best1.model\n",
      "Epoch 28/200\n",
      "6400/6400 [==============================] - 29s 4ms/step - loss: 0.0942 - acc: 0.9640 - val_loss: 0.1383 - val_acc: 0.9504\n",
      "\n",
      "Epoch 00028: val_acc did not improve from 0.95146\n",
      "Epoch 29/200\n",
      "6400/6400 [==============================] - 28s 4ms/step - loss: 0.0953 - acc: 0.9638 - val_loss: 0.1319 - val_acc: 0.9509\n",
      "\n",
      "Epoch 00029: val_acc did not improve from 0.95146\n",
      "Epoch 30/200\n",
      "6400/6400 [==============================] - 28s 4ms/step - loss: 0.0910 - acc: 0.9656 - val_loss: 0.1328 - val_acc: 0.9506\n",
      "\n",
      "Epoch 00030: val_acc did not improve from 0.95146\n",
      "Epoch 31/200\n",
      "6400/6400 [==============================] - 29s 5ms/step - loss: 0.0900 - acc: 0.9665 - val_loss: 0.1389 - val_acc: 0.9491\n",
      "\n",
      "Epoch 00031: val_acc did not improve from 0.95146\n",
      "\n",
      "Epoch 00031: ReduceLROnPlateau reducing learning rate to 1e-05.\n",
      "Epoch 32/200\n",
      "6400/6400 [==============================] - 28s 4ms/step - loss: 0.0926 - acc: 0.9653 - val_loss: 0.1355 - val_acc: 0.9495\n",
      "\n",
      "Epoch 00032: val_acc did not improve from 0.95146\n",
      "Epoch 33/200\n",
      "6400/6400 [==============================] - 28s 4ms/step - loss: 0.0908 - acc: 0.9650 - val_loss: 0.1353 - val_acc: 0.9496\n",
      "\n",
      "Epoch 00033: val_acc did not improve from 0.95146\n",
      "Epoch 34/200\n",
      "6400/6400 [==============================] - 28s 4ms/step - loss: 0.0891 - acc: 0.9664 - val_loss: 0.1377 - val_acc: 0.9497\n",
      "\n",
      "Epoch 00034: val_acc did not improve from 0.95146\n",
      "Epoch 35/200\n",
      "6400/6400 [==============================] - 28s 4ms/step - loss: 0.0894 - acc: 0.9663 - val_loss: 0.1355 - val_acc: 0.9501\n",
      "\n",
      "Epoch 00035: val_acc did not improve from 0.95146\n",
      "Epoch 36/200\n",
      "6400/6400 [==============================] - 28s 4ms/step - loss: 0.0916 - acc: 0.9649 - val_loss: 0.1343 - val_acc: 0.9510\n",
      "\n",
      "Epoch 00036: val_acc did not improve from 0.95146\n",
      "Epoch 37/200\n",
      "6400/6400 [==============================] - 28s 4ms/step - loss: 0.0891 - acc: 0.9664 - val_loss: 0.1353 - val_acc: 0.9504\n",
      "\n",
      "Epoch 00037: val_acc did not improve from 0.95146\n",
      "Epoch 38/200\n",
      "6400/6400 [==============================] - 28s 4ms/step - loss: 0.0891 - acc: 0.9665 - val_loss: 0.1348 - val_acc: 0.9510\n",
      "\n",
      "Epoch 00038: val_acc did not improve from 0.95146\n",
      "Epoch 39/200\n",
      "6400/6400 [==============================] - 28s 4ms/step - loss: 0.0904 - acc: 0.9655 - val_loss: 0.1348 - val_acc: 0.9510\n",
      "\n",
      "Epoch 00039: val_acc did not improve from 0.95146\n",
      "Epoch 40/200\n",
      "6400/6400 [==============================] - 28s 4ms/step - loss: 0.0901 - acc: 0.9657 - val_loss: 0.1346 - val_acc: 0.9508\n",
      "\n",
      "Epoch 00040: val_acc did not improve from 0.95146\n",
      "Epoch 41/200\n"
     ]
    },
    {
     "name": "stdout",
     "output_type": "stream",
     "text": [
      "6400/6400 [==============================] - 28s 4ms/step - loss: 0.0924 - acc: 0.9650 - val_loss: 0.1330 - val_acc: 0.9510\n",
      "\n",
      "Epoch 00041: val_acc did not improve from 0.95146\n",
      "Epoch 42/200\n",
      "6400/6400 [==============================] - 29s 5ms/step - loss: 0.0901 - acc: 0.9663 - val_loss: 0.1338 - val_acc: 0.9511\n",
      "\n",
      "Epoch 00042: val_acc did not improve from 0.95146\n",
      "Epoch 43/200\n",
      "6400/6400 [==============================] - 28s 4ms/step - loss: 0.0896 - acc: 0.9660 - val_loss: 0.1334 - val_acc: 0.9507\n",
      "\n",
      "Epoch 00043: val_acc did not improve from 0.95146\n",
      "Epoch 44/200\n",
      "6400/6400 [==============================] - 28s 4ms/step - loss: 0.0883 - acc: 0.9670 - val_loss: 0.1358 - val_acc: 0.9510\n",
      "\n",
      "Epoch 00044: val_acc did not improve from 0.95146\n",
      "Epoch 45/200\n",
      "6400/6400 [==============================] - 28s 4ms/step - loss: 0.0887 - acc: 0.9664 - val_loss: 0.1354 - val_acc: 0.9509\n",
      "\n",
      "Epoch 00045: val_acc did not improve from 0.95146\n",
      "Epoch 46/200\n",
      "6400/6400 [==============================] - 28s 4ms/step - loss: 0.0889 - acc: 0.9660 - val_loss: 0.1346 - val_acc: 0.9509\n",
      "\n",
      "Epoch 00046: val_acc did not improve from 0.95146\n",
      "Epoch 47/200\n",
      "6400/6400 [==============================] - 28s 4ms/step - loss: 0.0884 - acc: 0.9664 - val_loss: 0.1357 - val_acc: 0.9509\n",
      "\n",
      "Epoch 00047: val_acc did not improve from 0.95146\n",
      "Epoch 00047: early stopping\n"
     ]
    }
   ],
   "source": [
    "early_stopping = EarlyStopping(monitor='val_acc', mode = 'max',patience=20, verbose=1)\n",
    "model_checkpoint = ModelCheckpoint(\"model/unet_best1.model\",monitor='val_acc', \n",
    "                                   mode = 'max', save_best_only=True, verbose=1)\n",
    "reduce_lr = ReduceLROnPlateau(monitor='val_acc', mode = 'max',factor=0.2, patience=5, min_lr=0.00001, verbose=1)\n",
    "#reduce_lr = ReduceLROnPlateau(factor=0.2, patience=5, min_lr=0.00001, verbose=1)\n",
    "\n",
    "epochs = 200\n",
    "batch_size = 32\n",
    "\n",
    "history = model.fit(x_train, y_train,\n",
    "                    validation_data=[x_valid, y_valid], \n",
    "                    epochs=epochs,\n",
    "                    batch_size=batch_size,\n",
    "                    callbacks=[early_stopping, model_checkpoint, reduce_lr], \n",
    "                    verbose=1)"
   ]
  },
  {
   "cell_type": "code",
   "execution_count": 19,
   "metadata": {
    "_uuid": "e423abdaf3c1a9bcd2d4fadf747adbf88a2f8e7c"
   },
   "outputs": [
    {
     "data": {
      "image/png": "[encoded data removed]",
      "text/plain": [
       "<Figure size 432x288 with 1 Axes>"
      ]
     },
     "metadata": {},
     "output_type": "display_data"
    }
   ],
   "source": [
    "import matplotlib.pyplot as plt\n",
    "# summarize history for loss\n",
    "plt.plot(history.history['acc'][1:])\n",
    "plt.plot(history.history['val_acc'][1:])\n",
    "plt.title('model loss')\n",
    "plt.ylabel('loss')\n",
    "plt.xlabel('epoch')\n",
    "plt.legend(['train','Validation'], loc='upper left')\n",
    "plt.show()"
   ]
  },
  {
   "cell_type": "code",
   "execution_count": 20,
   "metadata": {
    "_uuid": "2364b6f30430e87026d571f94a517bc3ba1020c7"
   },
   "outputs": [
    {
     "data": {
      "text/plain": [
       "[<matplotlib.lines.Line2D at 0x7f7f4e424fd0>]"
      ]
     },
     "execution_count": 20,
     "metadata": {},
     "output_type": "execute_result"
    },
    {
     "data": {
      "image/png": "[encoded data removed]",
      "text/plain": [
       "<Figure size 1080x360 with 2 Axes>"
      ]
     },
     "metadata": {},
     "output_type": "display_data"
    }
   ],
   "source": [
    "fig, (ax_loss, ax_acc) = plt.subplots(1, 2, figsize=(15,5))\n",
    "ax_loss.plot(history.epoch, history.history[\"loss\"], label=\"Train loss\")\n",
    "ax_loss.plot(history.epoch, history.history[\"val_loss\"], label=\"Validation loss\")"
   ]
  },
  {
   "cell_type": "code",
   "execution_count": 21,
   "metadata": {},
   "outputs": [],
   "source": [
    "model = load_model(\"model/unet_best1.model\")"
   ]
  },
  {
   "cell_type": "code",
   "execution_count": 22,
   "metadata": {},
   "outputs": [],
   "source": [
    "def predict_result(model,x_test,img_size_target): # predict both orginal and reflect x\n",
    "    preds_test = model.predict(x_test).reshape(-1, img_size_target, img_size_target)\n",
    "    preds_test += np.array([ np.fliplr(a) for a in model.predict(np.array([np.fliplr(x) for x in x_test])).reshape(-1, img_size_target, img_size_target)])\n",
    "    return preds_test/2.0\n",
    "\n",
    "preds_valid = predict_result(model,x_valid,img_size_target)"
   ]
  },
  {
   "cell_type": "code",
   "execution_count": 23,
   "metadata": {},
   "outputs": [
    {
     "data": {
      "application/vnd.jupyter.widget-view+json": {
       "model_id": "cb35bdf413f34740838eadfe52923784",
       "version_major": 2,
       "version_minor": 0
      },
      "text/plain": [
       "HBox(children=(IntProgress(value=0, max=31), HTML(value='')))"
      ]
     },
     "metadata": {},
     "output_type": "display_data"
    },
    {
     "name": "stdout",
     "output_type": "stream",
     "text": [
      "\n"
     ]
    }
   ],
   "source": [
    "def filter_image(img):\n",
    "    if img.sum() < 100:\n",
    "        return np.zeros(img.shape)\n",
    "    else:\n",
    "        return img\n",
    "\n",
    "## Scoring for last model\n",
    "thresholds = np.linspace(0.3, 0.7, 31)\n",
    "ious = np.array([iou_metric(y_valid.reshape((-1, img_size_target, img_size_target)), \\\n",
    "                            [filter_image(img) for img in preds_valid > threshold]) \\\n",
    "                 for threshold in tqdm_notebook(thresholds)])"
   ]
  },
  {
   "cell_type": "code",
   "execution_count": 24,
   "metadata": {},
   "outputs": [
    {
     "data": {
      "text/plain": [
       "<matplotlib.legend.Legend at 0x7f7f4f9374a8>"
      ]
     },
     "execution_count": 24,
     "metadata": {},
     "output_type": "execute_result"
    },
    {
     "data": {
      "image/png": "[encoded data removed]",
      "text/plain": [
       "<Figure size 432x288 with 1 Axes>"
      ]
     },
     "metadata": {},
     "output_type": "display_data"
    }
   ],
   "source": [
    "threshold_best_index = np.argmax(ious) \n",
    "iou_best = ious[threshold_best_index]\n",
    "threshold_best = thresholds[threshold_best_index]\n",
    "\n",
    "plt.plot(thresholds, ious)\n",
    "plt.plot(threshold_best, iou_best, \"xr\", label=\"Best threshold\")\n",
    "plt.xlabel(\"Threshold\")\n",
    "plt.ylabel(\"IoU\")\n",
    "plt.title(\"Threshold vs IoU ({}, {})\".format(threshold_best, iou_best))\n",
    "plt.legend()"
   ]
  },
  {
   "cell_type": "code",
   "execution_count": 25,
   "metadata": {},
   "outputs": [],
   "source": [
    "def rle_encode(im):\n",
    "    pixels = im.flatten(order = 'F')\n",
    "    pixels = np.concatenate([[0], pixels, [0]])\n",
    "    runs = np.where(pixels[1:] != pixels[:-1])[0] + 1\n",
    "    runs[1::2] -= runs[::2]\n",
    "    return ' '.join(str(x) for x in runs)"
   ]
  },
  {
   "cell_type": "code",
   "execution_count": 26,
   "metadata": {
    "_uuid": "a039d3ab584126b8947322a42d61c28a9e2970d7"
   },
   "outputs": [
    {
     "data": {
      "text/plain": [
       "136554"
      ]
     },
     "execution_count": 26,
     "metadata": {},
     "output_type": "execute_result"
    }
   ],
   "source": [
    "import gc\n",
    "\n",
    "del x_train, x_valid, y_train, y_valid, preds_valid\n",
    "gc.collect()"
   ]
  },
  {
   "cell_type": "code",
   "execution_count": 28,
   "metadata": {},
   "outputs": [
    {
     "data": {
      "application/vnd.jupyter.widget-view+json": {
       "model_id": "2110831de2bd4e88bedf42660ed1f644",
       "version_major": 2,
       "version_minor": 0
      },
      "text/plain": [
       "HBox(children=(IntProgress(value=0, max=18000), HTML(value='')))"
      ]
     },
     "metadata": {},
     "output_type": "display_data"
    }
   ],
   "source": [
    "x_test = np.array([(np.array(load_img(\"data/raw/test_images/images/{}.png\".format(idx), \\\n",
    "                                      color_mode = \"grayscale\"))) / 255 \\\n",
    "                   for idx in tqdm_notebook(test_df.index)]).reshape(-1, img_size_target, img_size_target, 1)\n",
    "\n",
    "preds_test = predict_result(model,x_test,img_size_target)"
   ]
  },
  {
   "cell_type": "code",
   "execution_count": 29,
   "metadata": {},
   "outputs": [
    {
     "data": {
      "application/vnd.jupyter.widget-view+json": {
       "model_id": "8192180ff1c943fb99b58f17c97b15c6",
       "version_major": 2,
       "version_minor": 0
      },
      "text/plain": [
       "HBox(children=(IntProgress(value=0, max=18000), HTML(value='')))"
      ]
     },
     "metadata": {},
     "output_type": "display_data"
    },
    {
     "name": "stdout",
     "output_type": "stream",
     "text": [
      "Usedtime = 2.4392123222351074 s\n"
     ]
    }
   ],
   "source": [
    "import time\n",
    "t1 = time.time()\n",
    "pred_dict = {idx: rle_encode(filter_image(preds_test[i] > threshold_best)) \\\n",
    "             for i, idx in enumerate(tqdm_notebook(test_df.index.values))}\n",
    "t2 = time.time()\n",
    "\n",
    "print(f\"Usedtime = {t2-t1} s\")"
   ]
  },
  {
   "cell_type": "code",
   "execution_count": 41,
   "metadata": {},
   "outputs": [],
   "source": [
    "sub = pd.DataFrame.from_dict(pred_dict,orient='index')\n",
    "sub = sub.reset_index().rename(columns={'index':'id', 0:'rle_mask'})\n",
    "sub.to_csv('submissions/0909_unet_v1.csv.gz', compression='gzip', index=False)"
   ]
  },
  {
   "cell_type": "code",
   "execution_count": 42,
   "metadata": {},
   "outputs": [
    {
     "data": {
      "text/html": [
       "<div>\n",
       "<style scoped>\n",
       "    .dataframe tbody tr th:only-of-type {\n",
       "        vertical-align: middle;\n",
       "    }\n",
       "\n",
       "    .dataframe tbody tr th {\n",
       "        vertical-align: top;\n",
       "    }\n",
       "\n",
       "    .dataframe thead th {\n",
       "        text-align: right;\n",
       "    }\n",
       "</style>\n",
       "<table border=\"1\" class=\"dataframe\">\n",
       "  <thead>\n",
       "    <tr style=\"text-align: right;\">\n",
       "      <th></th>\n",
       "      <th>id</th>\n",
       "      <th>rle_mask</th>\n",
       "    </tr>\n",
       "  </thead>\n",
       "  <tbody>\n",
       "    <tr>\n",
       "      <th>0</th>\n",
       "      <td>353e010b7b</td>\n",
       "      <td></td>\n",
       "    </tr>\n",
       "    <tr>\n",
       "      <th>1</th>\n",
       "      <td>5439dbbddf</td>\n",
       "      <td></td>\n",
       "    </tr>\n",
       "    <tr>\n",
       "      <th>2</th>\n",
       "      <td>71bab9f311</td>\n",
       "      <td></td>\n",
       "    </tr>\n",
       "    <tr>\n",
       "      <th>3</th>\n",
       "      <td>52551f7a80</td>\n",
       "      <td></td>\n",
       "    </tr>\n",
       "    <tr>\n",
       "      <th>4</th>\n",
       "      <td>512d8d9997</td>\n",
       "      <td>2946 4 3046 5 3147 7 3248 9 3349 11 3449 15 35...</td>\n",
       "    </tr>\n",
       "    <tr>\n",
       "      <th>5</th>\n",
       "      <td>64dba827d6</td>\n",
       "      <td></td>\n",
       "    </tr>\n",
       "    <tr>\n",
       "      <th>6</th>\n",
       "      <td>0a3a8a5f37</td>\n",
       "      <td></td>\n",
       "    </tr>\n",
       "    <tr>\n",
       "      <th>7</th>\n",
       "      <td>329563756f</td>\n",
       "      <td>1 5251 5253 98 5354 98 5455 97 5556 97 5657 96...</td>\n",
       "    </tr>\n",
       "    <tr>\n",
       "      <th>8</th>\n",
       "      <td>f6cba2e890</td>\n",
       "      <td></td>\n",
       "    </tr>\n",
       "    <tr>\n",
       "      <th>9</th>\n",
       "      <td>989c646373</td>\n",
       "      <td>1 4 14 1 37 6 54 20 102 1 104 3 113 3 139 5 15...</td>\n",
       "    </tr>\n",
       "  </tbody>\n",
       "</table>\n",
       "</div>"
      ],
      "text/plain": [
       "           id                                           rle_mask\n",
       "0  353e010b7b                                                   \n",
       "1  5439dbbddf                                                   \n",
       "2  71bab9f311                                                   \n",
       "3  52551f7a80                                                   \n",
       "4  512d8d9997  2946 4 3046 5 3147 7 3248 9 3349 11 3449 15 35...\n",
       "5  64dba827d6                                                   \n",
       "6  0a3a8a5f37                                                   \n",
       "7  329563756f  1 5251 5253 98 5354 98 5455 97 5556 97 5657 96...\n",
       "8  f6cba2e890                                                   \n",
       "9  989c646373  1 4 14 1 37 6 54 20 102 1 104 3 113 3 139 5 15..."
      ]
     },
     "execution_count": 42,
     "metadata": {},
     "output_type": "execute_result"
    }
   ],
   "source": [
    "sub.head(10)"
   ]
  },
  {
   "cell_type": "code",
   "execution_count": null,
   "metadata": {},
   "outputs": [],
   "source": []
  },
  {
   "cell_type": "code",
   "execution_count": null,
   "metadata": {
    "_uuid": "4860b256f0152e3de4ae5d65477bac70158c27a7",
    "scrolled": true
   },
   "outputs": [],
   "source": []
  },
  {
   "cell_type": "code",
   "execution_count": null,
   "metadata": {
    "_uuid": "27d621834cfbd994250809bb1b3e5259f43a1446"
   },
   "outputs": [],
   "source": []
  }
 ],
 "metadata": {
  "kernelspec": {
   "display_name": "Python 3",
   "language": "python",
   "name": "python3"
  },
  "language_info": {
   "codemirror_mode": {
    "name": "ipython",
    "version": 3
   },
   "file_extension": ".py",
   "mimetype": "text/x-python",
   "name": "python",
   "nbconvert_exporter": "python",
   "pygments_lexer": "ipython3",
   "version": "3.6.5"
  }
 },
 "nbformat": 4,
 "nbformat_minor": 1
}
